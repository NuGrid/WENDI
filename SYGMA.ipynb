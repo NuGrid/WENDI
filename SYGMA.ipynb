{
 "cells": [
  {
   "cell_type": "markdown",
   "metadata": {
    "collapsed": true
   },
   "source": [
    "# SYGMA web interface \n",
    "\n",
    "Usage: Just execute the first cell (click and Shift-Return or click play button above)"
   ]
  },
  {
   "cell_type": "code",
   "execution_count": 1,
   "metadata": {
    "scrolled": false
   },
   "outputs": [
    {
     "name": "stdout",
     "output_type": "stream",
     "text": [
      "Populating the interactive namespace from numpy and matplotlib\n"
     ]
    },
    {
     "data": {
      "application/vnd.jupyter.widget-view+json": {
       "model_id": "a676e2d3b4f34af2ae9d5970e305d3f7",
       "version_major": 2,
       "version_minor": 0
      },
      "text/html": [
       "<p>Failed to display Jupyter Widget of type <code>Box</code>.</p>\n",
       "<p>\n",
       "  If you're reading this message in Jupyter Notebook or JupyterLab, it may mean\n",
       "  that the widgets JavaScript is still loading. If this message persists, it\n",
       "  likely means that the widgets JavaScript library is either not installed or\n",
       "  not enabled. See the <a href=\"https://ipywidgets.readthedocs.io/en/stable/user_install.html\">Jupyter\n",
       "  Widgets Documentation</a> for setup instructions.\n",
       "</p>\n",
       "<p>\n",
       "  If you're reading this message in another notebook frontend (for example, a static\n",
       "  rendering on GitHub or <a href=\"https://nbviewer.jupyter.org/\">NBViewer</a>),\n",
       "  it may mean that your frontend doesn't currently support widgets.\n",
       "</p>\n"
      ],
      "text/plain": [
       "Box(children=(HBox(children=(Tab(children=(VBox(children=(HBox(children=(Text(value=u'1.0', description=u'Total stellar mass [$M_{\\\\odot}$]:', layout=Layout(border=u'0.5em LightGrey', margin=u'0.25em', visibility=u'visible', width=u'14em'), style=DescriptionStyle(description_width=u'initial')), Dropdown(description=u'Initial metallicity: ', layout=Layout(border=u'0.5em LightGrey', margin=u'0.25em', visibility=u'visible', width=u'14em'), options=('0.02', '0.01', '0.006', '0.001', '0.0001', '0.0'), style=DescriptionStyle(description_width=u'initial'), value='0.02')), layout=Layout(border=u'0em none', margin=u' 0em 0em 0em 0em', visibility=u'visible')), HBox(children=(Text(value=u'1.0e10', description=u'Final time [yr]: ', layout=Layout(border=u'0.5em LightGrey', margin=u'0.25em', visibility=u'visible', width=u'14em'), style=DescriptionStyle(description_width=u'initial')), Text(value=u'1.0e7', description=u'Time step [yr]: ', layout=Layout(border=u'0.5em LightGrey', margin=u'0.25em', visibility=u'visible', width=u'14em'), style=DescriptionStyle(description_width=u'initial'))), layout=Layout(border=u'0em none', margin=u' 0em 0em 0em 0em', visibility=u'visible')), HBox(children=(Dropdown(description=u'IMF type: ', layout=Layout(border=u'0.5em LightGrey', margin=u'0.25em', visibility=u'visible', width=u'14em'), options=('salpeter', 'chabrier', 'kroupa', 'alphaimf'), style=DescriptionStyle(description_width=u'initial'), value='salpeter'), FloatSlider(value=0.0, description=u'Set alpha: ', layout=Layout(border=u'0.5em LightGrey', margin=u'0.25em', visibility=u'hidden'), max=5.0)), layout=Layout(border=u'0em none', margin=u' 0em 0em 0em 0em', visibility=u'visible')), HBox(children=(Text(value=u'1.0', description=u'IMF lower limit [$M_{\\\\odot}$]: ', layout=Layout(border=u'0.5em LightGrey', margin=u'0.25em', visibility=u'visible', width=u'14em'), style=DescriptionStyle(description_width=u'initial')), Text(value=u'30.0', description=u'IMF upper limit [$M_{\\\\odot}$]: ', layout=Layout(border=u'0.5em LightGrey', margin=u'0.25em', visibility=u'visible', width=u'14em'), style=DescriptionStyle(description_width=u'initial'))), layout=Layout(border=u'0em none', margin=u' 0em 0em 0em 0em', visibility=u'visible')), HBox(children=(Checkbox(value=True, description=u'Include SNe Ia: ', layout=Layout(border=u'0.5em LightGrey', margin=u'0.25em', visibility=u'visible')), Dropdown(description=u'SNe Ia rates: ', layout=Layout(border=u'0.5em LightGrey', margin=u'0.25em', visibility=u'visible', width=u'14em'), options=('Power law', 'Exponential', 'Gaussian', 'Maoz12'), style=DescriptionStyle(description_width=u'initial'), value='Power law')), layout=Layout(border=u'0em none', margin=u' 0em 0em 0em 0em', visibility=u'visible')), HBox(children=(ToggleButtons(description=u'CCSN remnant prescription:', layout=Layout(border=u'0.5em LightGrey', margin=u'0.25em', visibility=u'visible'), options=('Analytic perscription', 'Ye=0.4982'), value='Analytic perscription'), Dropdown(layout=Layout(border=u'0.5em LightGrey', margin=u'0.25em', visibility=u'visible', width=u'14em'), options={'Delay': 'yield_tables/agb_and_massive_stars_nugrid_MESAonly_fryer12delay.txt', 'Mix': 'yield_tables/agb_and_massive_stars_nugrid_MESAonly_fryer12mix.txt', 'Rapid': 'yield_tables/agb_and_massive_stars_nugrid_MESAonly_fryer12rapid.txt'}, style=DescriptionStyle(description_width=u'initial'), value='yield_tables/agb_and_massive_stars_nugrid_MESAonly_fryer12delay.txt')), layout=Layout(border=u'0em none', margin=u' 0em 0em 0em 0em', visibility=u'visible')), HBox(children=(Button(description=u'Run simulation', layout=Layout(border=u'0.5em LightGrey', margin=u'0.25em', visibility=u'visible'), style=ButtonStyle(font_weight=u'bold')), Button(description=u'Remove selected', layout=Layout(border=u'0.5em LightGrey', margin=u'0.25em', visibility=u'visible'), style=ButtonStyle(font_weight=u'bold')), Text(value=u'', description=u'Run name: ', layout=Layout(border=u'0.5em LightGrey', margin=u'0.25em', visibility=u'visible', width=u'14em'), placeholder=u'Enter name', style=DescriptionStyle(description_width=u'initial'))), layout=Layout(border=u'0em none', margin=u' 0em 0em 0em 0em', visibility=u'visible')), HTML(value=u'<p>Simulation data loaded.</p>', layout=Layout(border=u'0em none', margin=u' 0em 0em 0em 0em', visibility=u'hidden'))), layout=Layout(border=u'0.5em', visibility=u'visible')), VBox(children=(HTML(value=u'<h3>Error: No simulation data!</h3>', layout=Layout(border=u'0em none', margin=u' 0em 0em 0em 0em', visibility=u'visible')), Dropdown(layout=Layout(border=u'0.5em LightGrey', margin=u'0.25em', visibility=u'hidden'), options=(), value=None), HTML(value=u'', layout=Layout(border=u'0em none', margin=u' 0em 0em 0em 0em', visibility=u'hidden')), HBox(children=(Dropdown(layout=Layout(border=u'0.5em LightGrey', margin=u'0.25em', visibility=u'hidden'), options=(), value=None), ToggleButton(value=False, description=u'Over plotting', layout=Layout(border=u'0.5em LightGrey', margin=u'0.25em', visibility=u'visible'), style=DescriptionStyle(description_width=u'initial')), Button(description=u'Clear plot', layout=Layout(border=u'0.5em LightGrey', margin=u'0.25em', visibility=u'visible'), style=ButtonStyle(font_weight=u'bold'))), layout=Layout(border=u'0.5em LightGrey', visibility=u'hidden')), VBox(children=(RadioButtons(description=u'species type: ', layout=Layout(border=u'0.5em LightGrey', margin=u'0.25em', visibility=u'visible'), options=('Elements', 'Isotopes'), value='Elements'), Select(description=u'Element: ', layout=Layout(border=u'0.5em LightGrey', margin=u'0.25em', visibility=u'visible', width=u'14em'), options=('H', 'He', 'Li', 'B', 'C', 'N', 'O', 'F', 'Ne', 'Na', 'Mg', 'Al', 'Si', 'P', 'Pb', 'S', 'Cl', 'Ar', 'K', 'Ca', 'Sc', 'Ti', 'V', 'Cr', 'Mn', 'Fe', 'Co', 'Ni', 'Cu', 'Zn', 'Ga', 'Ge', 'As', 'Se', 'Br', 'Kr', 'Rb', 'Sr', 'Y', 'Zr', 'Nb', 'Mo', 'Ru', 'Rh', 'Pd', 'Ag', 'Cd', 'In', 'Sn', 'Sb', 'Te', 'I', 'Xe', 'Cs', 'Ba', 'La', 'Ce', 'Pr', 'Nd', 'Sm', 'Eu', 'Gd', 'Tb', 'Dy', 'Ho', 'Er', 'Tm', 'Yb', 'Lu', 'Hf', 'Ta', 'W', 'Re', 'Os', 'Ir', 'Pt', 'Au', 'Hg', 'Tl', 'Bi'), style=DescriptionStyle(description_width=u'initial'), value='H')), layout=Layout(border=u'0.5em LightGrey', visibility=u'hidden')), Select(layout=Layout(border=u'0.5em LightGrey', margin=u'0.25em', visibility=u'hidden'), options=(), value=None), Select(layout=Layout(border=u'0.5em LightGrey', margin=u'0.25em', visibility=u'hidden'), options=(), value=None), Button(layout=Layout(border=u'0.5em LightGrey', margin=u'0.25em', visibility=u'hidden'), style=ButtonStyle())), layout=Layout(border=u'0.5em LightGrey', visibility=u'visible')), VBox(children=(HBox(children=(Button(layout=Layout(border=u'0.5em LightGrey', margin=u'0.25em', visibility=u'hidden'), style=ButtonStyle()), Dropdown(layout=Layout(border=u'0.5em LightGrey', margin=u'0.25em', visibility=u'hidden'), options=(), value=None), Text(value=u'', layout=Layout(border=u'0.5em LightGrey', margin=u'0.25em', visibility=u'hidden')), Button(layout=Layout(border=u'0.5em LightGrey', margin=u'0.25em', visibility=u'hidden'), style=ButtonStyle()), Button(layout=Layout(border=u'0.5em LightGrey', margin=u'0.25em', visibility=u'hidden'), style=ButtonStyle())), layout=Layout(border=u'0.5em LightGrey', visibility=u'visible', width=u'45em')), Textarea(value=u'', layout=Layout(border=u'0.5em LightGrey', margin=u'0.25em', visibility=u'visible')), Button(description=u'Test selected IMF', layout=Layout(border=u'0.5em LightGrey', margin=u'0.25em', visibility=u'visible'), style=ButtonStyle(font_weight=u'bold'))), layout=Layout(border=u'0.5em LightGrey', visibility=u'visible')), VBox(children=(HTML(value=u'<h3>Error: No simulation data!</h3>', layout=Layout(border=u'0em none', margin=u' 0em 0em 0em 0em', visibility=u'visible')), VBox(children=(RadioButtons(description=u'species type: ', layout=Layout(border=u'0.5em LightGrey', margin=u'0.25em', visibility=u'visible'), options=('Elements', 'Isotopes'), value='Elements'), SelectMultiple(description=u'Element: ', layout=Layout(border=u'0.5em LightGrey', margin=u'0.25em', visibility=u'visible', width=u'14em'), options=('All', 'H', 'He', 'Li', 'B', 'C', 'N', 'O', 'F', 'Ne', 'Na', 'Mg', 'Al', 'Si', 'P', 'Pb', 'S', 'Cl', 'Ar', 'K', 'Ca', 'Sc', 'Ti', 'V', 'Cr', 'Mn', 'Fe', 'Co', 'Ni', 'Cu', 'Zn', 'Ga', 'Ge', 'As', 'Se', 'Br', 'Kr', 'Rb', 'Sr', 'Y', 'Zr', 'Nb', 'Mo', 'Ru', 'Rh', 'Pd', 'Ag', 'Cd', 'In', 'Sn', 'Sb', 'Te', 'I', 'Xe', 'Cs', 'Ba', 'La', 'Ce', 'Pr', 'Nd', 'Sm', 'Eu', 'Gd', 'Tb', 'Dy', 'Ho', 'Er', 'Tm', 'Yb', 'Lu', 'Hf', 'Ta', 'W', 'Re', 'Os', 'Ir', 'Pt', 'Au', 'Hg', 'Tl', 'Bi'), style=DescriptionStyle(description_width=u'initial'), value=())), layout=Layout(border=u'0.5em LightGrey', visibility=u'hidden')), Button(layout=Layout(border=u'0.5em LightGrey', margin=u'0.25em', visibility=u'hidden'), style=ButtonStyle()), HTML(value=u'', layout=Layout(border=u'0.5em LightGrey', margin=u'0.25em', visibility=u'hidden'))), layout=Layout(border=u'0.5em LightGrey', visibility=u'visible'))), layout=Layout(border=u'0em none', margin=u' 0em 0em 0em 0em', visibility=u'visible'), _titles={u'1': 'Plotting', u'0': 'Simulation', u'3': 'Download Tables', u'2': 'Custom IMF'}), VBox(children=(HTML(value=u'<center><h2>Runs</h2></center>', layout=Layout(border=u'0em none', margin=u'0em 0em 0em 0em', visibility=u'visible')),), layout=Layout(border=u'0em none', margin=u'0em 0em 0em 0em', visibility=u'visible'))), layout=Layout(border=u'0em none', margin=u' 0em 0em 0em 0em', visibility=u'visible')),), layout=Layout(border=u'0em none', margin=u' 0em 0em 0em 0em', visibility=u'visible'))"
      ]
     },
     "metadata": {},
     "output_type": "display_data"
    }
   ],
   "source": [
    "from SYGMA import start_SYGMA\n",
    "%pylab nbagg\n",
    "start_SYGMA()"
   ]
  },
  {
   "cell_type": "code",
   "execution_count": null,
   "metadata": {
    "collapsed": true
   },
   "outputs": [],
   "source": []
  }
 ],
 "metadata": {
  "kernelspec": {
   "display_name": "Python 2",
   "language": "python",
   "name": "python2"
  },
  "language_info": {
   "codemirror_mode": {
    "name": "ipython",
    "version": 2
   },
   "file_extension": ".py",
   "mimetype": "text/x-python",
   "name": "python",
   "nbconvert_exporter": "python",
   "pygments_lexer": "ipython2",
   "version": "2.7.12"
  }
 },
 "nbformat": 4,
 "nbformat_minor": 1
}
