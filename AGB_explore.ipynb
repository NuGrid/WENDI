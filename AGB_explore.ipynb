{
 "metadata": {
  "name": "",
  "signature": "sha256:247cd55830abade4c238231558cd9bcfde5ef85c9eea06da1f2d2b97ed47e301"
 },
 "nbformat": 3,
 "nbformat_minor": 0,
 "worksheets": [
  {
   "cells": [
    {
     "cell_type": "markdown",
     "metadata": {},
     "source": [
      "#How ipython notebooks work\n",
      "\n",
      "If you have never used an ipython notebook, then here are the few basic rules you need to know:\n",
      "\n",
      "* each cell is a block of code or comments (in markdown, see pull-down menu above)\n",
      "* in each cell you can edit code, several lines using the `Return` key to create a newline\n",
      "* once you are happy with a block of code use the _play_ button above, or just hit `Shift`-`Return` to execute the block of code"
     ]
    },
    {
     "cell_type": "markdown",
     "metadata": {},
     "source": [
      "Explore a NuGrid AGB star model in iPython Notebook\n",
      "==================================================="
     ]
    },
    {
     "cell_type": "markdown",
     "metadata": {},
     "source": [
      "Initialise the 2 solar-mass Z=0.02 MESA stellar evolution model from set1.2 using the seeker method:"
     ]
    },
    {
     "cell_type": "code",
     "collapsed": false,
     "input": [
      "s=ms.star_log(mass=2,Z=0.02)"
     ],
     "language": "python",
     "metadata": {},
     "outputs": [
      {
       "output_type": "stream",
       "stream": "stdout",
       "text": [
        "nugrid_path = /tmp/nugrid\n",
        "closest set is set1.2 (Z = 0.02)\n",
        "closest mass is 1.0"
       ]
      },
      {
       "output_type": "stream",
       "stream": "stdout",
       "text": [
        "\n",
        "Using old star.logsa file ..."
       ]
      },
      {
       "output_type": "stream",
       "stream": "stdout",
       "text": [
        "\n"
       ]
      },
      {
       "output_type": "stream",
       "stream": "stdout",
       "text": [
        "\r",
        " reading ...5%"
       ]
      },
      {
       "output_type": "stream",
       "stream": "stdout",
       "text": [
        "\r",
        " reading ...10%"
       ]
      },
      {
       "output_type": "stream",
       "stream": "stdout",
       "text": [
        "\r",
        " reading ...15%"
       ]
      },
      {
       "output_type": "stream",
       "stream": "stdout",
       "text": [
        "\r",
        " reading ...20%"
       ]
      },
      {
       "output_type": "stream",
       "stream": "stdout",
       "text": [
        "\r",
        " reading ...25%"
       ]
      },
      {
       "output_type": "stream",
       "stream": "stdout",
       "text": [
        "\r",
        " reading ...30%"
       ]
      },
      {
       "output_type": "stream",
       "stream": "stdout",
       "text": [
        "\r",
        " reading ...35%"
       ]
      },
      {
       "output_type": "stream",
       "stream": "stdout",
       "text": [
        "\r",
        " reading ...40%"
       ]
      },
      {
       "output_type": "stream",
       "stream": "stdout",
       "text": [
        "\r",
        " reading ...45%"
       ]
      },
      {
       "output_type": "stream",
       "stream": "stdout",
       "text": [
        "\r",
        " reading ...50%"
       ]
      },
      {
       "output_type": "stream",
       "stream": "stdout",
       "text": [
        "\r",
        " reading ...55%"
       ]
      },
      {
       "output_type": "stream",
       "stream": "stdout",
       "text": [
        "\r",
        " reading ...60%"
       ]
      },
      {
       "output_type": "stream",
       "stream": "stdout",
       "text": [
        "\r",
        " reading ...65%"
       ]
      },
      {
       "output_type": "stream",
       "stream": "stdout",
       "text": [
        "\r",
        " reading ...70%"
       ]
      },
      {
       "output_type": "stream",
       "stream": "stdout",
       "text": [
        "\r",
        " reading ...75%"
       ]
      },
      {
       "output_type": "stream",
       "stream": "stdout",
       "text": [
        "\r",
        " reading ...80%"
       ]
      },
      {
       "output_type": "stream",
       "stream": "stdout",
       "text": [
        "\r",
        " reading ...85%"
       ]
      },
      {
       "output_type": "stream",
       "stream": "stdout",
       "text": [
        "\r",
        " reading ...90%"
       ]
      },
      {
       "output_type": "stream",
       "stream": "stdout",
       "text": [
        "\r",
        " reading ...95%"
       ]
      },
      {
       "output_type": "stream",
       "stream": "stdout",
       "text": [
        "\r",
        " reading ...100% \n",
        "\n"
       ]
      }
     ],
     "prompt_number": 3
    },
    {
     "cell_type": "markdown",
     "metadata": {},
     "source": [
      "Let's now see what the model looks like by making some Kippenhahn diagrams"
     ]
    },
    {
     "cell_type": "code",
     "collapsed": false,
     "input": [
      "s.kippenhahn_CO(1,'model')"
     ],
     "language": "python",
     "metadata": {},
     "outputs": []
    },
    {
     "cell_type": "markdown",
     "metadata": {},
     "source": [
      "What's happening at the centre of the star? ..."
     ]
    },
    {
     "cell_type": "code",
     "collapsed": false,
     "input": [
      "s.tcrhoc()\n",
      "axis([0,7,7,8.5])"
     ],
     "language": "python",
     "metadata": {},
     "outputs": []
    },
    {
     "cell_type": "markdown",
     "metadata": {},
     "source": [
      "... and at the surface?"
     ]
    },
    {
     "cell_type": "code",
     "collapsed": false,
     "input": [
      "s.hrd_new()\n",
      "legend(loc='lower right').draw_frame(False)"
     ],
     "language": "python",
     "metadata": {},
     "outputs": []
    },
    {
     "cell_type": "code",
     "collapsed": false,
     "input": [
      "s.kip_cont(modstart=26800,modstop=27800,ylims=[0.54,0.6],engenPlus=False)"
     ],
     "language": "python",
     "metadata": {},
     "outputs": []
    },
    {
     "cell_type": "markdown",
     "metadata": {},
     "source": [
      "Initialise the 2 solar-mass Z=0.02 NuGrid nucleosynthesis data from set1.2 using the seeker method:"
     ]
    },
    {
     "cell_type": "code",
     "collapsed": false,
     "input": [
      "pt=mp.se(mass=2,Z=0.02)"
     ],
     "language": "python",
     "metadata": {},
     "outputs": []
    },
    {
     "cell_type": "markdown",
     "metadata": {},
     "source": [
      "Let's pretend that from another notebook or plot that we know the cycles between which the model experiences a thermal pulse and interpulse:"
     ]
    },
    {
     "cell_type": "code",
     "collapsed": false,
     "input": [
      "cycs=range(26100,27100,20)"
     ],
     "language": "python",
     "metadata": {},
     "outputs": []
    },
    {
     "cell_type": "markdown",
     "metadata": {},
     "source": [
      "and the nuclides that are being created or destroyed in this part of the star:"
     ]
    },
    {
     "cell_type": "code",
     "collapsed": false,
     "input": [
      "species=['H-1','He-4','C-12','C-13','N-14','O-16','Ba-138']"
     ],
     "language": "python",
     "metadata": {},
     "outputs": []
    },
    {
     "cell_type": "markdown",
     "metadata": {},
     "source": [
      "In this region of the star, we have produced a thin layer of $^{13}{\\rm C}$. There are also $\\alpha$-particles in this layer that are being captured by the $^{13}{\\rm C}$. Neutrons are released by the reaction $^{13}{\\rm C}(\\alpha,n)^{16}{\\rm O}$ and successive captures of these neutrons by heavier seed nuelci such as iron build the heavy elements, e.g. $^{138}{\\rm Ba}$.\n",
      "\n",
      "Now let's make an abundance-profile movie for the isotopes listed in **`species`** for cycles **`cycs`** so that we can see this happening in the model:"
     ]
    },
    {
     "cell_type": "code",
     "collapsed": false,
     "input": [
      "pt.movie(cycs,plotstyle='plot',x_item='mass',\n",
      "         y_items=species,logy=True,xlims=(0.5764,0.5775),\n",
      "         ylims=(-10,0.),interval=100,legend=True,loc='lower right')"
     ],
     "language": "python",
     "metadata": {},
     "outputs": []
    },
    {
     "cell_type": "markdown",
     "metadata": {},
     "source": [
      "Here's an iso_abund movie of the main s-process component being produced in the region where Ba-138 is shown to be produced in the abundance profile movie above:"
     ]
    },
    {
     "cell_type": "code",
     "collapsed": false,
     "input": [
      "pt.movie(cycs,plotstyle='iso_abund',\n",
      "         amass_range=[50,160],mass_range=[0.5768,0.5769])"
     ],
     "language": "python",
     "metadata": {},
     "outputs": []
    },
    {
     "cell_type": "markdown",
     "metadata": {},
     "source": [
      "We can also see the impact on the isotopic abundance chart for that part of the star:"
     ]
    },
    {
     "cell_type": "code",
     "collapsed": false,
     "input": [
      "pt.movie(cycs,plotstyle='abu_chart',\n",
      "                mass_range=[0.5768,0.5769],plotaxis=[0, 80, 0, 60],\n",
      "                ilabel=False,imlabel=False,boxstable=False)"
     ],
     "language": "python",
     "metadata": {},
     "outputs": []
    },
    {
     "cell_type": "markdown",
     "metadata": {},
     "source": [
      "You can extract the trajectory and initial abundances from this model at the key mass coordinate for use in a 1-zone PPN simulation in order to study, for example, the impact of a new rate"
     ]
    },
    {
     "cell_type": "code",
     "collapsed": false,
     "input": [
      "pt.abund_at_masscoorinate(26100,0.57685,online=True)"
     ],
     "language": "python",
     "metadata": {},
     "outputs": []
    },
    {
     "cell_type": "code",
     "collapsed": false,
     "input": [],
     "language": "python",
     "metadata": {},
     "outputs": []
    }
   ],
   "metadata": {}
  }
 ]
}