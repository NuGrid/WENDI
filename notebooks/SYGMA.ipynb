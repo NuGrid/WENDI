{
 "cells": [
  {
   "cell_type": "code",
   "execution_count": null,
   "metadata": {
    "collapsed": false
   },
   "outputs": [],
   "source": [
    "import sys,os\n",
    "sys.path.insert(1,'/home/nugrid/omega_sygma/')\n",
    "os.environ[\"SYGMADIR\"] = \"/home/nugrid/omega_sygma/\"\n",
    "import matplotlib\n",
    "%matplotlib inline\n",
    "\n",
    "from modules.SYGMA import start_SYGMA"
   ]
  },
  {
   "cell_type": "code",
   "execution_count": null,
   "metadata": {
    "collapsed": false
   },
   "outputs": [],
   "source": [
    "import sys,os\n",
    "sys.path.insert(1,'/rpod3/lsiemens/omega_sygma/')\n",
    "os.environ[\"SYGMADIR\"] = \"/rpod3/lsiemens/omega_sygma/\"\n",
    "import matplotlib\n",
    "%matplotlib inline\n",
    "\n",
    "from modules.SYGMA import start_SYGMA"
   ]
  },
  {
   "cell_type": "code",
   "execution_count": null,
   "metadata": {
    "collapsed": false,
    "scrolled": true
   },
   "outputs": [],
   "source": [
    "start_SYGMA()"
   ]
  },
  {
   "cell_type": "code",
   "execution_count": null,
   "metadata": {
    "collapsed": true
   },
   "outputs": [],
   "source": []
  }
 ],
 "metadata": {
  "kernelspec": {
   "display_name": "Python 2",
   "language": "python",
   "name": "python2"
  },
  "language_info": {
   "codemirror_mode": {
    "name": "ipython",
    "version": 2
   },
   "file_extension": ".py",
   "mimetype": "text/x-python",
   "name": "python",
   "nbconvert_exporter": "python",
   "pygments_lexer": "ipython2",
   "version": "2.7.5"
  }
 },
 "nbformat": 4,
 "nbformat_minor": 0
}
