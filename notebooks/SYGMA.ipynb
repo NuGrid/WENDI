{
 "cells": [
  {
   "cell_type": "markdown",
   "metadata": {},
   "source": [
    "# SYGMA web interface\n",
    "\n",
    "Usage: Just execute the first cell (click and Shift-Return or click play button above)"
   ]
  },
  {
   "cell_type": "code",
   "execution_count": null,
   "metadata": {
          "init_cell": true,
          "scrolled": false
      },
   "outputs": [],
   "source": [
    "start_SYGMA()"
   ]
  }
 ],
 "metadata": {
  "kernelspec": {
   "display_name": "Python 2",
   "language": "python",
   "name": "python2"
  },
  "language_info": {
   "codemirror_mode": {
    "name": "ipython",
    "version": 2
   },
   "file_extension": ".py",
   "mimetype": "text/x-python",
   "name": "python",
   "nbconvert_exporter": "python",
   "pygments_lexer": "ipython2",
   "version": "2.7.12"
  }
 },
 "nbformat": 4,
 "nbformat_minor": 2
}
