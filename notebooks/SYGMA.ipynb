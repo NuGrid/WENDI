{
 "cells": [
  {
   "cell_type": "code",
   "execution_count": 5,
   "metadata": {},
   "outputs": [
    {
     "name": "stdout",
     "output_type": "stream",
     "text": [
      "Populating the interactive namespace from numpy and matplotlib\n"
     ]
    }
   ],
   "source": [
    "#This cell will be executed outside of this notebook\n",
    "from nugridpy import nugridse as mp\n",
    "from nugridpy import mesa as ms\n",
    "from nb_tools import *\n",
    "from JSAnimation import IPython_display\n",
    "#from NuGrid_Mesa_Explorer import start_explorer\n",
    "from SYGMA import start_SYGMA\n",
    "#from OMEGA import start_OMEGA\n",
    "#mp.set_nugrid_path('/home/nugrid/CADC/NuGrid')\n",
    "#ms.set_nugrid_path('/home/nugrid/CADC/NuGrid')\n",
    "%pylab nbagg"
   ]
  },
  {
   "cell_type": "markdown",
   "metadata": {
    "collapsed": true
   },
   "source": [
    "# SYGMA web interface \n",
    "\n",
    "Usage: Just execute the first cell (click and Shift-Return or click play button above)"
   ]
  },
  {
   "cell_type": "code",
   "execution_count": 3,
   "metadata": {
    "scrolled": false
   },
   "outputs": [
    {
     "data": {
      "application/vnd.jupyter.widget-view+json": {
       "model_id": "ee3f585fca3b484598675268dd54e913",
       "version_major": 2,
       "version_minor": 0
      },
      "text/plain": [
       "A Jupyter Widget"
      ]
     },
     "metadata": {},
     "output_type": "display_data"
    }
   ],
   "source": [
    "start_SYGMA()"
   ]
  }
 ],
 "metadata": {
  "kernelspec": {
   "display_name": "Python [conda env:py277]",
   "language": "python",
   "name": "conda-env-py277-py"
  },
  "language_info": {
   "codemirror_mode": {
    "name": "ipython",
    "version": 2
   },
   "file_extension": ".py",
   "mimetype": "text/x-python",
   "name": "python",
   "nbconvert_exporter": "python",
   "pygments_lexer": "ipython2",
   "version": "2.7.13"
  }
 },
 "nbformat": 4,
 "nbformat_minor": 1
}
