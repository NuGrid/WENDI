{
 "cells": [
  {
   "cell_type": "code",
   "execution_count": null,
   "metadata": {
    "collapsed": false
   },
   "outputs": [],
   "source": [
    "!git clone https://bitbucket.com/critter1/omega_sygma.git /home/nugrid/omega_sygma"
   ]
  },
  {
   "cell_type": "code",
   "execution_count": null,
   "metadata": {
    "collapsed": false
   },
   "outputs": [],
   "source": [
    "import sys,os\n",
    "sys.path.insert(1,'/home/nugrid/omega_sygma/')\n",
    "os.environ[\"SYGMADIR\"] = \"/home/nugrid/omega_sygma/\"\n",
    "import matplotlib\n",
    "%matplotlib inline\n",
    "\n",
    "from modules.SYGMA import start_SYGMA"
   ]
  },
  {
   "cell_type": "code",
   "execution_count": null,
   "metadata": {
    "collapsed": false,
    "scrolled": true
   },
   "outputs": [],
   "source": [
    "import sys,os\n",
    "#sys.path.insert(1,'/rpod3/lsiemens/omega_sygma/')\n",
    "#os.environ[\"SYGMADIR\"] = \"/rpod3/lsiemens/omega_sygma/\"\n",
    "#Christian: change to test latest version because above commands do not work\n",
    "sys.path.insert(1,'/nfs/rpod3/critter/Notebooks/SYGMA/OMEGA_SYGMA')\n",
    "os.environ[\"SYGMADIR\"] = \"/nfs/rpod3/critter/Notebooks/SYGMA/OMEGA_SYGMA\"\n",
    "import matplotlib\n",
    "%matplotlib inline\n",
    "\n",
    "from modules.SYGMA import start_SYGMA"
   ]
  },
  {
   "cell_type": "code",
   "execution_count": null,
   "metadata": {
    "collapsed": false,
    "scrolled": false
   },
   "outputs": [],
   "source": [
    "start_SYGMA()"
   ]
  },
  {
   "cell_type": "code",
   "execution_count": null,
   "metadata": {
    "collapsed": true
   },
   "outputs": [],
   "source": []
  }
 ],
 "metadata": {
  "kernelspec": {
   "display_name": "Python 2",
   "language": "python",
   "name": "python2"
  },
  "language_info": {
   "codemirror_mode": {
    "name": "ipython",
    "version": 2
   },
   "file_extension": ".py",
   "mimetype": "text/x-python",
   "name": "python",
   "nbconvert_exporter": "python",
   "pygments_lexer": "ipython2",
   "version": "2.7.5"
  }
 },
 "nbformat": 4,
 "nbformat_minor": 0
}
