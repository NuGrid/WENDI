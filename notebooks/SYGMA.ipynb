{
 "cells": [
  {
   "cell_type": "code",
   "execution_count": null,
   "metadata": {
    "collapsed": false
   },
   "outputs": [],
   "source": [
    "import sys,os\n",
    "sys.path.insert(1,'/rpod3/lsiemens/offline_OMEGA_SYGMA/OMEGA_SYGMA_critter')\n",
    "os.environ[\"SYGMADIR\"] = \"/rpod3/lsiemens/offline_OMEGA_SYGMA/OMEGA_SYGMA_critter\"\n",
    "import matplotlib\n",
    "#matplotlib.use('nbagg')\n",
    "%matplotlib nbagg\n",
    "import sygma as s\n",
    "\n",
    "import modules.widget_framework as framework\n",
    "from IPython.html import widgets\n",
    "from IPython.display import display, clear_output\n",
    "from matplotlib import pyplot\n",
    "reload (framework)"
   ]
  },
  {
   "cell_type": "code",
   "execution_count": null,
   "metadata": {
    "collapsed": true
   },
   "outputs": [],
   "source": [
    "frame = framework.framework()\n",
    "frame.set_default_display_style(padding=\"0.25em\")\n",
    "frame.set_default_io_style(padding=\"0.25em\", margin=\"0.25em\")"
   ]
  },
  {
   "cell_type": "code",
   "execution_count": null,
   "metadata": {
    "collapsed": true
   },
   "outputs": [],
   "source": [
    "states = [\"run_sim\", \"plot_totmasses\", \"plot_mass\", \"plot_spectro\", \"plot_mass_range_contributions\"]\n",
    "\n",
    "frame.add_state(states)"
   ]
  },
  {
   "cell_type": "code",
   "execution_count": null,
   "metadata": {
    "collapsed": false
   },
   "outputs": [],
   "source": [
    "frame.add_display_object(\"window\")\n",
    "frame.add_io_object(\"title\")\n",
    "frame.add_display_object(\"widget\")\n",
    "\n",
    "###Sim page###\n",
    "frame.add_display_object(\"sim_page\")\n",
    "\n",
    "frame.add_io_object(\"init_Z\")\n",
    "\n",
    "frame.add_display_object(\"time_group\")\n",
    "frame.add_io_object(\"t_end\")\n",
    "frame.add_io_object(\"dt\")\n",
    "\n",
    "frame.add_display_object(\"imf_type_group\")\n",
    "frame.add_io_object(\"imf_type\")\n",
    "frame.add_io_object(\"imf_alpha\")\n",
    "\n",
    "frame.add_io_object(\"imf_mass_lim\")\n",
    "\n",
    "frame.add_display_object(\"sn1a_group\")\n",
    "frame.add_io_object(\"use_sn1a\")\n",
    "frame.add_io_object(\"sn1a_rates\")\n",
    "frame.add_io_object(\"run_sim\")\n",
    "\n",
    "frame.add_io_object(\"plot_type\")\n",
    "\n",
    "frame.set_state_children(\"window\", [\"title\", \"widget\"])\n",
    "frame.set_state_children(\"widget\", [\"sim_page\"], titles=[\"Simulation\"])\n",
    "frame.set_state_children(\"sim_page\", [\"init_Z\", \"time_group\", \"imf_type_group\", \"imf_mass_lim\", \"sn1a_group\", \"run_sim\", \"plot_type\"])\n",
    "frame.set_state_children(\"time_group\", [\"t_end\", \"dt\"])\n",
    "frame.set_state_children(\"imf_type_group\", [\"imf_type\", \"imf_alpha\"])\n",
    "frame.set_state_children(\"sn1a_group\", [\"use_sn1a\", \"sn1a_rates\"])"
   ]
  },
  {
   "cell_type": "code",
   "execution_count": null,
   "metadata": {
    "collapsed": false
   },
   "outputs": [],
   "source": [
    "frame.set_state_attribute('window', visible=True)\n",
    "frame.set_state_attribute('title', visible=True, value=\"<h1>SYGMA<h1>\")\n",
    "frame.set_state_attribute('widget', visible=True)\n",
    "\n",
    "frame.set_state_attribute('sim_page', visible=True)\n",
    "frame.set_state_attribute('init_Z', visible=True, description=\"Set inital Z: \", options=[\"0.0\", \"0.0001\", \"0.006\", \"0.01\", \"0.02\"])\n",
    "\n",
    "frame.set_state_attribute('time_group', visible=True)\n",
    "frame.set_state_attribute('t_end', visible=True, description=\"Set duration: \", value=1.0e10)\n",
    "frame.set_state_attribute('dt', visible=True, description=\"Set time step: \", value=1.0e7)\n",
    "\n",
    "frame.set_state_attribute('imf_type_group', visible=True)\n",
    "frame.set_state_attribute('imf_type', visible=True, description=\"IMF type: \", options=['salpeter', 'chabrier', 'kroupa', 'alphaimf'])\n",
    "frame.set_state_attribute('imf_alpha', description=\"Set alpha: \", value=2.35)\n",
    "\n",
    "frame.set_state_attribute('imf_mass_lim', visible=True, description=\"IMF mass limits: \", min=0.1, max=100, value=(1, 30), step=0.1)\n",
    "\n",
    "frame.set_state_attribute('sn1a_group', visible=True)\n",
    "frame.set_state_attribute('use_sn1a', visible=True, description=\"Include SNe Ia: \")\n",
    "frame.set_state_links(\"sn1a_link\", [(\"use_sn1a\", \"value\"), (\"sn1a_rates\", \"visible\")], directional=True)\n",
    "\n",
    "frame.set_state_attribute('sn1a_rates', description=\"SNe Ia rates: \", options=['maoz', 'wiersmaexp', 'wiersmagauss', 'power_law'])\n",
    "\n",
    "frame.set_state_attribute('run_sim', visible=True, description=\"Run simulation\")\n",
    "\n",
    "frame.set_state_attribute('plot_type', visible=True, disabled=True, description=\"Plot type: \")\n",
    "\n",
    "\n",
    "def sel_imf_type(widget, value):\n",
    "    if value==\"alphaimf\":\n",
    "        frame.set_attributes(\"imf_alpha\", visible=True)\n",
    "    else:\n",
    "        frame.set_attributes(\"imf_alpha\", visible=False)\n",
    "        \n",
    "frame.set_state_callbacks(\"imf_type\", sel_imf_type)\n",
    "\n",
    "frame.set_object(\"window\", widgets.Box())\n",
    "frame.set_object(\"title\", widgets.HTML())\n",
    "frame.set_object(\"widget\", widgets.Tab())\n",
    "\n",
    "frame.set_object(\"sim_page\", widgets.VBox())\n",
    "frame.set_object(\"init_Z\", widgets.Dropdown())\n",
    "\n",
    "frame.set_object(\"time_group\", widgets.HBox())\n",
    "frame.set_object(\"t_end\", widgets.FloatText())\n",
    "frame.set_object(\"dt\", widgets.FloatText())\n",
    "\n",
    "frame.set_object(\"imf_type_group\", widgets.HBox())\n",
    "frame.set_object(\"imf_type\", widgets.Dropdown())\n",
    "frame.set_object(\"imf_alpha\", widgets.FloatSlider())\n",
    "\n",
    "frame.set_object(\"imf_mass_lim\", widgets.FloatRangeSlider())\n",
    "\n",
    "frame.set_object(\"sn1a_group\", widgets.HBox())\n",
    "frame.set_object(\"use_sn1a\", widgets.Checkbox())\n",
    "frame.set_object(\"sn1a_rates\", widgets.Dropdown())\n",
    "\n",
    "frame.set_object(\"run_sim\", widgets.Button())\n",
    "\n",
    "frame.set_object(\"plot_type\", widgets.Dropdown())\n"
   ]
  },
  {
   "cell_type": "code",
   "execution_count": null,
   "metadata": {
    "collapsed": false
   },
   "outputs": [],
   "source": [
    "frame.display_object(\"window\")"
   ]
  },
  {
   "cell_type": "code",
   "execution_count": null,
   "metadata": {
    "collapsed": true
   },
   "outputs": [],
   "source": []
  }
 ],
 "metadata": {
  "kernelspec": {
   "display_name": "Python 2",
   "language": "python",
   "name": "python2"
  },
  "language_info": {
   "codemirror_mode": {
    "name": "ipython",
    "version": 2
   },
   "file_extension": ".py",
   "mimetype": "text/x-python",
   "name": "python",
   "nbconvert_exporter": "python",
   "pygments_lexer": "ipython2",
   "version": "2.7.5"
  }
 },
 "nbformat": 4,
 "nbformat_minor": 0
}
