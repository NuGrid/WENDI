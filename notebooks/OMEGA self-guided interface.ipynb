{
 "cells": [
  {
   "cell_type": "markdown",
   "metadata": {
    "collapsed": true
   },
   "source": [
    "# OMEGA web interface \n",
    "\n",
    "Usage: Just execute the first cell (click and Shift-Return or click play button above)"
   ]
  },
  {
   "cell_type": "code",
   "execution_count": 2,
   "metadata": {
    "scrolled": false
   },
   "outputs": [
    {
     "data": {
      "application/vnd.jupyter.widget-view+json": {
       "model_id": "3b69160d900646089c709be7fa405c76",
       "version_major": 2,
       "version_minor": 0
      },
      "text/html": [
       "<p>Failed to display Jupyter Widget of type <code>VBox</code>.</p>\n",
       "<p>\n",
       "  If you're reading this message in Jupyter Notebook or JupyterLab, it may mean\n",
       "  that the widgets JavaScript is still loading. If this message persists, it\n",
       "  likely means that the widgets JavaScript library is either not installed or\n",
       "  not enabled. See the <a href=\"https://ipywidgets.readthedocs.io/en/stable/user_install.html\">Jupyter\n",
       "  Widgets Documentation</a> for setup instructions.\n",
       "</p>\n",
       "<p>\n",
       "  If you're reading this message in another notebook frontend (for example, a static\n",
       "  rendering on GitHub or <a href=\"https://nbviewer.jupyter.org/\">NBViewer</a>),\n",
       "  it may mean that your frontend doesn't currently support widgets.\n",
       "</p>\n"
      ],
      "text/plain": [
       "VBox(children=(HTML(value=u'<center><h1>OMEGA</h1></center>', layout=Layout(border=u'0.5em LightGrey', margin=u'0.25em', visibility=u'visible')), VBox(children=(Tab(children=(VBox(children=(HBox(children=(FloatSlider(value=0.001, description=u'Baryon fraction: ', layout=Layout(border=u'0.5em LightGrey', margin=u'0.25em', visibility=u'visible'), max=0.1, min=5e-05, step=5e-05, style=SliderStyle(description_width=u'initial')), Text(value=u'', description=u'Run name: ', layout=Layout(border=u'0.5em LightGrey', margin=u'0.25em', visibility=u'visible', width=u'14em'), placeholder=u'Enter name', style=DescriptionStyle(description_width=u'initial'))), layout=Layout(border=u'0em none', margin=u' 0em 0em 0em 0em', visibility=u'visible')), Text(value=u'10.0', description=u'Mass loading factor: ', layout=Layout(border=u'0.5em LightGrey', margin=u'0.25em', visibility=u'visible', width=u'14em'), style=DescriptionStyle(description_width=u'initial')), Text(value=u'2.0e-3', description=u'SNe Ia per stellar mass formed: ', layout=Layout(border=u'0.5em LightGrey', margin=u'0.25em', visibility=u'visible', width=u'20em'), style=DescriptionStyle(description_width=u'initial')), HBox(children=(Button(button_style=u'info', description=u'Run simulation', layout=Layout(border=u'0.5em LightGrey', margin=u'0.25em', visibility=u'visible'), style=ButtonStyle(font_weight=u'bold')), Button(button_style=u'info', description=u'Remove run', layout=Layout(border=u'0.5em LightGrey', margin=u'0.25em', visibility=u'visible'), style=ButtonStyle(font_weight=u'bold'))), layout=Layout(border=u'0em none', margin=u' 0em 0em 0em 0em', visibility=u'visible'))), layout=Layout(border=u'0.5em', visibility=u'visible')), VBox(children=(HBox(children=(FloatSlider(value=0.001, description=u'Baryon fraction: ', layout=Layout(border=u'0.5em LightGrey', margin=u'0.25em', visibility=u'visible'), max=0.1, min=5e-05, step=5e-05, style=SliderStyle(description_width=u'initial')), Text(value=u'', description=u'Run name: ', layout=Layout(border=u'0.5em LightGrey', margin=u'0.25em', visibility=u'visible', width=u'14em'), placeholder=u'Enter name', style=DescriptionStyle(description_width=u'initial'))), layout=Layout(border=u'0em none', margin=u' 0em 0em 0em 0em', visibility=u'visible')), Text(value=u'10.0', description=u'Mass loading factor: ', layout=Layout(border=u'0.5em LightGrey', margin=u'0.25em', visibility=u'visible', width=u'14em'), style=DescriptionStyle(description_width=u'initial')), Text(value=u'2.0e-3', description=u'SNe Ia per stellar mass formed: ', layout=Layout(border=u'0.5em LightGrey', margin=u'0.25em', visibility=u'visible', width=u'20em'), style=DescriptionStyle(description_width=u'initial')), HBox(children=(Button(button_style=u'info', description=u'Run simulation', layout=Layout(border=u'0.5em LightGrey', margin=u'0.25em', visibility=u'visible'), style=ButtonStyle(font_weight=u'bold')), Button(button_style=u'info', description=u'Remove run', layout=Layout(border=u'0.5em LightGrey', margin=u'0.25em', visibility=u'visible'), style=ButtonStyle(font_weight=u'bold'))), layout=Layout(border=u'0em none', margin=u' 0em 0em 0em 0em', visibility=u'visible'))), layout=Layout(border=u'0.5em LightGrey', visibility=u'visible')), VBox(children=(HBox(children=(FloatSlider(value=0.001, description=u'Baryon fraction: ', layout=Layout(border=u'0.5em LightGrey', margin=u'0.25em', visibility=u'visible'), max=0.1, min=5e-05, step=5e-05, style=SliderStyle(description_width=u'initial')), Text(value=u'', description=u'Run name: ', layout=Layout(border=u'0.5em LightGrey', margin=u'0.25em', visibility=u'visible', width=u'14em'), placeholder=u'Enter name', style=DescriptionStyle(description_width=u'initial'))), layout=Layout(border=u'0em none', margin=u' 0em 0em 0em 0em', visibility=u'visible')), Text(value=u'10.0', description=u'Mass loading factor: ', layout=Layout(border=u'0.5em LightGrey', margin=u'0.25em', visibility=u'visible', width=u'14em'), style=DescriptionStyle(description_width=u'initial')), Text(value=u'2.0e-3', description=u'SNe Ia per stellar mass formed: ', layout=Layout(border=u'0.5em LightGrey', margin=u'0.25em', visibility=u'visible', width=u'20em'), style=DescriptionStyle(description_width=u'initial')), HBox(children=(Button(button_style=u'info', description=u'Run simulation', layout=Layout(border=u'0.5em LightGrey', margin=u'0.25em', visibility=u'visible'), style=ButtonStyle(font_weight=u'bold')), Button(button_style=u'info', description=u'Remove run', layout=Layout(border=u'0.5em LightGrey', margin=u'0.25em', visibility=u'visible'), style=ButtonStyle(font_weight=u'bold'))), layout=Layout(border=u'0em none', margin=u' 0em 0em 0em 0em', visibility=u'visible'))), layout=Layout(border=u'0.5em LightGrey', visibility=u'visible'))), layout=Layout(border=u'0em none', margin=u' 0em 0em 0em 0em', visibility=u'visible'), _titles={u'1': 'Carina Galaxy', u'0': 'Sculptor Galaxy', u'2': 'Fornax Galaxy'}), HBox(children=(VBox(children=(HTML(value=u'<h3>Plotting options</h3>', layout=Layout(border=u'0em none', margin=u' 0em 0em 0em 0em', visibility=u'visible')), Dropdown(description=u'Select Element: ', layout=Layout(border=u'0.5em LightGrey', margin=u'0.25em', visibility=u'visible', width=u'14em'), options=('Mg', 'Si', 'Ca', 'Ti'), style=DescriptionStyle(description_width=u'initial'), value='Mg'), Button(description=u'Generate Plot', layout=Layout(border=u'0.5em LightGrey', margin=u'0.25em', visibility=u'visible'), style=ButtonStyle(font_weight=u'bold')), HTML(value=u'<h3>Error no runs selected!</h3>', layout=Layout(border=u'0em none', margin=u' 0em 0em 0em 0em', visibility=u'hidden'))), layout=Layout(border=u'0.5em LightGrey', visibility=u'visible')), VBox(children=(HTML(value=u'<h3>Runs</h3>', layout=Layout(border=u'0em none', margin=u' 0em 0em 0em 0em', visibility=u'visible')),), layout=Layout(border=u'0.5em LightGrey', visibility=u'visible'))), layout=Layout(border=u'0em none', margin=u' 0em 0em 0em 0em', visibility=u'visible'))), layout=Layout(border=u'0em none', margin=u' 0em 0em 0em 0em', visibility=u'visible'))), layout=Layout(border=u'0em none', margin=u' 0em 0em 0em 0em', visibility=u'visible'))"
      ]
     },
     "metadata": {},
     "output_type": "display_data"
    },
    {
     "name": "stdout",
     "output_type": "stream",
     "text": [
      "OMEGA run in progress..\n"
     ]
    }
   ],
   "source": [
    "start_OMEGA()"
   ]
  },
  {
   "cell_type": "code",
   "execution_count": null,
   "metadata": {},
   "outputs": [],
   "source": []
  }
 ],
 "metadata": {
  "kernelspec": {
   "display_name": "Python 2",
   "language": "python",
   "name": "python2"
  },
  "language_info": {
   "codemirror_mode": {
    "name": "ipython",
    "version": 2
   },
   "file_extension": ".py",
   "mimetype": "text/x-python",
   "name": "python",
   "nbconvert_exporter": "python",
   "pygments_lexer": "ipython2",
   "version": "2.7.12"
  }
 },
 "nbformat": 4,
 "nbformat_minor": 1
}
