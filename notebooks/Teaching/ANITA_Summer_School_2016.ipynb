{
 "cells": [
  {
   "cell_type": "markdown",
   "metadata": {
    "collapsed": true
   },
   "source": [
    "# ANITA summer school 2016"
   ]
  },
  {
   "cell_type": "markdown",
   "metadata": {},
   "source": [
    "### Demonstration of NuGrid capabilities."
   ]
  },
  {
   "cell_type": "code",
   "execution_count": null,
   "metadata": {
    "collapsed": true
   },
   "outputs": [],
   "source": [
    "import matplotlib.pyplot as plt\n",
    "import sygma\n",
    "import omega\n",
    "import stellab"
   ]
  },
  {
   "cell_type": "code",
   "execution_count": null,
   "metadata": {
    "collapsed": false
   },
   "outputs": [],
   "source": [
    "#loading the observational data module STELLAB\n",
    "stellab = stellab.stellab()"
   ]
  },
  {
   "cell_type": "markdown",
   "metadata": {},
   "source": [
    "## Simulation of the Milky Way with OMEGA"
   ]
  },
  {
   "cell_type": "code",
   "execution_count": null,
   "metadata": {
    "collapsed": false
   },
   "outputs": [],
   "source": [
    "# OMEGA parameters for MW\n",
    "mass_loading = 1     # How much mass is ejected from the galaxy per stellar mass formed\n",
    "nb_1a_per_m = 3.0e-3  # Number of SNe Ia per stellar mass formed\n",
    "sfe = 0.005           # Star formation efficiency, which sets the mass of gas\n",
    "table = 'yield_tables/isotope_yield_table_MESA_only_ye.txt' # Yields for AGB and massive stars\n",
    "#milky_way\n",
    "\n",
    "o_mw = omega.omega(galaxy='milky_way',Z_trans=-1, table=table,sfe=sfe, DM_evolution=True,\\\n",
    "                  mass_loading=mass_loading, nb_1a_per_m=nb_1a_per_m, special_timesteps=60)"
   ]
  },
  {
   "cell_type": "markdown",
   "metadata": {},
   "source": [
    "# Tracing the origin of C"
   ]
  },
  {
   "cell_type": "code",
   "execution_count": null,
   "metadata": {
    "collapsed": false
   },
   "outputs": [],
   "source": [
    "# Choose abundance ratios\n",
    "%matplotlib nbagg\n",
    "xaxis = '[Fe/H]'\n",
    "yaxis = '[C/Fe]'\n",
    "\n",
    "# Plot observational data points (Stellab)\n",
    "stellab.plot_spectro(xaxis=xaxis, yaxis=yaxis,norm='Grevesse_Noels_1993',galaxy='milky_way',show_err=False)\n",
    "\n",
    "# Extract the numerical predictions (OMEGA)\n",
    "xy_f = o_mw.plot_spectro(fig=3,xaxis=xaxis,yaxis=yaxis,return_x_y=True)\n",
    "\n",
    "# Overplot the numerical predictions (they are normalized according to Grevesse & Noels 1993)\n",
    "plt.plot(xy_f[0],xy_f[1],linewidth=4,color='w')\n",
    "plt.plot(xy_f[0],xy_f[1],linewidth=2,color='k',label='OMEGA')\n",
    "\n",
    "# Update the existing legend\n",
    "plt.legend(loc='center left', bbox_to_anchor=(1.01, 0.5), markerscale=0.8, fontsize=13)\n",
    "\n",
    "# Choose X and Y limits\n",
    "plt.xlim(-4.5,0.5)\n",
    "plt.ylim(-1.4,1.6)"
   ]
  },
  {
   "cell_type": "markdown",
   "metadata": {
    "collapsed": true
   },
   "source": [
    "# Investigation of simple stellar populations with SYGMA."
   ]
  },
  {
   "cell_type": "code",
   "execution_count": null,
   "metadata": {
    "collapsed": false
   },
   "outputs": [],
   "source": [
    "s0p0001=sygma.sygma(iniZ=0.0001)\n",
    "s0p006=sygma.sygma(iniZ=0.006)"
   ]
  },
  {
   "cell_type": "markdown",
   "metadata": {},
   "source": [
    "## What is [C/Fe] for two SSPs at Z=0.006 and Z=0.0001?"
   ]
  },
  {
   "cell_type": "code",
   "execution_count": null,
   "metadata": {
    "collapsed": false
   },
   "outputs": [],
   "source": [
    "elem='[C/Fe]'\n",
    "s0p0001.plot_spectro(fig=3,yaxis=elem,marker='D',color='b',label='Z=0.0001')\n",
    "s0p006.plot_spectro(fig=3,yaxis=elem,label='Z=0.006')"
   ]
  },
  {
   "cell_type": "markdown",
   "metadata": {},
   "source": [
    "## Now lets focus on C. What is the evolution of the total mass of C?"
   ]
  },
  {
   "cell_type": "code",
   "execution_count": null,
   "metadata": {
    "collapsed": false
   },
   "outputs": [],
   "source": [
    "# Plot the ejected mass of a certain element\n",
    "elem='C'\n",
    "s0p0001.plot_mass(fig=4,specie=elem,marker='D',color='b',label='Z=0.0001')\n",
    "s0p006.plot_mass(fig=4,specie=elem,label='Z=0.006')"
   ]
  },
  {
   "cell_type": "markdown",
   "metadata": {},
   "source": [
    "## Which stars contribute the most to C?"
   ]
  },
  {
   "cell_type": "code",
   "execution_count": null,
   "metadata": {
    "collapsed": false
   },
   "outputs": [],
   "source": [
    "elem='C'\n",
    "s0p0001.plot_mass_range_contributions(specie=elem,marker='D',color='b',label='Z=0.0001')\n",
    "s0p006.plot_mass_range_contributions(specie=elem,label='Z=0.006')"
   ]
  },
  {
   "cell_type": "markdown",
   "metadata": {},
   "source": [
    "## What is the actual yield input?"
   ]
  },
  {
   "cell_type": "code",
   "execution_count": null,
   "metadata": {
    "collapsed": false
   },
   "outputs": [],
   "source": [
    "s0p0001.plot_yield_input(fig=6,iniZ=0.0001,table='yield_tables/isotope_yield_table.txt',yaxis='C-12',\n",
    "                         masses=[1.0, 1.65, 2.0, 3.0, 4.0, 5.0, 6.0, 7.0],marker='D',color='b',)\n",
    "s0p006.plot_yield_input(fig=6,iniZ=0.006,table='yield_tables/isotope_yield_table.txt',yaxis='C-12',\n",
    "                         masses=[1.0, 1.65, 2.0, 3.0, 4.0, 5.0, 6.0, 7.0])"
   ]
  },
  {
   "cell_type": "markdown",
   "metadata": {},
   "source": [
    "##  The stellar track"
   ]
  },
  {
   "cell_type": "code",
   "execution_count": null,
   "metadata": {
    "collapsed": true
   },
   "outputs": [],
   "source": [
    "import nugridse as mp\n",
    "import mesa as ms\n",
    "import matplotlib.pyplot as plt"
   ]
  },
  {
   "cell_type": "code",
   "execution_count": null,
   "metadata": {
    "collapsed": false
   },
   "outputs": [],
   "source": [
    "s=ms.star_log(mass=2,Z=0.0001)"
   ]
  },
  {
   "cell_type": "code",
   "execution_count": null,
   "metadata": {
    "collapsed": true
   },
   "outputs": [],
   "source": [
    "s.kip_cont(ifig=111,ixaxis='model_number')"
   ]
  },
  {
   "cell_type": "markdown",
   "metadata": {},
   "source": [
    "### The surface abundance evolution"
   ]
  },
  {
   "cell_type": "code",
   "execution_count": null,
   "metadata": {
    "collapsed": true
   },
   "outputs": [],
   "source": [
    "sefiles=mp.se(mass=2.0,Z=0.0001,output='surf')"
   ]
  },
  {
   "cell_type": "code",
   "execution_count": null,
   "metadata": {
    "collapsed": true
   },
   "outputs": [],
   "source": [
    "cycles=sefiles.se.cycles\n",
    "cycles1=[cycles[k] for k in range(1,53000,1000)]\n",
    "c12=sefiles.get(cycles1,'C-12')"
   ]
  },
  {
   "cell_type": "code",
   "execution_count": null,
   "metadata": {
    "collapsed": true
   },
   "outputs": [],
   "source": [
    "plt.figure(33);plt.plot(cycles1,c12)\n",
    "plt.xlabel('')"
   ]
  }
 ],
 "metadata": {
  "kernelspec": {
   "display_name": "Python 2",
   "language": "python",
   "name": "python2"
  },
  "language_info": {
   "codemirror_mode": {
    "name": "ipython",
    "version": 2
   },
   "file_extension": ".py",
   "mimetype": "text/x-python",
   "name": "python",
   "nbconvert_exporter": "python",
   "pygments_lexer": "ipython2",
   "version": "2.7.9"
  }
 },
 "nbformat": 4,
 "nbformat_minor": 0
}
