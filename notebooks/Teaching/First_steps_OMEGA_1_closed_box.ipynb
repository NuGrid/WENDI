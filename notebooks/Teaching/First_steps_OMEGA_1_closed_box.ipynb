{
 "cells": [
  {
   "cell_type": "markdown",
   "metadata": {},
   "source": [
    "# First steps with OMEGA - Closed box"
   ]
  },
  {
   "cell_type": "markdown",
   "metadata": {},
   "source": [
    "Prepared by Benoit Côté.  If you have any question, please contact Benoit Côté at <bcote@uvic.ca> or Christian Ritter at <critter@uvic.ca>.\n",
    "\n",
    "A closed box in chemical evolution refers to a gas reservoir which does not exchange matter with its surrounding.  There is nothing coming out of the box, and nothing coming in the box.  The star formation and the enrichment process therefore take place inside an isolate environment.  This notebook presents the basics input parameters that can modify your chemical evolution predictions."
   ]
  },
  {
   "cell_type": "code",
   "execution_count": null,
   "metadata": {
    "collapsed": false
   },
   "outputs": [],
   "source": [
    "# Python packages\n",
    "%matplotlib nbagg\n",
    "import matplotlib\n",
    "import matplotlib.pyplot as plt\n",
    "#import seaborn as sns\n",
    "import numpy as np\n",
    "#sns.reset_orig()\n",
    "\n",
    "# Shared class between SYGMA and OMEGA\n",
    "import chem_evol\n",
    "reload(chem_evol)\n",
    "\n",
    "# One-zone galactic chemical evolution code\n",
    "import omega\n",
    "reload(omega)"
   ]
  },
  {
   "cell_type": "markdown",
   "metadata": {},
   "source": [
    "## 1. Initial mass of the gas reservoir"
   ]
  },
  {
   "cell_type": "markdown",
   "metadata": {},
   "source": [
    "The mass of gas plays a crucial role in chemical evolution, as it sets the concentration of metals at each timestep.  For example, for a fixed star formation history, a smaller gas reservoir will lead to a faster enrichment.  In the following examples, we assume a primordial gas composition (only H, He, and Li)."
   ]
  },
  {
   "cell_type": "code",
   "execution_count": null,
   "metadata": {
    "collapsed": false
   },
   "outputs": [],
   "source": [
    "# Run OMEGA simulations.\n",
    "# Constant star formation rate, \"cte_sfr\", of 1 Msun/yr\n",
    "# with different gas reservoir, \"mgal\", in units of solar mass.\n",
    "o_res_1e10 = omega.omega(cte_sfr=1.0, mgal=1e10)\n",
    "o_res_1e11 = omega.omega(cte_sfr=1.0, mgal=1e11)\n",
    "o_res_1e12 = omega.omega(cte_sfr=1.0, mgal=1e12)"
   ]
  },
  {
   "cell_type": "markdown",
   "metadata": {},
   "source": [
    "In the plot below, we can see with the blue line that star formation slowly consumes the galactic gas.  Even if stars eject matter, a fraction of the original stellar mass will always be locked in stellar remnants (white dwarfs, neutron stars, black holes). This feature, however, is not visible when the mass of gas reservoir is very large (red line), compared to the total stellar mass formed."
   ]
  },
  {
   "cell_type": "code",
   "execution_count": null,
   "metadata": {
    "collapsed": false
   },
   "outputs": [],
   "source": [
    "# Plot the total mass of the gas reservoir as a function of time.\n",
    "%matplotlib nbagg\n",
    "o_res_1e12.plot_totmasses(color='r', label='M_res = 1e12 Msun')\n",
    "o_res_1e11.plot_totmasses(color='g', label='M_res = 1e11 Msun')\n",
    "o_res_1e10.plot_totmasses(color='b', label='M_res = 1e10 Msun')\n",
    "plt.ylim(1e9, 2e12)"
   ]
  },
  {
   "cell_type": "markdown",
   "metadata": {},
   "source": [
    "### 1.1. Evolution of the Fe concentration"
   ]
  },
  {
   "cell_type": "markdown",
   "metadata": {},
   "source": [
    "[Fe/H] is often used as a proxi for time in galactic chemical evolution studies.  But the relation between [Fe/H] and galactic age is not linear, as seen in the plot below."
   ]
  },
  {
   "cell_type": "code",
   "execution_count": null,
   "metadata": {
    "collapsed": false
   },
   "outputs": [],
   "source": [
    "# Plot the iron concentration of the gas reservoir as a function of time\n",
    "%matplotlib nbagg\n",
    "yaxis = '[Fe/H]'\n",
    "o_res_1e12.plot_spectro(yaxis=yaxis, color='r', label='M_res = 1e12 Msun', shape='-.')\n",
    "o_res_1e11.plot_spectro(yaxis=yaxis, color='g', label='M_res = 1e11 Msun', shape='--')\n",
    "o_res_1e10.plot_spectro(yaxis=yaxis, color='b', label='M_res = 1e10 Msun', shape='-')\n",
    "#plt.xscale('log')"
   ]
  },
  {
   "cell_type": "markdown",
   "metadata": {},
   "source": [
    "### 1.2. Evolution of chemical abundances"
   ]
  },
  {
   "cell_type": "markdown",
   "metadata": {},
   "source": [
    "Although the mass of gas plays a significant role in the evolution of [Fe/H], the abundances provided by stellar yields are still similar from one case to another, as shown below."
   ]
  },
  {
   "cell_type": "code",
   "execution_count": null,
   "metadata": {
    "collapsed": false
   },
   "outputs": [],
   "source": [
    "# Plot the Si to Fe abundances of the gas reservoir as a function of time (you can try different elements).\n",
    "%matplotlib nbagg\n",
    "xaxis = 'age'\n",
    "yaxis = '[Si/Fe]'\n",
    "o_res_1e12.plot_spectro(xaxis=xaxis, yaxis=yaxis, color='r', label='mgal = 1e12 Msun', shape='-.')\n",
    "o_res_1e11.plot_spectro(xaxis=xaxis, yaxis=yaxis, color='g', label='mgal = 1e11 Msun', shape='--')\n",
    "o_res_1e10.plot_spectro(xaxis=xaxis, yaxis=yaxis, color='b', label='mgal = 1e10 Msun', shape='-')"
   ]
  },
  {
   "cell_type": "markdown",
   "metadata": {},
   "source": [
    "In the [X/Fe] vs [Fe/H] space, **scaling up and down the mass of gas shifts the predictions on the [Fe/H] axis**, almost like a pure translation, as shown below."
   ]
  },
  {
   "cell_type": "code",
   "execution_count": null,
   "metadata": {
    "collapsed": false
   },
   "outputs": [],
   "source": [
    "# Plot the Si to Fe abundances of the gas reservoir as a function of [Fe/H]\n",
    "%matplotlib nbagg\n",
    "yaxis = '[Si/Fe]'\n",
    "xaxis = '[Fe/H]'\n",
    "o_res_1e12.plot_spectro(xaxis=xaxis, yaxis=yaxis, color='r', label='mgal = 1e12 Msun', shape='-.')\n",
    "o_res_1e11.plot_spectro(xaxis=xaxis, yaxis=yaxis, color='g', label='mgal = 1e11 Msun', shape='--')\n",
    "o_res_1e10.plot_spectro(xaxis=xaxis, yaxis=yaxis, color='b', label='mgal = 1e10 Msun', shape='-')\n",
    "plt.ylim(-0.2, 2.5)"
   ]
  },
  {
   "cell_type": "markdown",
   "metadata": {},
   "source": [
    "## 2. Number of Type Ia supernovae"
   ]
  },
  {
   "cell_type": "markdown",
   "metadata": {},
   "source": [
    "SNe Ia can eject a significant amount of Fe.  In the [X/Fe] vs [Fe/H] space, if SNe Ia do not eject significantly the element X compared to core-collapse SNe (CC SNe) or AGB stars, increasing the number of SNe Ia will increase your final Fe abundances without modifying the element X.  In other words, [X/Fe] will decrease, but [Fe/H] will increase."
   ]
  },
  {
   "cell_type": "code",
   "execution_count": null,
   "metadata": {
    "collapsed": false
   },
   "outputs": [],
   "source": [
    "# Run OMEGA simulations\n",
    "# Different numbers of SNe Ia per stellar mass, \"nb_1a_per_m\",\n",
    "# formed in each simple stellar population (SYGMA). Here, we use\n",
    "# the same gas reservoir to isolate the impact of \"nb_1a_per_m\".\n",
    "o_res_1e10_low_Ia  = omega.omega(cte_sfr=1.0, mgal=1e10, nb_1a_per_m=1.0e-4)\n",
    "o_res_1e10         = omega.omega(cte_sfr=1.0, mgal=1e10, nb_1a_per_m=1.0e-3)\n",
    "o_res_1e10_high_Ia = omega.omega(cte_sfr=1.0, mgal=1e10, nb_1a_per_m=1.0e-2)"
   ]
  },
  {
   "cell_type": "markdown",
   "metadata": {},
   "source": [
    "As seen in the above below, SNe Ia only appear at [Fe/H] = -2.5 in our case.  Below this [Fe/H] value, the predictions are mainly driven by the ejecta of massive stars, which have short lifetimes compared to SN Ia progenitor stars."
   ]
  },
  {
   "cell_type": "code",
   "execution_count": null,
   "metadata": {
    "collapsed": false
   },
   "outputs": [],
   "source": [
    "# Plot the iron concentration of the gas reservoir as a function of time\n",
    "%matplotlib nbagg\n",
    "xaxis = '[Fe/H]'\n",
    "yaxis = '[Si/Fe]'\n",
    "o_res_1e10_low_Ia.plot_spectro( xaxis=xaxis, yaxis=yaxis, color='g', label='nb_1a_per_m = 1e-4', shape='-.')\n",
    "o_res_1e10.plot_spectro(        xaxis=xaxis, yaxis=yaxis, color='r', label='nb_1a_per_m = 1e-3', shape='--')\n",
    "o_res_1e10_high_Ia.plot_spectro(xaxis=xaxis, yaxis=yaxis, color='b', label='nb_1a_per_m = 1e-2', shape='-')"
   ]
  },
  {
   "cell_type": "markdown",
   "metadata": {},
   "source": [
    "The plot below shows the contribution of SNe Ia, AGB stars, and massive stars in the Fe content of the gas reservoir (one-zone version of the interstellar medium), using different values for *nb_1a_per_m*."
   ]
  },
  {
   "cell_type": "code",
   "execution_count": null,
   "metadata": {
    "collapsed": false
   },
   "outputs": [],
   "source": [
    "%matplotlib nbagg\n",
    "# Plot the mass of Fe present inside the gas reservoir as a function of time.\n",
    "specie = 'Fe'\n",
    "\n",
    "# Contribution of SNe Ia.\n",
    "o_res_1e10_low_Ia.plot_mass( specie=specie, color='g', label='SNe Ia, nb_1a_per_m = 1e-4', source='sn1a')\n",
    "o_res_1e10.plot_mass(        specie=specie, color='r', label='SNe Ia, nb_1a_per_m = 1e-3', source='sn1a')\n",
    "o_res_1e10_high_Ia.plot_mass(specie=specie, color='b', label='SNe Ia, nb_1a_per_m = 1e-2', source='sn1a')\n",
    "\n",
    "# Contribution of massive (winds+SNe) and AGB stars.\n",
    "o_res_1e10.plot_mass(specie=specie, color='k', label='Massive stars', source='massive', shape='-')\n",
    "o_res_1e10.plot_mass(specie=specie, color='k', label='AGB stars',     source='agb',    shape='--')\n",
    "# You can drop the 'source' argument to plot the sum the contribution of all stars."
   ]
  },
  {
   "cell_type": "markdown",
   "metadata": {},
   "source": [
    "As shown above, SNe Ia appear after 50 Myr of evolution, regardless of the total number of SNe Ia.  However, **their contribution to the chemical evolution will not be noticable until they start to overcome the contribution of massive stars**, which is around 200 Myr for the blue line.  The plot below shows the evolution of [Fe/H] using different total numbers of SNe Ia."
   ]
  },
  {
   "cell_type": "code",
   "execution_count": null,
   "metadata": {
    "collapsed": false
   },
   "outputs": [],
   "source": [
    "%matplotlib nbagg\n",
    "# Plot the evolution of [Fe/H] as a function of time.\n",
    "yaxis = '[Fe/H]'\n",
    "o_res_1e10_low_Ia.plot_spectro( yaxis=yaxis, color='g', label='nb_1a_per_m = 1e-4', shape='-.')\n",
    "o_res_1e10.plot_spectro(        yaxis=yaxis, color='r', label='nb_1a_per_m = 1e-3', shape='--')\n",
    "o_res_1e10_high_Ia.plot_spectro(yaxis=yaxis, color='b', label='nb_1a_per_m = 1e-2', shape='-')\n",
    "plt.xscale('log')"
   ]
  },
  {
   "cell_type": "markdown",
   "metadata": {},
   "source": [
    "The reason why the green and red lines are so similar is because CC SNe are dominating the Fe ejection, as opposed to the blue line case.  Different chemical evolution studies typically assume $\\sim[1-2]\\times10^{-3}$ SN Ia per stellar mass formed."
   ]
  },
  {
   "cell_type": "markdown",
   "metadata": {},
   "source": [
    "## 3. Star formation history"
   ]
  },
  {
   "cell_type": "markdown",
   "metadata": {},
   "source": [
    "The star formation history (SFH) sets how many stars are formed as a function of time.  Modifying the SFH can change the chemical enrichment timescale."
   ]
  },
  {
   "cell_type": "markdown",
   "metadata": {},
   "source": [
    "###3.1. Setting the input SFH"
   ]
  },
  {
   "cell_type": "markdown",
   "metadata": {},
   "source": [
    "Let's run three OMEGA simulations with decreasing, constant, and increasing SFHs."
   ]
  },
  {
   "cell_type": "code",
   "execution_count": null,
   "metadata": {
    "collapsed": false
   },
   "outputs": [],
   "source": [
    "# OMEGA can receive an input SFH array with the \"sfh_array\" parameter.\n",
    "# sfh_array[ number of input times ][ 0 --> time in yr; 1 --> star formation rate in Msun/yr ]\n",
    "\n",
    "# Time array [Gyr]\n",
    "t = [0.0, 6.5e9, 13.0e9]\n",
    "\n",
    "# Build the decreasing star formation history array [Msun/yr]\n",
    "sfr_dec = [7.0, 4.0, 1.0]\n",
    "sfh_array_dec = []\n",
    "for i in range(len(t)):\n",
    "    sfh_array_dec.append([t[i], sfr_dec[i]])\n",
    "\n",
    "# Build the increasing star formation history array [Msun/yr]\n",
    "sfr_inc = [1.0, 4.0, 7.0]\n",
    "sfh_array_inc = []\n",
    "for i in range(len(t)):\n",
    "    sfh_array_inc.append([t[i], sfr_inc[i]])"
   ]
  },
  {
   "cell_type": "code",
   "execution_count": null,
   "metadata": {
    "collapsed": false
   },
   "outputs": [],
   "source": [
    "# Run OMEGA simulations.\n",
    "# Different star formation histories within the same initial gas reservoir.\n",
    "o_cte = omega.omega(mgal=5e11, special_timesteps=30, cte_sfr=4.0)\n",
    "o_dec = omega.omega(mgal=5e11, special_timesteps=30, sfh_array=sfh_array_dec)\n",
    "o_inc = omega.omega(mgal=5e11, special_timesteps=30, sfh_array=sfh_array_inc)"
   ]
  },
  {
   "cell_type": "markdown",
   "metadata": {},
   "source": [
    "Below, the SFH is plotted.  This function can be used for any types of input SFH."
   ]
  },
  {
   "cell_type": "code",
   "execution_count": null,
   "metadata": {
    "collapsed": false
   },
   "outputs": [],
   "source": [
    "%matplotlib nbagg\n",
    "o_cte.plot_star_formation_rate(color='k', shape='-.')\n",
    "o_dec.plot_star_formation_rate(color='m', shape='--')\n",
    "o_inc.plot_star_formation_rate(color='c', shape='-')"
   ]
  },
  {
   "cell_type": "markdown",
   "metadata": {},
   "source": [
    "In this case, although the SFH are very different, the same amount of stars should be formed throughout the simulation.  This can be verified by summing the mass locked into stars in all timesteps.  However, as shown below, the total stellar masses are actually not the same."
   ]
  },
  {
   "cell_type": "code",
   "execution_count": null,
   "metadata": {
    "collapsed": false
   },
   "outputs": [],
   "source": [
    "# Calculate the cumulated stellar mass (integration of the SFH)\n",
    "print 'Total stellar mass formed (not corrected for stellar mass loss)'\n",
    "print '  Increasing SFH :', sum(o_inc.history.m_locked), 'Msun'\n",
    "print '  Constant SFH   :', sum(o_cte.history.m_locked), 'Msun'\n",
    "print '  Decreasing SFH :', sum(o_dec.history.m_locked), 'Msun'"
   ]
  },
  {
   "cell_type": "markdown",
   "metadata": {},
   "source": [
    "This discrepancy is due to a temporal resolution issue and to the fact that the value of the SFH at each timestep is multiplied by the duration of that timestep.  To solve this problem, you can use the *sfh_array_norm* parameter which normalizes the input SFH array, *sfh_array*, to generate the desired total stellar mass, regardless of the chosen resolution."
   ]
  },
  {
   "cell_type": "code",
   "execution_count": null,
   "metadata": {
    "collapsed": false
   },
   "outputs": [],
   "source": [
    "# Re-run OMEGA simulations with the \"sfh_array_norm\" parameter.\n",
    "o_cte = omega.omega(mgal=5e11, special_timesteps=30, cte_sfr=4.0,             sfh_array_norm=5.2e10)\n",
    "o_dec = omega.omega(mgal=5e11, special_timesteps=30, sfh_array=sfh_array_dec, sfh_array_norm=5.2e10)\n",
    "o_inc = omega.omega(mgal=5e11, special_timesteps=30, sfh_array=sfh_array_inc, sfh_array_norm=5.2e10)"
   ]
  },
  {
   "cell_type": "markdown",
   "metadata": {},
   "source": [
    "The resulting SFHs are a little bit shifted, but the total stellar masses are now the same, as shown below."
   ]
  },
  {
   "cell_type": "code",
   "execution_count": null,
   "metadata": {
    "collapsed": false
   },
   "outputs": [],
   "source": [
    "%matplotlib nbagg\n",
    "o_cte.plot_star_formation_rate(color='k', shape='-.')\n",
    "o_dec.plot_star_formation_rate(color='m', shape='--')\n",
    "o_inc.plot_star_formation_rate(color='c', shape='-')"
   ]
  },
  {
   "cell_type": "code",
   "execution_count": null,
   "metadata": {
    "collapsed": false
   },
   "outputs": [],
   "source": [
    "# Calculate the cumulated stellar mass (integration of the SFH)\n",
    "print 'Total stellar mass formed (not corrected for stellar mass loss)'\n",
    "print '  Increasing SFH :', sum(o_inc.history.m_locked), 'Msun'\n",
    "print '  Constant SFH   :', sum(o_cte.history.m_locked), 'Msun'\n",
    "print '  Decreasing SFH :', sum(o_dec.history.m_locked), 'Msun'"
   ]
  },
  {
   "cell_type": "markdown",
   "metadata": {},
   "source": [
    "### 3.2. Evolution of Fe in the gas reservoir"
   ]
  },
  {
   "cell_type": "markdown",
   "metadata": {},
   "source": [
    "As shown in the plot below, more Fe is ejected by stars at early times when the SFH peaks at the beginning of the simulation (pink lines).  At the end of the simulation (after 13 Gyr), the same final mass of Fe inside the galactic gas is predicted for all three SFHs.  This is because, overall, the same amount of stars is formed in all cases.  However, for the contribution of AGB stars, there are minor variations.  Can you explain why?"
   ]
  },
  {
   "cell_type": "code",
   "execution_count": null,
   "metadata": {
    "collapsed": false
   },
   "outputs": [],
   "source": [
    "# Plot the mass of Fe present inside the gas reservoir as a function of time (you can try other elements).\n",
    "%matplotlib nbagg\n",
    "specie = 'Fe'\n",
    "\n",
    "# Increasing SFH\n",
    "o_inc.plot_mass(specie=specie, color='c', source='massive')\n",
    "#o_inc.plot_mass(specie=specie, color='c', source='sn1a')\n",
    "o_inc.plot_mass(specie=specie, color='c', source='agb')\n",
    "\n",
    "# Constant SFH\n",
    "o_cte.plot_mass(specie=specie, color='k', source='massive')\n",
    "#o_cte.plot_mass(specie=specie, color='k', source='sn1a')\n",
    "o_cte.plot_mass(specie=specie, color='k', source='agb')\n",
    "\n",
    "# Decreasing SFH\n",
    "o_dec.plot_mass(specie=specie, color='m', source='massive')\n",
    "#o_dec.plot_mass(specie=specie, color='m', source='sn1a')\n",
    "o_dec.plot_mass(specie=specie, color='m', source='agb')\n",
    "\n",
    "# Add legend directly on the plot\n",
    "plt.annotate('Decreasing SFH', color='m', xy=(0.6, 0.30), xycoords='axes fraction', fontsize=13)\n",
    "plt.annotate('Constant SFH',   color='k', xy=(0.6, 0.22), xycoords='axes fraction', fontsize=13)\n",
    "plt.annotate('Increasing SFH', color='c', xy=(0.6, 0.14), xycoords='axes fraction', fontsize=13)\n",
    "\n",
    "# Remove the default log scale of the x axis\n",
    "plt.xscale('linear')"
   ]
  },
  {
   "cell_type": "markdown",
   "metadata": {},
   "source": [
    "### 3.3. Evolution of chemical abundances"
   ]
  },
  {
   "cell_type": "markdown",
   "metadata": {},
   "source": [
    "Because we used the same initial gas reservoir and the same total stellar mass, **different SFHs therefore generate different enrichment paths** between the initial and final [Fe/H] values, which are the same in all cases. Within our setup, when the SFH is increasing, the enrichment process will be slower compared to SFHs that peak at early times (decreasing SFH)."
   ]
  },
  {
   "cell_type": "code",
   "execution_count": null,
   "metadata": {
    "collapsed": false
   },
   "outputs": [],
   "source": [
    "# Plot the evolution of [Fe/H]\n",
    "%matplotlib nbagg\n",
    "o_inc.plot_spectro(color='c', shape='-',  label='Increasing SFH')\n",
    "o_cte.plot_spectro(color='k', shape='-.', label='Constant SFH')\n",
    "o_dec.plot_spectro(color='m', shape='--', label='Decreasing SFH')\n",
    "plt.ylim(-6,0)"
   ]
  },
  {
   "cell_type": "markdown",
   "metadata": {},
   "source": [
    "However, as seen in the plot below, the relative metal abundances are still similar from one case to another, as those are linked to the composition of the ejecta of simple stellar populations (stellar yields)."
   ]
  },
  {
   "cell_type": "code",
   "execution_count": null,
   "metadata": {
    "collapsed": false
   },
   "outputs": [],
   "source": [
    "# Plot the evolution of [Si/Fe].\n",
    "%matplotlib nbagg\n",
    "yaxis = '[Si/Fe]'\n",
    "o_inc.plot_spectro(yaxis=yaxis, color='c', shape='-',  label='Increasing SFH')\n",
    "o_cte.plot_spectro(yaxis=yaxis, color='k', shape='-.', label='Constant SFH')\n",
    "o_dec.plot_spectro(yaxis=yaxis, color='m', shape='--', label='Decreasing SFH')"
   ]
  },
  {
   "cell_type": "markdown",
   "metadata": {},
   "source": [
    "As shown below, in the [X/Fe] vs [Fe/H] space, **modifying the SFH shifts the chemical evolution predictions on the [Fe/H] axis, but only at low [Fe/H] (at early times)**, as opposed to modifying the mass of the gas reservoir, which generate shifts for all [Fe/H] values."
   ]
  },
  {
   "cell_type": "code",
   "execution_count": null,
   "metadata": {
    "collapsed": false
   },
   "outputs": [],
   "source": [
    "# Plot the predicted chemical evolution.\n",
    "%matplotlib nbagg\n",
    "xaxis = '[Fe/H]'\n",
    "yaxis = '[Si/Fe]'\n",
    "o_inc.plot_spectro(xaxis=xaxis, yaxis=yaxis, color='c', shape='-',  label='Increasing SFH')\n",
    "o_cte.plot_spectro(xaxis=xaxis, yaxis=yaxis, color='k', shape='-.', label='Constant SFH')\n",
    "o_dec.plot_spectro(xaxis=xaxis, yaxis=yaxis, color='m', shape='--', label='Decreasing SFH')"
   ]
  },
  {
   "cell_type": "markdown",
   "metadata": {},
   "source": []
  }
 ],
 "metadata": {
  "kernelspec": {
   "display_name": "Python 2",
   "language": "python",
   "name": "python2"
  },
  "language_info": {
   "codemirror_mode": {
    "name": "ipython",
    "version": 2
   },
   "file_extension": ".py",
   "mimetype": "text/x-python",
   "name": "python",
   "nbconvert_exporter": "python",
   "pygments_lexer": "ipython2",
   "version": "2.7.12"
  }
 },
 "nbformat": 4,
 "nbformat_minor": 0
}
