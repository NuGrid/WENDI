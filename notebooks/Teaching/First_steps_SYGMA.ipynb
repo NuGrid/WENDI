{
 "cells": [
  {
   "cell_type": "markdown",
   "metadata": {},
   "source": [
    "# First steps with SYGMA"
   ]
  },
  {
   "cell_type": "markdown",
   "metadata": {},
   "source": [
    "A simple stellar population is a population of stars born out of the same gas cloud.\n",
    "This notebook explains how the basic chemical evolution parameter lead to the ejecta of stellar matter.\n",
    "We will use (artificial) yields out of pure h1 yields. \n",
    "You can find the documentation <a href=\"http://nugrid.github.io/NuPyCEE/SPHINX/build/html/sygma.html\">here</a>."
   ]
  },
  {
   "cell_type": "code",
   "execution_count": null,
   "metadata": {
    "collapsed": false
   },
   "outputs": [],
   "source": [
    "%matplotlib nbagg\n",
    "import sygma as s\n",
    "reload(s)\n",
    "import matplotlib.pyplot as plt\n",
    "import numpy as np\n",
    "from scipy.integrate import quad\n",
    "import os\n",
    "import sys"
   ]
  },
  {
   "cell_type": "markdown",
   "metadata": {},
   "source": [
    "## 1. The initial mass function"
   ]
  },
  {
   "cell_type": "markdown",
   "metadata": {},
   "source": [
    "### a) Basics"
   ]
  },
  {
   "cell_type": "markdown",
   "metadata": {},
   "source": [
    "The IMF allows to calculate the number of stars $N_{12}$ in the mass interval [m1,m2] with\n",
    "\n",
    "(I) $N_{12}$ = k_N $\\int _{m1}^{m2} m^{-2.35} dm$ \n",
    "\n",
    "Where k_N is the normalization constant. It can be derived from the total amount of mass of the system $M_{tot}$\n",
    "since the total mass $M_{12}$ in the mass interval above can be estimated with\n",
    "\n",
    "(II) $M_{12}$ = k_N $\\int _{m1}^{m2} m^{-1.35} dm$\n",
    "\n",
    "With a total mass interval of [1,30] and $M_{tot}=1e11$ the $k_N$ can be derived:\n",
    "\n",
    "$1e11 = k_N/0.35 * (1^{-0.35} - 30^{-0.35})$"
   ]
  },
  {
   "cell_type": "markdown",
   "metadata": {},
   "source": [
    "The total number of stars $N_{tot}$ is then:"
   ]
  },
  {
   "cell_type": "code",
   "execution_count": null,
   "metadata": {
    "collapsed": false
   },
   "outputs": [],
   "source": [
    "k_N=1e11*0.35/ (1**-0.35 - 30**-0.35) #(I)"
   ]
  },
  {
   "cell_type": "code",
   "execution_count": null,
   "metadata": {
    "collapsed": false
   },
   "outputs": [],
   "source": [
    "N_tot=k_N/1.35 * (1**-1.35 - 30**-1.35) #(II)\n",
    "print N_tot"
   ]
  },
  {
   "cell_type": "markdown",
   "metadata": {},
   "source": [
    "With a yield ejected of $0.1 Msun$, the total amount ejected is:"
   ]
  },
  {
   "cell_type": "code",
   "execution_count": null,
   "metadata": {
    "collapsed": false
   },
   "outputs": [],
   "source": [
    "Yield_tot=0.1*N_tot\n",
    "print Yield_tot/1e11"
   ]
  },
  {
   "cell_type": "markdown",
   "metadata": {},
   "source": [
    "compared to the simulation:"
   ]
  },
  {
   "cell_type": "code",
   "execution_count": null,
   "metadata": {
    "collapsed": false,
    "scrolled": false
   },
   "outputs": [],
   "source": [
    "import sygma as s\n",
    "reload(s)\n",
    "s1=s.sygma(iolevel=0,mgal=1e11,dt=1e7,imf_type='salpeter',imf_bdys=[1,30],iniZ=0.02,hardsetZ=0.02,\n",
    "           table='yield_tables/agb_and_massive_stars_h1.txt',sn1a_on=False, sn1a_table='yield_tables/sn1a_h1.txt', \n",
    "           iniabu_table='yield_tables/iniabu/iniab_h1.ppn',pop3_table='yield_tables/popIII_h1.txt')\n",
    "Yield_tot_sim=s1.history.ism_iso_yield[-1][0]\n",
    "#% matplotlib inline"
   ]
  },
  {
   "cell_type": "markdown",
   "metadata": {},
   "source": [
    "Note: In this setup iniZ=0.02 refers to one of the metallicities available in the yield table file agb_and_massive_stars_h1.txt. Table headers in this table file such as 'Table: (M=1.0,Z=0.02)' indicate a metallicity of Z=0.02 and are selected as input. Since the metallicity of our peculiar yields is actually Z=0 (H only!) we use hardsetZ=0.02 to make the code work. We introduce hardsetZ only for this demonstration notebook and it should not be used."
   ]
  },
  {
   "cell_type": "markdown",
   "metadata": {},
   "source": [
    "Compare both results:"
   ]
  },
  {
   "cell_type": "code",
   "execution_count": null,
   "metadata": {
    "collapsed": false
   },
   "outputs": [],
   "source": [
    "print Yield_tot_sim\n",
    "print Yield_tot\n",
    "print 'ratio should be 1 : ',Yield_tot_sim/Yield_tot"
   ]
  },
  {
   "cell_type": "markdown",
   "metadata": {},
   "source": [
    "### b) Selection of different initial mass intervals"
   ]
  },
  {
   "cell_type": "markdown",
   "metadata": {},
   "source": [
    "##### Select imf_bdys=[5,20]"
   ]
  },
  {
   "cell_type": "code",
   "execution_count": null,
   "metadata": {
    "collapsed": false
   },
   "outputs": [],
   "source": [
    "k_N_5_20=1e11*0.35/ (5**-0.35 - 20**-0.35)\n",
    "N_tot=k_N_5_20/1.35 * (5**-1.35 - 20**-1.35)\n",
    "Yield_tot=0.1*N_tot"
   ]
  },
  {
   "cell_type": "code",
   "execution_count": null,
   "metadata": {
    "collapsed": false
   },
   "outputs": [],
   "source": [
    "s1_5_20=s.sygma(iolevel=0,mgal=1e11,dt=1e9,tend=1.3e10,imf_type='salpeter',\n",
    "           imf_bdys=[5,20],iniZ=0.02,hardsetZ=0.02,table='yield_tables/agb_and_massive_stars_h1.txt',sn1a_on=False, \n",
    "           sn1a_table='yield_tables/sn1a_h1.txt', iniabu_table='yield_tables/iniabu/iniab_h1.ppn')\n",
    "Yield_tot_sim=s1_5_20.history.ism_iso_yield[-1][0]"
   ]
  },
  {
   "cell_type": "code",
   "execution_count": null,
   "metadata": {
    "collapsed": false
   },
   "outputs": [],
   "source": [
    "print 'Sould be 1:' ,Yield_tot_sim/Yield_tot"
   ]
  },
  {
   "cell_type": "markdown",
   "metadata": {},
   "source": [
    "Now you could try to calculate your own total mass ejected for a mass range beween 1Msun and 5Msun."
   ]
  },
  {
   "cell_type": "markdown",
   "metadata": {},
   "source": [
    "### c) Distinguishing between massive and AGB sources:"
   ]
  },
  {
   "cell_type": "markdown",
   "metadata": {},
   "source": [
    "Boundaries between AGB and massive for Z=0 (1e-4) at 8 (transitionmass parameter)"
   ]
  },
  {
   "cell_type": "code",
   "execution_count": null,
   "metadata": {
    "collapsed": false
   },
   "outputs": [],
   "source": [
    "Yield_agb= ( k_N/1.35 * (1**-1.35 - 8.**-1.35) ) * 0.1\n",
    "print Yield_agb\n",
    "Yield_massive= ( k_N/1.35 * (8.**-1.35 - 30**-1.35) ) * 0.1"
   ]
  },
  {
   "cell_type": "code",
   "execution_count": null,
   "metadata": {
    "collapsed": false
   },
   "outputs": [],
   "source": [
    "print 'Should be 1:',Yield_agb/s1.history.ism_iso_yield_agb[-1][0]\n",
    "print 'Should be 1:',Yield_massive/s1.history.ism_iso_yield_massive[-1][0]"
   ]
  },
  {
   "cell_type": "markdown",
   "metadata": {},
   "source": [
    "### d) Time evolution"
   ]
  },
  {
   "cell_type": "code",
   "execution_count": null,
   "metadata": {
    "collapsed": false
   },
   "outputs": [],
   "source": [
    "s1.plot_totmasses(fig=1,source='agb')\n",
    "s1.plot_totmasses(fig=1,source='massive')\n",
    "s1.plot_totmasses(fig=1,source='all')"
   ]
  },
  {
   "cell_type": "markdown",
   "metadata": {},
   "source": [
    "For plotting, take the lifetimes/masses from the yield grid:\n",
    "\n",
    "$\n",
    "Initial Mass [Msun] & Age [yr]\n",
    "1 & 5.67e9\n",
    "1.65 & 1.211e9\n",
    "2 & 6.972e8\n",
    "3 & 2.471e8\n",
    "4 & 1.347e8\n",
    "5 & 8.123e7\n",
    "6 & 5.642e7\n",
    "7 & 4.217e7\n",
    "12 & 1.892e7\n",
    "15 & 1.381e7\n",
    "20 & 9.895e6\n",
    "25 & 7.902e6\n",
    "$"
   ]
  },
  {
   "cell_type": "code",
   "execution_count": null,
   "metadata": {
    "collapsed": false,
    "scrolled": true
   },
   "outputs": [],
   "source": [
    "s1_evol=s.sygma(iolevel=0,mgal=1e11,dt=1e7,tend=1.3e10,imf_type='salpeter',alphaimf=2.35,\n",
    "           imf_bdys=[1,30],iniZ=0,hardsetZ=0.0001,table='yield_tables/agb_and_massive_stars_h1.txt',sn1a_on=False, \n",
    "           sn1a_table='yield_tables/sn1a_h1.txt', iniabu_table='yield_tables/iniabu/iniab_h1.ppn')"
   ]
  },
  {
   "cell_type": "code",
   "execution_count": null,
   "metadata": {
    "collapsed": true
   },
   "outputs": [],
   "source": [
    "k_N_evol=1e11*0.35/ (1**-0.35 - 30**-0.35) #(I)"
   ]
  },
  {
   "cell_type": "code",
   "execution_count": null,
   "metadata": {
    "collapsed": false
   },
   "outputs": [],
   "source": [
    "s1_evol.plot_mass(fig=2,specie='H',label='H, sim',color='k',shape='-',marker='o',markevery=800)\n",
    "m=[1,1.65,2,3,4,5,6,7,12,15,20,25]\n",
    "ages=[5.67e9,1.211e9,6.972e8,2.471e8,1.347e8,8.123e7,5.642e7,4.217e7,1.892e7,1.381e7,9.895e6,7.902e6]\n",
    "def yields(m,k_N_evol):\n",
    "    return ( k_N_evol/1.35 * (m**-1.35 - 30.**-1.35) ) * 0.1\n",
    "yields1=[]\n",
    "for m1 in m:\n",
    "    yields1.append(yields(m1,k_N_evol))\n",
    "plt.plot(ages,yields1,marker='+',linestyle='',markersize=15,label='H, semi')\n",
    "plt.legend(loc=4)"
   ]
  },
  {
   "cell_type": "markdown",
   "metadata": {},
   "source": [
    "Visible is the agreement of the semi-analytical calculations with the result from SYGMA."
   ]
  },
  {
   "cell_type": "markdown",
   "metadata": {},
   "source": [
    "### d) Other IMF types: Chabrier IMF"
   ]
  },
  {
   "cell_type": "markdown",
   "metadata": {},
   "source": [
    "#### Chabrier:"
   ]
  },
  {
   "cell_type": "markdown",
   "metadata": {},
   "source": [
    "M<1: $IMF(m) = \\frac{0.158}{m} * \\exp{ \\frac{-(log(m) - log(0.08))^2}{2*0.69^2}}$\n",
    "\n",
    "else: $IMF(m) = m^{-2.3}$"
   ]
  },
  {
   "cell_type": "code",
   "execution_count": null,
   "metadata": {
    "collapsed": false
   },
   "outputs": [],
   "source": [
    "def imf_times_m(mass):\n",
    "    if mass<=1:\n",
    "        return 0.158 * np.exp( -np.log10(mass/0.079)**2 / (2.*0.69**2))\n",
    "    else:\n",
    "        return mass*0.0443*mass**(-2.3)\n",
    "k_N_ch= 1e11/ (quad(imf_times_m,0.01,30)[0] )"
   ]
  },
  {
   "cell_type": "code",
   "execution_count": null,
   "metadata": {
    "collapsed": false
   },
   "outputs": [],
   "source": [
    "N_tot=k_N_ch/1.3 * 0.0443* (1**-1.3 - 30**-1.3)\n",
    "Yield_tot=N_tot * 0.1"
   ]
  },
  {
   "cell_type": "code",
   "execution_count": null,
   "metadata": {
    "collapsed": false
   },
   "outputs": [],
   "source": [
    "s1_chabrier=s.sygma(iolevel=0,mgal=1e11,dt=1e9,tend=1.3e10,imf_type='chabrier',imf_bdys=[0.01,30],\n",
    "                    hardsetZ=0.0001,table='yield_tables/agb_and_massive_stars_h1.txt',sn1a_on=False, \n",
    "                    sn1a_table='yield_tables/sn1a_h1.txt', \n",
    "                    iniabu_table='yield_tables/iniabu/iniab_h1.ppn')\n",
    "Yield_tot_sim=s1_chabrier.history.ism_iso_yield[-1][0]\n"
   ]
  },
  {
   "cell_type": "code",
   "execution_count": null,
   "metadata": {
    "collapsed": false
   },
   "outputs": [],
   "source": [
    "print Yield_tot\n",
    "print Yield_tot_sim\n",
    "print 'Should be 1 :',Yield_tot/Yield_tot_sim"
   ]
  },
  {
   "cell_type": "code",
   "execution_count": null,
   "metadata": {
    "collapsed": false
   },
   "outputs": [],
   "source": [
    "s1_chabrier.plot_mass(fig=3,specie='H',label='H',color='k',shape='-',marker='o',markevery=800)\n",
    "m=[1,1.65,2,3,4,5,6,7,12,15,20,25]\n",
    "ages=[5.67e9,1.211e9,6.972e8,2.471e8,1.347e8,8.123e7,5.642e7,4.217e7,1.892e7,1.381e7,9.895e6,7.902e6]\n",
    "def yields(m,k_N_ch):\n",
    "    return ( k_N_ch/1.3 * 0.0443*(m**-1.3 - 30.**-1.3) ) * 0.1\n",
    "yields1=[]\n",
    "for m1 in m:\n",
    "    yields1.append(yields(m1,k_N_ch))\n",
    "plt.plot(ages,yields1,marker='+',linestyle='',markersize=20,label='semi')\n",
    "plt.legend(loc=4)\n",
    "\n"
   ]
  },
  {
   "cell_type": "markdown",
   "metadata": {},
   "source": [
    "Simulation should agree with semi-analytical calculations for Chabrier IMF."
   ]
  },
  {
   "cell_type": "markdown",
   "metadata": {},
   "source": [
    "## 2. Supernova"
   ]
  },
  {
   "cell_type": "markdown",
   "metadata": {},
   "source": [
    "The element production due to core-collapse supernova are included in the yields of massive stars.\n",
    "Supernova Ia have their origin in white dwarfs and their nucleosynthesis products are treated seperately (via a extra yield table loaded with the sn1a_table variable).\n"
   ]
  },
  {
   "cell_type": "markdown",
   "metadata": {},
   "source": [
    "$N_{Ia} = A_{Ia} * \\int_t^{t+\\Delta t} f_{WD}(t^{'})\\Psi_{Ia}(t^{'})dt^{'} $"
   ]
  },
  {
   "cell_type": "code",
   "execution_count": null,
   "metadata": {
    "collapsed": false
   },
   "outputs": [],
   "source": [
    "s1_snIa=s.sygma(iolevel=0,mgal=1e11,dt=1e7,tend=1.3e10,sn1a_on=True,sn1a_rate='maoz',\n",
    "           imf_type='salpeter',imf_bdys=[1,30],hardsetZ=0.0001,table='yield_tables/agb_and_massive_stars_h1.txt', \n",
    "           sn1a_table='yield_tables/sn1a_h1.txt', iniabu_table='yield_tables/iniabu/iniab_h1.ppn')"
   ]
  },
  {
   "cell_type": "code",
   "execution_count": null,
   "metadata": {
    "collapsed": false
   },
   "outputs": [],
   "source": [
    "s1_snIa.plot_mass(fig=4,specie='H-1',source='sn1a') \n",
    "s1_snIa.plot_mass(fig=4,specie='H-1',source='agb') "
   ]
  },
  {
   "cell_type": "markdown",
   "metadata": {},
   "source": [
    "Comparison of total (final) SNIa ejecta of H, H-1 with the total amount of H ejected:"
   ]
  },
  {
   "cell_type": "code",
   "execution_count": null,
   "metadata": {
    "collapsed": false
   },
   "outputs": [],
   "source": [
    "print s1_snIa.history.ism_elem_yield_1a[-1],s1_snIa.history.ism_iso_yield_1a[-1],s1_snIa.history.ism_elem_yield[-1]"
   ]
  },
  {
   "cell_type": "markdown",
   "metadata": {},
   "source": [
    "## 3. Basic parameter "
   ]
  },
  {
   "cell_type": "markdown",
   "metadata": {},
   "source": [
    "### a) Total mass"
   ]
  },
  {
   "cell_type": "markdown",
   "metadata": {},
   "source": [
    "Change of the total mass via mgal variable:"
   ]
  },
  {
   "cell_type": "code",
   "execution_count": null,
   "metadata": {
    "collapsed": false
   },
   "outputs": [],
   "source": [
    "s1_1e7=s.sygma(iolevel=0,mgal=1e7,dt=1e7,tend=1.3e10,hardsetZ=0.0001,\n",
    "               table='yield_tables/agb_and_massive_stars_h1.txt',sn1a_on=False, \n",
    "           sn1a_table='yield_tables/sn1a_h1.txt', iniabu_table='yield_tables/iniabu/iniab_h1.ppn')\n",
    "s1_1e9=s.sygma(iolevel=0,mgal=1e9,dt=1e9,tend=1.3e10,hardsetZ=0.0001,\n",
    "               table='yield_tables/agb_and_massive_stars_h1.txt',sn1a_on=False, \n",
    "           sn1a_table='yield_tables/sn1a_h1.txt', iniabu_table='yield_tables/iniabu/iniab_h1.ppn')"
   ]
  },
  {
   "cell_type": "markdown",
   "metadata": {},
   "source": [
    "Final mass fraction of the total ejecta (H only) should not depend on the total mass:"
   ]
  },
  {
   "cell_type": "code",
   "execution_count": null,
   "metadata": {
    "collapsed": false
   },
   "outputs": [],
   "source": [
    "print sum(s1_1e7.history.ism_elem_yield[-1])/1e7,sum(s1_1e9.history.ism_elem_yield[-1])/1e9"
   ]
  },
  {
   "cell_type": "markdown",
   "metadata": {},
   "source": [
    "### b) Transition mass"
   ]
  },
  {
   "cell_type": "markdown",
   "metadata": {},
   "source": [
    "The transition from AGB stars to massive stars, including the super-AGB stage are still not fully understood."
   ]
  },
  {
   "cell_type": "markdown",
   "metadata": {},
   "source": [
    "Here we test the difference between the choice of 8Msun and 10Msun."
   ]
  },
  {
   "cell_type": "code",
   "execution_count": null,
   "metadata": {
    "collapsed": false,
    "scrolled": true
   },
   "outputs": [],
   "source": [
    "s1_8=s.sygma(iolevel=0,imf_bdys=[1,30],imf_type='salpeter',transitionmass=8,mgal=1e11,dt=1e7,\n",
    "             tend=1.3e10,iniZ=0.02,hardsetZ=0.0001,\n",
    "           table='yield_tables/agb_and_massive_stars_h1.txt',sn1a_on=False, sn1a_table='yield_tables/sn1a_h1.txt', \n",
    "           iniabu_table='yield_tables/iniabu/iniab_h1.ppn')\n",
    "s1_10=s.sygma(iolevel=0,imf_bdys=[1,30],imf_type='salpeter',transitionmass=10,mgal=1e11,dt=1e7,\n",
    "              tend=1.3e10,iniZ=0.02,hardsetZ=0.0001,\n",
    "           table='yield_tables/agb_and_massive_stars_h1.txt',sn1a_on=False, sn1a_table='yield_tables/sn1a_h1.txt', \n",
    "           iniabu_table='yield_tables/iniabu/iniab_h1.ppn')\n",
    "Yield_agb_sim_8=s1_8.history.ism_iso_yield_agb[-1][0]\n",
    "Yield_agb_sim_10=s1_10.history.ism_iso_yield_agb[-1][0]"
   ]
  },
  {
   "cell_type": "code",
   "execution_count": null,
   "metadata": {
    "collapsed": false
   },
   "outputs": [],
   "source": [
    "s1_8.plot_totmasses(fig=5,source='agb',label='AGB, M=8')\n",
    "s1_8.plot_totmasses(fig=5,source='massive',label='Massive, M=8')\n",
    "s1_10.plot_totmasses(fig=5,source='agb',label='AGB, M=10')\n",
    "s1_10.plot_totmasses(fig=5,source='massive',label='Massive, M=10')"
   ]
  },
  {
   "cell_type": "code",
   "execution_count": null,
   "metadata": {
    "collapsed": false
   },
   "outputs": [],
   "source": [
    "alphaimf=2.35\n",
    "k_N_t=1e11*(alphaimf-2.)/ (1.**-(alphaimf-2.) - 30.**-(alphaimf-2.))\n",
    "\n",
    "N_agb_8=k_N_t/(alphaimf-1.) * (1.**-(alphaimf-1.) - 8.**-(alphaimf-1.))\n",
    "Yield_agb_8=0.1*N_agb_8\n",
    "\n",
    "N_agb_10=k_N_t/(alphaimf-1) * (1.**-(alphaimf-1.) - 10.**-(alphaimf-1.))\n",
    "Yield_agb_10=0.1*N_agb_10\n",
    "\n",
    "print 'Should be 1:',Yield_agb_sim_8/Yield_agb_8\n",
    "print 'Should be 1:',Yield_agb_sim_10/Yield_agb_10"
   ]
  },
  {
   "cell_type": "markdown",
   "metadata": {},
   "source": [
    "### c) Time resolution"
   ]
  },
  {
   "cell_type": "markdown",
   "metadata": {},
   "source": [
    "#### First constant timestep size of 1e7; then with special_timesteps 200 log steps."
   ]
  },
  {
   "cell_type": "code",
   "execution_count": null,
   "metadata": {
    "collapsed": false
   },
   "outputs": [],
   "source": [
    "s1_dt_const=s.sygma(iolevel=0,mgal=1e11,dt=1e7,tend=1.3e10,special_timesteps=-1,imf_type='salpeter',\n",
    "           imf_bdys=[1,30],hardsetZ=0.0001,table='yield_tables/agb_and_massive_stars_h1.txt',sn1a_on=False, \n",
    "           sn1a_table='yield_tables/sn1a_h1.txt', iniabu_table='yield_tables/iniabu/iniab_h1.ppn',\n",
    "          stellar_param_on=False)\n",
    "s1_dt_log=s.sygma(iolevel=0,mgal=1e11,dt=1e7,tend=1.3e10,special_timesteps=200,imf_type='salpeter',\n",
    "           imf_bdys=[1,30],hardsetZ=0.0001,table='yield_tables/agb_and_massive_stars_h1.txt',sn1a_on=False, \n",
    "           sn1a_table='yield_tables/sn1a_h1.txt', iniabu_table='yield_tables/iniabu/iniab_h1.ppn')"
   ]
  },
  {
   "cell_type": "code",
   "execution_count": null,
   "metadata": {
    "collapsed": false
   },
   "outputs": [],
   "source": [
    "print 'should be 1 ',s1_dt_const.history.ism_iso_yield[-1][0]/s1_dt_log.history.ism_iso_yield[-1][0]"
   ]
  },
  {
   "cell_type": "code",
   "execution_count": null,
   "metadata": {
    "collapsed": false
   },
   "outputs": [],
   "source": [
    "plt.figure(6)\n",
    "plt.plot(s1_dt_const.history.age[1:],s1_dt_const.history.timesteps,label='linear (constant) scaled',marker='+')\n",
    "plt.plot(s1_dt_log.history.age[1:],s1_dt_log.history.timesteps,label='log scaled',marker='+')\n",
    "plt.yscale('log');plt.xscale('log')\n",
    "plt.xlabel('age/years');plt.ylabel('timesteps/years');plt.legend(loc=4)"
   ]
  },
  {
   "cell_type": "markdown",
   "metadata": {},
   "source": [
    "Test the total isotopic and elemental ISM matter at first and last timestep."
   ]
  },
  {
   "cell_type": "markdown",
   "metadata": {},
   "source": [
    "## 4. Neutron stars"
   ]
  },
  {
   "cell_type": "markdown",
   "metadata": {},
   "source": [
    "Neutron stars are born from collapsing massive stars. Neutron stars (NS) in binary systems can produce heavy elements due to their highly neutron-rich matter. The the amount of neutron stars is set by different factors while the ejecta per neutron star is set via an input table (variable nsmerger_table)."
   ]
  },
  {
   "cell_type": "markdown",
   "metadata": {},
   "source": [
    "To calculate the amount of neutron stars $N_{NS}$ in the interval $[t,t+\\Delta t]$ one needs"
   ]
  },
  {
   "cell_type": "markdown",
   "metadata": {},
   "source": [
    "$N_{NS} = A_{NS} \\int_t^{t+\\Delta t} \\Psi_{NS}(t^{'},Z)dt^{'}$"
   ]
  },
  {
   "cell_type": "markdown",
   "metadata": {},
   "source": [
    "To constrain the formula above the binary fraction of all massive stars, the fraction of merger of massive-star binary systems and the initial mass interval for potential merger need to be known."
   ]
  },
  {
   "cell_type": "code",
   "execution_count": null,
   "metadata": {
    "collapsed": false
   },
   "outputs": [],
   "source": [
    "s1_ns_merger=s.sygma(mgal=1e11,dt=1e7,iniZ=0.02,hardsetZ=0.02,special_timesteps=-1,\n",
    "          ns_merger_on=True,f_binary=1.0, f_merger=0.0008, t_merger_max=1.0e10,\n",
    "                     nsmerger_table = 'yield_tables/r_process_rosswog_2014.txt')\n",
    "s1_default=s.sygma(mgal=1e11,dt=1e7,iniZ=0.02,hardsetZ=0.02,special_timesteps=-1,ns_merger_on=False,bhns_merger_on=False)"
   ]
  },
  {
   "cell_type": "markdown",
   "metadata": {},
   "source": [
    "The number of NS in time bins of 1e7yrs decrease over time."
   ]
  },
  {
   "cell_type": "code",
   "execution_count": null,
   "metadata": {
    "collapsed": false
   },
   "outputs": [],
   "source": [
    "plt.figure(7)\n",
    "plt.plot(s1_ns_merger.history.age[1:],s1_ns_merger.nsm_numbers,marker='x')\n",
    "plt.xscale('log');plt.yscale('log');\n",
    "plt.ylabel('Number of NS merger'); plt.xlabel('Age [yr]')\n",
    "plt.xlim(1e7,13e9)"
   ]
  },
  {
   "cell_type": "markdown",
   "metadata": {},
   "source": [
    "The origin of gold (Au) is not well understood. The most promising candidate are NS merger. By plotting the total ejecta of our SSP with NS and without NS we see the strong contribution of NS to Au."
   ]
  },
  {
   "cell_type": "code",
   "execution_count": null,
   "metadata": {
    "collapsed": false
   },
   "outputs": [],
   "source": [
    "s1_ns_merger.plot_mass(fig=8,specie='Au',label='Au with NS')\n",
    "s1_default.plot_mass(fig=8,specie='Au',label='Au without NS',marker='x',color='r',shape='--')\n",
    "plt.xlim(5e6,13e9)"
   ]
  },
  {
   "cell_type": "code",
   "execution_count": null,
   "metadata": {
    "collapsed": true
   },
   "outputs": [],
   "source": []
  }
 ],
 "metadata": {
  "kernelspec": {
   "display_name": "Python 2",
   "language": "python",
   "name": "python2"
  },
  "language_info": {
   "codemirror_mode": {
    "name": "ipython",
    "version": 2
   },
   "file_extension": ".py",
   "mimetype": "text/x-python",
   "name": "python",
   "nbconvert_exporter": "python",
   "pygments_lexer": "ipython2",
   "version": "2.7.11"
  }
 },
 "nbformat": 4,
 "nbformat_minor": 0
}
