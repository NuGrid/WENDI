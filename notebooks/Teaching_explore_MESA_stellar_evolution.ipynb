{
 "metadata": {
  "name": "",
  "signature": "sha256:af1a5e787810b11a5664b356ddc9382aed24c1472629391b9eade6ae35fbcbbb"
 },
 "nbformat": 3,
 "nbformat_minor": 0,
 "worksheets": [
  {
   "cells": [
    {
     "cell_type": "markdown",
     "metadata": {},
     "source": [
      "# Teaching notebook: explore 2 and 20Msun MESA stellar model"
     ]
    },
    {
     "cell_type": "code",
     "collapsed": false,
     "input": [
      "!ls /home/nugrid/CADC/NuGrid/data/data/teaching/mesa/"
     ],
     "language": "python",
     "metadata": {},
     "outputs": [
      {
       "output_type": "stream",
       "stream": "stdout",
       "text": [
        "m2.00z2.0e-2  m20.0z2.0e-2\r\n"
       ]
      }
     ],
     "prompt_number": 34
    },
    {
     "cell_type": "code",
     "collapsed": false,
     "input": [
      "!ls /home/nugrid/CADC/NuGrid/data/data/teaching/mesa/m2.00z2.0e-2/LOGS"
     ],
     "language": "python",
     "metadata": {},
     "outputs": [
      {
       "output_type": "stream",
       "stream": "stdout",
       "text": [
        "log10.data  log15.data\tlog1.data   log24.data\tlog5.data  profiles.index\r\n",
        "log11.data  log16.data\tlog20.data  log25.data\tlog6.data  star.log\r\n",
        "log12.data  log17.data\tlog21.data  log2.data\tlog7.data  star.logsa\r\n",
        "log13.data  log18.data\tlog22.data  log3.data\tlog8.data\r\n",
        "log14.data  log19.data\tlog23.data  log4.data\tlog9.data\r\n"
       ]
      }
     ],
     "prompt_number": 32
    },
    {
     "cell_type": "code",
     "collapsed": false,
     "input": [
      "m2_dir='/home/nugrid/CADC/NuGrid/data/data/teaching/mesa/m2.00z2.0e-2/LOGS'\n",
      "s2=ms.star_log(m2_dir)\n",
      "m20_dir='/home/nugrid/CADC/NuGrid/data/data/teaching/mesa/m20.0z2.0e-2/LOGS'\n",
      "s20=ms.star_log(m20_dir)"
     ],
     "language": "python",
     "metadata": {},
     "outputs": [
      {
       "output_type": "stream",
       "stream": "stdout",
       "text": [
        "Using old star.logsa file ...\n"
       ]
      },
      {
       "output_type": "stream",
       "stream": "stdout",
       "text": [
        "\r",
        " reading ...5%"
       ]
      },
      {
       "output_type": "stream",
       "stream": "stdout",
       "text": [
        "\r",
        " reading ...10%"
       ]
      },
      {
       "output_type": "stream",
       "stream": "stdout",
       "text": [
        "\r",
        " reading ...15%"
       ]
      },
      {
       "output_type": "stream",
       "stream": "stdout",
       "text": [
        "\r",
        " reading ...20%"
       ]
      },
      {
       "output_type": "stream",
       "stream": "stdout",
       "text": [
        "\r",
        " reading ...25%"
       ]
      },
      {
       "output_type": "stream",
       "stream": "stdout",
       "text": [
        "\r",
        " reading ...30%"
       ]
      },
      {
       "output_type": "stream",
       "stream": "stdout",
       "text": [
        "\r",
        " reading ...35%"
       ]
      },
      {
       "output_type": "stream",
       "stream": "stdout",
       "text": [
        "\r",
        " reading ...40%"
       ]
      },
      {
       "output_type": "stream",
       "stream": "stdout",
       "text": [
        "\r",
        " reading ...45%"
       ]
      },
      {
       "output_type": "stream",
       "stream": "stdout",
       "text": [
        "\r",
        " reading ...50%"
       ]
      },
      {
       "output_type": "stream",
       "stream": "stdout",
       "text": [
        "\r",
        " reading ...55%"
       ]
      },
      {
       "output_type": "stream",
       "stream": "stdout",
       "text": [
        "\r",
        " reading ...60%"
       ]
      },
      {
       "output_type": "stream",
       "stream": "stdout",
       "text": [
        "\r",
        " reading ...65%"
       ]
      },
      {
       "output_type": "stream",
       "stream": "stdout",
       "text": [
        "\r",
        " reading ...70%"
       ]
      },
      {
       "output_type": "stream",
       "stream": "stdout",
       "text": [
        "\r",
        " reading ...75%"
       ]
      },
      {
       "output_type": "stream",
       "stream": "stdout",
       "text": [
        "\r",
        " reading ...80%"
       ]
      },
      {
       "output_type": "stream",
       "stream": "stdout",
       "text": [
        "\r",
        " reading ...85%"
       ]
      },
      {
       "output_type": "stream",
       "stream": "stdout",
       "text": [
        "\r",
        " reading ...90%"
       ]
      },
      {
       "output_type": "stream",
       "stream": "stdout",
       "text": [
        "\r",
        " reading ...95%"
       ]
      },
      {
       "output_type": "stream",
       "stream": "stdout",
       "text": [
        "\r",
        " reading ...100% \n",
        "\n",
        "Using old star.logsa file ..."
       ]
      },
      {
       "output_type": "stream",
       "stream": "stdout",
       "text": [
        "\n"
       ]
      },
      {
       "output_type": "stream",
       "stream": "stdout",
       "text": [
        "\r",
        " reading ...5%"
       ]
      },
      {
       "output_type": "stream",
       "stream": "stdout",
       "text": [
        "\r",
        " reading ...10%"
       ]
      },
      {
       "output_type": "stream",
       "stream": "stdout",
       "text": [
        "\r",
        " reading ...15%"
       ]
      },
      {
       "output_type": "stream",
       "stream": "stdout",
       "text": [
        "\r",
        " reading ...20%"
       ]
      },
      {
       "output_type": "stream",
       "stream": "stdout",
       "text": [
        "\r",
        " reading ...25%"
       ]
      },
      {
       "output_type": "stream",
       "stream": "stdout",
       "text": [
        "\r",
        " reading ...30%"
       ]
      },
      {
       "output_type": "stream",
       "stream": "stdout",
       "text": [
        "\r",
        " reading ...35%"
       ]
      },
      {
       "output_type": "stream",
       "stream": "stdout",
       "text": [
        "\r",
        " reading ...40%"
       ]
      },
      {
       "output_type": "stream",
       "stream": "stdout",
       "text": [
        "\r",
        " reading ...45%"
       ]
      },
      {
       "output_type": "stream",
       "stream": "stdout",
       "text": [
        "\r",
        " reading ...50%"
       ]
      },
      {
       "output_type": "stream",
       "stream": "stdout",
       "text": [
        "\r",
        " reading ...55%"
       ]
      },
      {
       "output_type": "stream",
       "stream": "stdout",
       "text": [
        "\r",
        " reading ...60%"
       ]
      },
      {
       "output_type": "stream",
       "stream": "stdout",
       "text": [
        "\r",
        " reading ...65%"
       ]
      },
      {
       "output_type": "stream",
       "stream": "stdout",
       "text": [
        "\r",
        " reading ...70%"
       ]
      },
      {
       "output_type": "stream",
       "stream": "stdout",
       "text": [
        "\r",
        " reading ...75%"
       ]
      },
      {
       "output_type": "stream",
       "stream": "stdout",
       "text": [
        "\r",
        " reading ...80%"
       ]
      },
      {
       "output_type": "stream",
       "stream": "stdout",
       "text": [
        "\r",
        " reading ...85%"
       ]
      },
      {
       "output_type": "stream",
       "stream": "stdout",
       "text": [
        "\r",
        " reading ...90%"
       ]
      },
      {
       "output_type": "stream",
       "stream": "stdout",
       "text": [
        "\r",
        " reading ...95%"
       ]
      },
      {
       "output_type": "stream",
       "stream": "stdout",
       "text": [
        "\r",
        " reading ...100% \n",
        "\n"
       ]
      }
     ],
     "prompt_number": 35
    },
    {
     "cell_type": "code",
     "collapsed": false,
     "input": [
      "s20.hrd_new()\n",
      "s2.hrd_new()\n"
     ],
     "language": "python",
     "metadata": {},
     "outputs": [
      {
       "metadata": {},
       "output_type": "display_data",
       "png": "[encoded data removed]",
       "text": [
        "<matplotlib.figure.Figure at 0x42324d0>"
       ]
      }
     ],
     "prompt_number": 38
    },
    {
     "cell_type": "code",
     "collapsed": false,
     "input": [
      "s2.cols"
     ],
     "language": "python",
     "metadata": {},
     "outputs": [
      {
       "metadata": {},
       "output_type": "pyout",
       "prompt_number": 39,
       "text": [
        "{'burn_c': 59,\n",
        " 'burn_n': 60,\n",
        " 'burn_o': 61,\n",
        " 'center_c12': 50,\n",
        " 'center_h1': 48,\n",
        " 'center_he4': 49,\n",
        " 'center_mu': 46,\n",
        " 'center_o16': 51,\n",
        " 'center_ye': 47,\n",
        " 'cno': 57,\n",
        " 'conv_mx1_bot': 9,\n",
        " 'conv_mx1_top': 8,\n",
        " 'conv_mx2_bot': 11,\n",
        " 'conv_mx2_top': 10,\n",
        " 'delta_mass': 4,\n",
        " 'envelope_mass': 32,\n",
        " 'epsnuc_M_1': 16,\n",
        " 'epsnuc_M_2': 17,\n",
        " 'epsnuc_M_3': 18,\n",
        " 'epsnuc_M_4': 19,\n",
        " 'epsnuc_M_5': 20,\n",
        " 'epsnuc_M_6': 21,\n",
        " 'epsnuc_M_7': 22,\n",
        " 'epsnuc_M_8': 23,\n",
        " 'gravity': 42,\n",
        " 'h1_boundary_lgRho': 27,\n",
        " 'h1_boundary_lgT': 26,\n",
        " 'h1_boundary_mass': 24,\n",
        " 'h1_boundary_radius': 25,\n",
        " 'he4_boundary_lgRho': 31,\n",
        " 'he4_boundary_lgT': 30,\n",
        " 'he4_boundary_mass': 28,\n",
        " 'he4_boundary_radius': 29,\n",
        " 'log_L': 39,\n",
        " 'log_LH': 33,\n",
        " 'log_LHe': 34,\n",
        " 'log_LZ': 35,\n",
        " 'log_Lnuc': 36,\n",
        " 'log_R': 40,\n",
        " 'log_Teff': 37,\n",
        " 'log_abs_mdot': 5,\n",
        " 'log_center_P': 45,\n",
        " 'log_center_Rho': 44,\n",
        " 'log_center_T': 43,\n",
        " 'log_dt': 6,\n",
        " 'log_g': 41,\n",
        " 'luminosity': 38,\n",
        " 'model_number': 1,\n",
        " 'mx1_bot': 13,\n",
        " 'mx1_top': 12,\n",
        " 'mx2_bot': 15,\n",
        " 'mx2_top': 14,\n",
        " 'num_backups': 64,\n",
        " 'num_retries': 63,\n",
        " 'num_zones': 7,\n",
        " 'pp': 56,\n",
        " 'star_age': 2,\n",
        " 'star_mass': 3,\n",
        " 'surface_c12': 52,\n",
        " 'surface_o16': 53,\n",
        " 'total_mass_h1': 54,\n",
        " 'total_mass_he4': 55,\n",
        " 'tri_alfa': 58,\n",
        " 'v_div_csound_surf': 62}"
       ]
      }
     ],
     "prompt_number": 39
    },
    {
     "cell_type": "code",
     "collapsed": false,
     "input": [
      "s2.plot('model_number','log_Teff')"
     ],
     "language": "python",
     "metadata": {},
     "outputs": [
      {
       "metadata": {},
       "output_type": "display_data",
       "png": "[encoded data removed]",
       "text": [
        "<matplotlib.figure.Figure at 0x419b4d0>"
       ]
      }
     ],
     "prompt_number": 40
    },
    {
     "cell_type": "code",
     "collapsed": false,
     "input": [
      "p2=ms.mesa_profile(m2_dir,200)"
     ],
     "language": "python",
     "metadata": {},
     "outputs": [
      {
       "output_type": "stream",
       "stream": "stdout",
       "text": [
        "25 in profiles.index file ...\n",
        "Found and load nearest profile for cycle 200\n",
        "reading /home/nugrid/CADC/NuGrid/data/data/teaching/mesa/m2.00z2.0e-2/LOGS/log5.data ...\n"
       ]
      },
      {
       "output_type": "stream",
       "stream": "stdout",
       "text": [
        "\r",
        " reading ...5%"
       ]
      },
      {
       "output_type": "stream",
       "stream": "stdout",
       "text": [
        "\r",
        " reading ...10%"
       ]
      },
      {
       "output_type": "stream",
       "stream": "stdout",
       "text": [
        "\r",
        " reading ...15%"
       ]
      },
      {
       "output_type": "stream",
       "stream": "stdout",
       "text": [
        "\r",
        " reading ...20%"
       ]
      },
      {
       "output_type": "stream",
       "stream": "stdout",
       "text": [
        "\r",
        " reading ...25%"
       ]
      },
      {
       "output_type": "stream",
       "stream": "stdout",
       "text": [
        "\r",
        " reading ...30%"
       ]
      },
      {
       "output_type": "stream",
       "stream": "stdout",
       "text": [
        "\r",
        " reading ...35%"
       ]
      },
      {
       "output_type": "stream",
       "stream": "stdout",
       "text": [
        "\r",
        " reading ...40%"
       ]
      },
      {
       "output_type": "stream",
       "stream": "stdout",
       "text": [
        "\r",
        " reading ...45%"
       ]
      },
      {
       "output_type": "stream",
       "stream": "stdout",
       "text": [
        "\r",
        " reading ...50%"
       ]
      },
      {
       "output_type": "stream",
       "stream": "stdout",
       "text": [
        "\r",
        " reading ...55%"
       ]
      },
      {
       "output_type": "stream",
       "stream": "stdout",
       "text": [
        "\r",
        " reading ...60%"
       ]
      },
      {
       "output_type": "stream",
       "stream": "stdout",
       "text": [
        "\r",
        " reading ...65%"
       ]
      },
      {
       "output_type": "stream",
       "stream": "stdout",
       "text": [
        "\r",
        " reading ...70%"
       ]
      },
      {
       "output_type": "stream",
       "stream": "stdout",
       "text": [
        "\r",
        " reading ...75%"
       ]
      },
      {
       "output_type": "stream",
       "stream": "stdout",
       "text": [
        "\r",
        " reading ...80%"
       ]
      },
      {
       "output_type": "stream",
       "stream": "stdout",
       "text": [
        "\r",
        " reading ...85%"
       ]
      },
      {
       "output_type": "stream",
       "stream": "stdout",
       "text": [
        "\r",
        " reading ...90%"
       ]
      },
      {
       "output_type": "stream",
       "stream": "stdout",
       "text": [
        "\r",
        " reading ...95%"
       ]
      },
      {
       "output_type": "stream",
       "stream": "stdout",
       "text": [
        "\r",
        " reading ...100% \n",
        "\n"
       ]
      }
     ],
     "prompt_number": 41
    },
    {
     "cell_type": "code",
     "collapsed": false,
     "input": [
      "p2.cols"
     ],
     "language": "python",
     "metadata": {},
     "outputs": [
      {
       "metadata": {},
       "output_type": "pyout",
       "prompt_number": 42,
       "text": [
        "{'abar': 31,\n",
        " 'burn_ar': 76,\n",
        " 'burn_c': 68,\n",
        " 'burn_ca': 77,\n",
        " 'burn_cr': 79,\n",
        " 'burn_fe': 80,\n",
        " 'burn_mg': 73,\n",
        " 'burn_n': 69,\n",
        " 'burn_na': 72,\n",
        " 'burn_ne': 71,\n",
        " 'burn_o': 70,\n",
        " 'burn_s': 75,\n",
        " 'burn_si': 74,\n",
        " 'burn_ti': 78,\n",
        " 'c12': 60,\n",
        " 'c12_c12': 81,\n",
        " 'c12_o16': 82,\n",
        " 'cno': 66,\n",
        " 'conv_vel_div_csound': 41,\n",
        " 'csound': 14,\n",
        " 'dlnT_dt': 47,\n",
        " 'dlnd_dt': 46,\n",
        " 'dq_ratio': 19,\n",
        " 'entropy': 12,\n",
        " 'eps_grav': 7,\n",
        " 'eps_nuc': 34,\n",
        " 'eta': 16,\n",
        " 'free_e': 30,\n",
        " 'gradT': 44,\n",
        " 'gradT_sub_grada': 38,\n",
        " 'grada': 29,\n",
        " 'gradr': 45,\n",
        " 'h1': 57,\n",
        " 'he3': 58,\n",
        " 'he4': 59,\n",
        " 'logP': 4,\n",
        " 'logPgas': 28,\n",
        " 'logR': 5,\n",
        " 'logRho': 3,\n",
        " 'logT': 2,\n",
        " 'log_D_mix': 39,\n",
        " 'log_conv_vel': 40,\n",
        " 'log_mlt_D_mix': 42,\n",
        " 'log_opacity': 33,\n",
        " 'logdq': 18,\n",
        " 'logtau': 25,\n",
        " 'logxm': 53,\n",
        " 'logxq': 52,\n",
        " 'luminosity': 6,\n",
        " 'mass': 50,\n",
        " 'mg24': 64,\n",
        " 'mixing_type': 13,\n",
        " 'mlt_mixing_length': 36,\n",
        " 'mlt_mixing_type': 37,\n",
        " 'mmid': 51,\n",
        " 'mu': 17,\n",
        " 'n14': 61,\n",
        " 'ne20': 63,\n",
        " 'net_energy': 9,\n",
        " 'non_nuc_neu': 35,\n",
        " 'o16': 62,\n",
        " 'o16_o16': 83,\n",
        " 'other': 86,\n",
        " 'pgas_div_ptotal': 27,\n",
        " 'photo': 85,\n",
        " 'pnhe4': 84,\n",
        " 'pp': 65,\n",
        " 'pressure': 26,\n",
        " 'pressure_scale_height': 43,\n",
        " 'q': 20,\n",
        " 'radius': 21,\n",
        " 'rmid': 22,\n",
        " 'signed_dlnT': 49,\n",
        " 'signed_dlnd': 48,\n",
        " 'signed_log_eps_grav': 8,\n",
        " 'signed_log_power': 10,\n",
        " 'tau': 24,\n",
        " 'temperature': 23,\n",
        " 'tri_alfa': 67,\n",
        " 'v_div_csound': 15,\n",
        " 'velocity': 11,\n",
        " 'x': 54,\n",
        " 'y': 55,\n",
        " 'ye': 32,\n",
        " 'z': 56,\n",
        " 'zone': 1}"
       ]
      }
     ],
     "prompt_number": 42
    },
    {
     "cell_type": "code",
     "collapsed": false,
     "input": [
      "grada=p2.get('grada')\n",
      "gradr=p2.get('gradr')\n",
      "mass=p2.get('mass')\n",
      "plot(mass,log10(grada))\n",
      "plot(mass,log10(gradr))"
     ],
     "language": "python",
     "metadata": {},
     "outputs": [
      {
       "metadata": {},
       "output_type": "pyout",
       "prompt_number": 44,
       "text": [
        "[<matplotlib.lines.Line2D at 0x420e250>]"
       ]
      },
      {
       "metadata": {},
       "output_type": "display_data",
       "png": "[encoded data removed]",
       "text": [
        "<matplotlib.figure.Figure at 0x4203b50>"
       ]
      }
     ],
     "prompt_number": 44
    },
    {
     "cell_type": "code",
     "collapsed": false,
     "input": [
      "p.plot('mass','logRho')"
     ],
     "language": "python",
     "metadata": {},
     "outputs": [
      {
       "metadata": {},
       "output_type": "display_data",
       "png": "[encoded data removed]",
       "text": [
        "<matplotlib.figure.Figure at 0x4932490>"
       ]
      }
     ],
     "prompt_number": 45
    },
    {
     "cell_type": "code",
     "collapsed": false,
     "input": [
      "p.plot('logP','logRho')"
     ],
     "language": "python",
     "metadata": {},
     "outputs": [
      {
       "metadata": {},
       "output_type": "display_data",
       "png": "[encoded data removed]",
       "text": [
        "<matplotlib.figure.Figure at 0x495a7d0>"
       ]
      }
     ],
     "prompt_number": 46
    },
    {
     "cell_type": "code",
     "collapsed": false,
     "input": [],
     "language": "python",
     "metadata": {},
     "outputs": []
    }
   ],
   "metadata": {}
  }
 ]
}