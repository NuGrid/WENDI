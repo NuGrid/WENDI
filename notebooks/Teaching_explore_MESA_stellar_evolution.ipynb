{
 "metadata": {
  "name": "",
  "signature": "sha256:3c80980f63edb910f9015ec6d6a6e35575ee001e54feb6ec709872752f85d9ae"
 },
 "nbformat": 3,
 "nbformat_minor": 0,
 "worksheets": [
  {
   "cells": [
    {
     "cell_type": "markdown",
     "metadata": {},
     "source": [
      "# Teaching notebook: explore 2 and 20Msun MESA stellar model"
     ]
    },
    {
     "cell_type": "code",
     "collapsed": false,
     "input": [
      "m2_dir='/home/nugrid/CADC/NuGrid/data/data/teaching/mesa/m2.00z2.0e-2/LOGS'\n",
      "s2=ms.star_log(m2_dir)\n",
      "m20_dir='/home/nugrid/CADC/NuGrid/data/data/teaching/mesa/m20.0z2.0e-2/LOGS'\n",
      "s20=ms.star_log(m20_dir)"
     ],
     "language": "python",
     "metadata": {},
     "outputs": []
    },
    {
     "cell_type": "code",
     "collapsed": false,
     "input": [
      "s20.hrd_new()\n",
      "s2.hrd_new()"
     ],
     "language": "python",
     "metadata": {},
     "outputs": []
    },
    {
     "cell_type": "code",
     "collapsed": false,
     "input": [
      "s2.cols"
     ],
     "language": "python",
     "metadata": {},
     "outputs": []
    },
    {
     "cell_type": "code",
     "collapsed": false,
     "input": [
      "s2.plot('model_number','log_Teff')"
     ],
     "language": "python",
     "metadata": {},
     "outputs": []
    },
    {
     "cell_type": "code",
     "collapsed": false,
     "input": [
      "p2=ms.mesa_profile(m2_dir,200)"
     ],
     "language": "python",
     "metadata": {},
     "outputs": []
    },
    {
     "cell_type": "code",
     "collapsed": false,
     "input": [
      "p2.cols"
     ],
     "language": "python",
     "metadata": {},
     "outputs": []
    },
    {
     "cell_type": "code",
     "collapsed": false,
     "input": [
      "grada=p2.get('grada')\n",
      "gradr=p2.get('gradr')\n",
      "mass=p2.get('mass')\n",
      "plot(mass,log10(grada))\n",
      "plot(mass,log10(gradr))"
     ],
     "language": "python",
     "metadata": {},
     "outputs": []
    },
    {
     "cell_type": "code",
     "collapsed": false,
     "input": [
      "p.plot('mass','logRho')"
     ],
     "language": "python",
     "metadata": {},
     "outputs": []
    },
    {
     "cell_type": "code",
     "collapsed": false,
     "input": [
      "p.plot('logP','logRho')"
     ],
     "language": "python",
     "metadata": {},
     "outputs": []
    }
   ],
   "metadata": {}
  }
 ]
}