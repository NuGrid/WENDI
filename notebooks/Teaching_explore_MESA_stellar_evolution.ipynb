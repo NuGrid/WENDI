{
 "metadata": {
  "name": "",
  "signature": "sha256:2072e590ed4778f6843b1443c59b0817e179bcf3c9a7c47372c38a7514acd88e"
 },
 "nbformat": 3,
 "nbformat_minor": 0,
 "worksheets": [
  {
   "cells": [
    {
     "cell_type": "markdown",
     "metadata": {},
     "source": [
      "# Teaching notebook: explore 2 and 20Msun MESA stellar model\n",
      "\n",
      "This notebook demonstrate the plotting and analysis of two MESA stellar evolution tracks. Both start at the pre-main-sequence and go just through H core burning. \n",
      "\n",
      "First we are defining two variables that hold the location of the data to be explored. The path "
     ]
    },
    {
     "cell_type": "code",
     "collapsed": false,
     "input": [
      "data_dir ='/home/nugrid/CADC/NuGrid/data/data/teaching/mesa/'\n",
      "m2_dir   = data_dir+'m2.00z2.0e-2/LOGS'\n",
      "m20_dir  = data_dir+'m20.0z2.0e-2/LOGS'"
     ],
     "language": "python",
     "metadata": {},
     "outputs": []
    },
    {
     "cell_type": "markdown",
     "metadata": {},
     "source": [
      "Next we initialize one `mesa.py` `star_log` instance. In the WENDI notebooks `mesa.py` is already imported as `ms`. Docstring documentation for `mesa.py` is available at <http://http://nugridpy.phys.uvic.ca/mesa.html>, and of course via the usual access mode to python docstrings, such as `ms.?`."
     ]
    },
    {
     "cell_type": "code",
     "collapsed": false,
     "input": [
      "s2=ms.star_log(m2_dir)\n",
      "s20=ms.star_log(m20_dir)"
     ],
     "language": "python",
     "metadata": {},
     "outputs": []
    },
    {
     "cell_type": "markdown",
     "metadata": {},
     "source": [
      "Associated with the data instances `s2` and `s20` are various methods to produce standard plots, such as a Hertsprung-Russel Diagram:"
     ]
    },
    {
     "cell_type": "code",
     "collapsed": false,
     "input": [
      "s20.hrd_new()\n",
      "s2.hrd_new()"
     ],
     "language": "python",
     "metadata": {},
     "outputs": []
    },
    {
     "cell_type": "markdown",
     "metadata": {},
     "source": [
      "On these diagrams one can identify various observational phases, such as the pre-main-sequence and the main-sequence. The `cols` variable holds the names (column headers) of all available quantities in the instance."
     ]
    },
    {
     "cell_type": "code",
     "collapsed": false,
     "input": [
      "s2.cols"
     ],
     "language": "python",
     "metadata": {},
     "outputs": []
    },
    {
     "cell_type": "markdown",
     "metadata": {},
     "source": [
      "The plot method allows you to plot any of these quantities against any other quantity. In this case we would like to identify the model number where $ \\log T_{eff} \\approx 3.65 $, i.e. during the pre-main-sequence."
     ]
    },
    {
     "cell_type": "code",
     "collapsed": false,
     "input": [
      "s2.plot('model_number','log_Teff')"
     ],
     "language": "python",
     "metadata": {},
     "outputs": []
    },
    {
     "cell_type": "markdown",
     "metadata": {},
     "source": [
      "We can read off the diagram that model 300 is aproximately at the right temperature. \n",
      "\n",
      "Next we will create a `mesa_profile` instance at this model number. The `mesa_profile` instance will hold a standard mesa output profile file."
     ]
    },
    {
     "cell_type": "code",
     "collapsed": false,
     "input": [
      "p2=ms.mesa_profile(m2_dir,300)"
     ],
     "language": "python",
     "metadata": {},
     "outputs": []
    },
    {
     "cell_type": "markdown",
     "metadata": {},
     "source": [
      "Again you may want to check what data is available in this instance."
     ]
    },
    {
     "cell_type": "code",
     "collapsed": false,
     "input": [
      "p2.cols"
     ],
     "language": "python",
     "metadata": {},
     "outputs": []
    },
    {
     "cell_type": "markdown",
     "metadata": {},
     "source": [
      "In this case we are interested to find out where the star is convectively unstable. For that we extract and plot the adiabatic and radiative temperature gradient."
     ]
    },
    {
     "cell_type": "code",
     "collapsed": false,
     "input": [
      "grada=p2.get('grada')\n",
      "gradr=p2.get('gradr')\n",
      "mass=p2.get('mass')\n",
      "plot(mass,log10(grada))\n",
      "plot(mass,log10(gradr))"
     ],
     "language": "python",
     "metadata": {},
     "outputs": []
    },
    {
     "cell_type": "markdown",
     "metadata": {},
     "source": [
      "Of course we can also plot other profile quantities:"
     ]
    },
    {
     "cell_type": "code",
     "collapsed": false,
     "input": [
      "p.plot('mass','logRho')"
     ],
     "language": "python",
     "metadata": {},
     "outputs": []
    },
    {
     "cell_type": "code",
     "collapsed": false,
     "input": [
      "p.plot('logP','logRho')"
     ],
     "language": "python",
     "metadata": {},
     "outputs": []
    }
   ],
   "metadata": {}
  }
 ]
}