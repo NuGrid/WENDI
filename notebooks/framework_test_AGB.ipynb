{
 "cells": [
  {
   "cell_type": "code",
   "execution_count": null,
   "metadata": {
    "collapsed": true
   },
   "outputs": [],
   "source": [
    "import modules.widget_framework as framework\n",
    "from IPython.html import widgets\n",
    "from IPython.display import display\n",
    "reload(framework)"
   ]
  },
  {
   "cell_type": "code",
   "execution_count": null,
   "metadata": {
    "collapsed": true
   },
   "outputs": [],
   "source": [
    "wframework = framework.framework()\n",
    "wframework.set_default_display_style(box_style=\"info\")\n",
    "wframework.set_default_io_style(padding=\"0.5em\", margin=\"0.5em\")"
   ]
  },
  {
   "cell_type": "code",
   "execution_count": null,
   "metadata": {
    "collapsed": true
   },
   "outputs": [],
   "source": [
    "wframework.add_display_object(\"main_obj\")\n",
    "wframework.add_display_object(\"data_win\")\n",
    "wframework.add_display_object(\"plot_win\")\n",
    "\n",
    "wframework.add_io_object(\"mass_io\")\n",
    "wframework.add_io_object(\"Z_io\")\n",
    "wframework.add_io_object(\"load_io\")\n",
    "wframework.add_io_object(\"select_plot_io\")\n",
    "\n",
    "wframework.add_io_object(\"xax_kipp\")\n",
    "wframework.add_io_object(\"xax_tcrhoc\")\n",
    "wframework.add_io_object(\"yax_tcrhoc\")\n",
    "\n",
    "wframework.add_io_object(\"plot_io\")\n",
    "\n",
    "\n",
    "#wframework.switch_primary_display(\"b\")\n",
    "wframework.add_state(\"None\")\n",
    "wframework.add_state(\"kipp\")\n",
    "wframework.add_state(\"tcrhoc\")\n",
    "wframework.add_state(\"hrd\")"
   ]
  },
  {
   "cell_type": "code",
   "execution_count": null,
   "metadata": {
    "collapsed": true
   },
   "outputs": [],
   "source": [
    "wframework.set_state_attribute('main_obj', visible=True)\n",
    "wframework.set_state_attribute('data_win', visible=True)\n",
    "wframework.set_state_attribute('plot_win', visible=True)\n",
    "\n",
    "wframework.set_state_attribute('mass_io', visible=True)\n",
    "wframework.set_state_attribute('Z_io', visible=True)\n",
    "wframework.set_state_attribute('load_io', visible=True)\n",
    "wframework.set_state_attribute('select_plot_io', visible=True)\n",
    "\n",
    "wframework.set_state_attribute(\"xax_kipp\", \"kipp\", visible=True)\n",
    "wframework.set_state_attribute(\"xax_tcrhoc\", \"tcrhoc\", visible=True)\n",
    "wframework.set_state_attribute(\"yax_tcrhoc\", \"tcrhoc\", visible=True)\n",
    "\n",
    "wframework.set_state_attribute(\"plot_io\", \"kipp\", visible=True)\n",
    "wframework.set_state_attribute(\"plot_io\", \"tcrhoc\", visible = True)\n",
    "wframework.set_state_attribute(\"plot_io\", \"hrd\", visible=True)\n",
    "\n",
    "#wframework.set_state_links(\"b<->c link\", [(\"b\", 'visible'), (\"c\", \"visible\")])\n",
    "wframework.data = None\n",
    "def load_data(widget):\n",
    "    mass = wframework.get_attribute(\"mass_io\", 'value')\n",
    "    Z = wframework.get_attribute(\"Z_io\", 'value')\n",
    "    wframework.data=ms.star_log(mass=mass,Z=Z)\n",
    "\n",
    "def set_internal_state(widget, value):\n",
    "    wframework.switch_state(value)\n",
    "    \n",
    "def plot_kipp(widget):\n",
    "    xax = wframework.get_attribute(\"xax_kipp\", 'value')\n",
    "    wframework.data.kippenhahn_CO(1, xax)\n",
    "    \n",
    "def plot_tcrhoc(widget):\n",
    "    xax = wframework.get_attribute(\"xax_tcrhoc\", 'value')\n",
    "    yax = wframework.get_attribute(\"yax_tcrhoc\", 'value')\n",
    "    wframework.data.tcrhoc(1, lims=[xax[0], xax[1], yax[0], yax[1]])\n",
    "    \n",
    "def plot_hrd(widget):\n",
    "    wframework.data.hrd_new()\n",
    "\n",
    "wframework.set_state_callbacks('load_io', load_data, type='on_click')\n",
    "wframework.set_state_callbacks('select_plot_io', set_internal_state, 'value', type='on_trait_change')\n",
    "\n",
    "wframework.set_state_callbacks('plot_io', plot_kipp, state=\"kipp\", type='on_click')\n",
    "wframework.set_state_callbacks('plot_io', plot_tcrhoc, state=\"tcrhoc\", type='on_click')\n",
    "wframework.set_state_callbacks('plot_io', plot_hrd, state=\"hrd\", type='on_click')\n",
    "\n",
    "wframework.set_state_children('main_obj', ['data_win', \"plot_win\"])\n",
    "wframework.set_state_children('data_win', ['mass_io', 'Z_io', \"load_io\", 'select_plot_io'])\n",
    "\n",
    "wframework.set_state_children('plot_win', ['xax_kipp', 'plot_io'], \"kipp\")\n",
    "wframework.set_state_children('plot_win', ['xax_tcrhoc', 'yax_tcrhoc', 'plot_io'], \"tcrhoc\")\n",
    "wframework.set_state_children('plot_win', ['plot_io'], \"hrd\")\n",
    "\n",
    "wframework.set_state_root_objects(['main_obj'])\n",
    "\n",
    "wframework.set_object(\"main_obj\", widgets.Tab())\n",
    "wframework.set_object(\"data_win\", widgets.Box())\n",
    "wframework.set_object(\"plot_win\", widgets.Box())\n",
    "\n",
    "wframework.set_object(\"mass_io\", widgets.FloatSlider(description=\"mass\", min=0, max=10))\n",
    "wframework.set_object(\"Z_io\", widgets.FloatSlider(description=\"Z\", min=0, max=0.5))\n",
    "wframework.set_object(\"load_io\", widgets.Button(description=\"Load\"))\n",
    "wframework.set_object(\"select_plot_io\", widgets.Dropdown(description=\"plot\", options={\"kippenhan\":\"kipp\", \"tcrhoc\":\"tcrhoc\", \"HR-diagram\":\"hrd\"}))\n",
    "\n",
    "wframework.set_object(\"xax_kipp\", widgets.Dropdown(options=[\"model\", 'time']))\n",
    "wframework.set_object(\"xax_tcrhoc\", widgets.FloatRangeSlider(description=\"x-axis\", min=0, max=10))\n",
    "wframework.set_object(\"yax_tcrhoc\", widgets.FloatRangeSlider(description=\"y-axis\", min=0, max=10))\n",
    "\n",
    "wframework.set_object(\"plot_io\", widgets.Button(description=\"plot\"))"
   ]
  },
  {
   "cell_type": "code",
   "execution_count": null,
   "metadata": {
    "collapsed": true
   },
   "outputs": [],
   "source": [
    "display(wframework._object_list[\"main_obj\"])\n",
    "wframework.switch_state(\"None\")"
   ]
  },
  {
   "cell_type": "code",
   "execution_count": null,
   "metadata": {
    "collapsed": false
   },
   "outputs": [],
   "source": []
  }
 ],
 "metadata": {
  "kernelspec": {
   "display_name": "Python 2",
   "language": "python",
   "name": "python2"
  },
  "language_info": {
   "codemirror_mode": {
    "name": "ipython",
    "version": 2
   },
   "file_extension": ".py",
   "mimetype": "text/x-python",
   "name": "python",
   "nbconvert_exporter": "python",
   "pygments_lexer": "ipython2",
   "version": "2.7.5"
  }
 },
 "nbformat": 4,
 "nbformat_minor": 0
}
