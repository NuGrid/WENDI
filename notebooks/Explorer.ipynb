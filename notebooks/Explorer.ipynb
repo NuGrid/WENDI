{
 "cells": [
  {
   "cell_type": "code",
   "execution_count": 8,
   "metadata": {
    "collapsed": false
   },
   "outputs": [
    {
     "data": {
      "text/plain": [
       "<module 'modules.widget_framework' from 'modules/widget_framework.py'>"
      ]
     },
     "execution_count": 8,
     "metadata": {},
     "output_type": "execute_result"
    }
   ],
   "source": [
    "import modules.widget_framework as framework\n",
    "from IPython.html import widgets\n",
    "from IPython.display import display, clear_output\n",
    "reload(framework)"
   ]
  },
  {
   "cell_type": "code",
   "execution_count": 9,
   "metadata": {
    "collapsed": true
   },
   "outputs": [],
   "source": [
    "frame = framework.framework()\n",
    "frame.set_default_display_style(box_style=\"info\")\n",
    "frame.set_default_io_style(padding=\"0.5em\", margin=\"0.5em\")"
   ]
  },
  {
   "cell_type": "code",
   "execution_count": 10,
   "metadata": {
    "collapsed": false
   },
   "outputs": [],
   "source": [
    "frame.add_state(\"mesa_profile\")\n",
    "\n",
    "frame.add_display_object(\"window\")\n",
    "frame.add_io_object(\"Title\")\n",
    "frame.add_display_object(\"widget\")\n",
    "\n",
    "frame.add_display_object(\"mod_load\")\n",
    "frame.add_io_object(\"select_class\")\n",
    "frame.add_io_object(\"load_data\")\n",
    "\n",
    "frame.add_io_object(\"mass\")\n",
    "frame.add_io_object(\"Z\")\n",
    "\n",
    "frame.set_state_children(\"window\", [\"Title\", \"widget\"])\n",
    "frame.set_state_children(\"widget\", [\"mod_load\", \"mass\", \"Z\"])\n",
    "frame.set_state_children(\"mod_load\", [\"select_class\", \"load_data\"])"
   ]
  },
  {
   "cell_type": "code",
   "execution_count": 11,
   "metadata": {
    "collapsed": false
   },
   "outputs": [],
   "source": [
    "frame.set_state_attribute('window', visible=True)\n",
    "frame.set_state_attribute('Title', visible=True, value = \"<h1>Mesa Explorer</h1>\")\n",
    "frame.set_state_attribute('widget', visible=True)\n",
    "\n",
    "frame.set_state_attribute('mod_load', visible=True)\n",
    "frame.set_state_attribute('select_class', visible=True, options=[\"star_log\", \"mesa_profile\"])\n",
    "frame.set_state_attribute('load_data', visible=True, description=\"Load Data\")\n",
    "\n",
    "frame.set_state_attribute('mass', visible=True, description=\"mass\", min=0, max=10)\n",
    "frame.set_state_attribute('Z', visible=True, description=\"Z\", min=0, max=0.5, step=0.01)\n",
    "\n",
    "\n",
    "frame.set_object(\"window\", widgets.Box())\n",
    "frame.set_object(\"Title\", widgets.HTML(value=\"<h1>Mesa Explorer</h1>\"))\n",
    "frame.set_object(\"widget\", widgets.VBox())\n",
    "\n",
    "frame.set_object(\"mod_load\", widgets.HBox())\n",
    "frame.set_object(\"select_class\", widgets.Dropdown())\n",
    "frame.set_object(\"load_data\", widgets.Button())\n",
    "\n",
    "frame.set_object(\"mass\", widgets.FloatSlider())\n",
    "frame.set_object(\"Z\", widgets.FloatSlider())"
   ]
  },
  {
   "cell_type": "code",
   "execution_count": 13,
   "metadata": {
    "collapsed": false
   },
   "outputs": [],
   "source": [
    "frame.display_object(\"window\")"
   ]
  },
  {
   "cell_type": "code",
   "execution_count": null,
   "metadata": {
    "collapsed": true
   },
   "outputs": [],
   "source": []
  }
 ],
 "metadata": {
  "kernelspec": {
   "display_name": "Python 2",
   "language": "python",
   "name": "python2"
  },
  "language_info": {
   "codemirror_mode": {
    "name": "ipython",
    "version": 2
   },
   "file_extension": ".py",
   "mimetype": "text/x-python",
   "name": "python",
   "nbconvert_exporter": "python",
   "pygments_lexer": "ipython2",
   "version": "2.7.5"
  }
 },
 "nbformat": 4,
 "nbformat_minor": 0
}
