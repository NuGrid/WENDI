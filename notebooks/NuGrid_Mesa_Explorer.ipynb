{
 "cells": [
  {
   "cell_type": "code",
   "execution_count": 217,
   "metadata": {
    "collapsed": false
   },
   "outputs": [
    {
     "data": {
      "text/plain": [
       "<module 'modules.widget_framework' from 'modules/widget_framework.pyc'>"
      ]
     },
     "execution_count": 217,
     "metadata": {},
     "output_type": "execute_result"
    }
   ],
   "source": [
    "import modules.widget_framework as framework\n",
    "from IPython.html import widgets\n",
    "from IPython.display import display, clear_output\n",
    "reload(framework)"
   ]
  },
  {
   "cell_type": "code",
   "execution_count": 218,
   "metadata": {
    "collapsed": true
   },
   "outputs": [],
   "source": [
    "frame = framework.framework()\n",
    "frame.set_default_display_style(box_style=\"info\")\n",
    "frame.set_default_io_style(padding=\"0.5em\", margin=\"0.5em\")"
   ]
  },
  {
   "cell_type": "code",
   "execution_count": 219,
   "metadata": {
    "collapsed": false
   },
   "outputs": [],
   "source": [
    "states_nugrid = [\"nugrid\", \"iso_abund\", \"abu_chart\", \"movie\"]\n",
    "states_mesa = [\"mesa\", \"hrd\", \"plot\"]\n",
    "\n",
    "frame.add_state(states_nugrid)\n",
    "frame.add_state(states_mesa)\n",
    "\n",
    "frame.add_display_object(\"window\")\n",
    "frame.add_io_object(\"Title\")\n",
    "frame.add_display_object(\"widget\")\n",
    "\n",
    "frame.add_display_object(\"page_data\")\n",
    "frame.add_io_object(\"mass\")\n",
    "frame.add_io_object(\"Z\")\n",
    "frame.add_io_object(\"select_nugrid_mesa\")\n",
    "\n",
    "frame.add_display_object(\"contain_module_load\")\n",
    "frame.add_io_object(\"select_module\")\n",
    "frame.add_io_object(\"load_data\")\n",
    "\n",
    "frame.add_io_object(\"select_plot\")\n",
    "\n",
    "frame.set_state_children(\"window\", [\"Title\", \"widget\"])\n",
    "frame.set_state_children(\"widget\", [\"page_data\"])\n",
    "frame.set_state_children(\"page_data\", [\"mass\", \"Z\", \"select_nugrid_mesa\",\n",
    "                                       \"contain_module_load\", \"select_plot\"])\n",
    "frame.set_state_children(\"contain_module_load\", [\"select_module\", \"load_data\"])"
   ]
  },
  {
   "cell_type": "code",
   "execution_count": 228,
   "metadata": {
    "collapsed": false
   },
   "outputs": [
    {
     "name": "stdout",
     "output_type": "stream",
     "text": [
      "Closing plot_tools\n"
     ]
    }
   ],
   "source": [
    "###DEFAULT###\n",
    "\n",
    "frame.set_state_data(\"class_instance\", None)\n",
    "\n",
    "frame.set_state_attribute('window', visible=True)\n",
    "frame.set_state_attribute('Title', visible=True, value = \"<h1>NuGrid / Mesa Explorer</h1>\")\n",
    "frame.set_state_attribute('widget', visible=True)\n",
    "\n",
    "frame.set_state_attribute(\"page_data\", visible=True)\n",
    "frame.set_state_attribute('mass', visible=True, description=\"mass\", min=0,\n",
    "                          max=25, step=0.25)\n",
    "frame.set_state_attribute('Z', visible=True, description=\"Z\",\n",
    "                          options=[\"1E-4\", \"1E-3\", \"6E-3\", \"1E-2\", \"2E-2\"])\n",
    "frame.set_state_attribute(\"select_nugrid_mesa\", visible=True,\n",
    "                          description=\"Select NuGrid or Mesa\",\n",
    "                          options=[\"\", \"NuGrid\", \"Mesa\"])\n",
    "frame.set_state_attribute(\"contain_module_load\", visible=True)\n",
    "frame.set_state_attribute(\"select_module\", visible=True,\n",
    "                          description=\"Select data type\", disabled=True)\n",
    "frame.set_state_attribute(\"load_data\", visible=True,\n",
    "                          description=\"Load Data\", disabled=True)\n",
    "frame.set_state_attribute(\"select_plot\", visible=True,\n",
    "                          description=\"Select plot type\", disabled=True)\n",
    "\n",
    "###NUGRID###\n",
    "frame.set_state_attribute(\"select_module\", states_nugrid, options={\"H5 out\":\"se\"}, disabled=False)\n",
    "frame.set_state_attribute(\"load_data\", states_nugrid, disabled=False)\n",
    "frame.set_state_attribute(\"select_plot\", states_nugrid, options={\"Iso abundance\":\"iso_abund\", \"abundance chart\":\"abu_chart\", \"movie\":\"movie\"}, disabled=False)\n",
    "\n",
    "###MESA###\n",
    "frame.set_state_attribute(\"select_module\", states_mesa, options={\"History\":\"star_log\", \"Profile\":\"mesa_profile\"}, disabled=False)\n",
    "frame.set_state_attribute(\"load_data\", states_mesa, disabled=False)\n",
    "frame.set_state_attribute(\"select_plot\", states_mesa, options={\"HR-Diagram\":\"hrd\", \"Plot\":\"plot\"}, disabled=False)\n",
    "\n",
    "###CALLBACKS###\n",
    "def sel_nugrid_mesa(widget, value):\n",
    "    if value==\"NuGrid\":\n",
    "        frame.set_state(\"nugrid\")\n",
    "    elif value in \"Mesa\":\n",
    "        frame.set_state(\"mesa\")\n",
    "    else:\n",
    "        frame.set_state(\"default\")\n",
    "\n",
    "def load(widget):\n",
    "    clear_output()\n",
    "    data = None\n",
    "    mass = frame.get_attribute(\"mass\", \"value\")\n",
    "    Z = float(frame.get_attribute(\"Z\", \"value\"))\n",
    "    module = frame.get_attribute(\"select_module\", \"value\")\n",
    "    if module == \"se\":\n",
    "        data = mp.se(mass=mass, Z=Z)\n",
    "    elif module == \"star_log\":\n",
    "        data = ms.history_data(mass=mass, Z=Z)\n",
    "    elif module == \"mesa_profile\":\n",
    "        data = ms.mesa_profile(mass=mass, Z=Z)\n",
    "    else:\n",
    "        frame.set_state(\"default\")\n",
    "    frame.set_state_data(\"class_instance\", data)\n",
    "        \n",
    "def sel_plot(widget, value):\n",
    "    frame.set_state(value)\n",
    "\n",
    "frame.set_state_callbacks(\"select_nugrid_mesa\", sel_nugrid_mesa)\n",
    "frame.set_state_callbacks(\"load_data\", load, attribute=None, type=\"on_click\")\n",
    "frame.set_state_callbacks(\"select_plot\", sel_plot)\n",
    "\n",
    "frame.set_object(\"window\", widgets.Box())\n",
    "frame.set_object(\"Title\", widgets.HTML(value=\"<h1>Mesa Explorer</h1>\"))\n",
    "frame.set_object(\"widget\", widgets.Tab())\n",
    "\n",
    "frame.set_object(\"page_data\", widgets.VBox())\n",
    "frame.set_object(\"mass\", widgets.FloatSlider())\n",
    "frame.set_object(\"Z\", widgets.ToggleButtons())\n",
    "\n",
    "frame.set_object(\"select_nugrid_mesa\", widgets.Dropdown())\n",
    "frame.set_object(\"contain_module_load\", widgets.HBox())\n",
    "frame.set_object(\"select_module\", widgets.Dropdown())\n",
    "frame.set_object(\"load_data\", widgets.Button())\n",
    "frame.set_object(\"select_plot\", widgets.Dropdown())"
   ]
  },
  {
   "cell_type": "code",
   "execution_count": 229,
   "metadata": {
    "collapsed": false
   },
   "outputs": [
    {
     "name": "stdout",
     "output_type": "stream",
     "text": [
      "nugrid_path = /rpod3/lsiemens/data/CADC/NuGrid\n",
      "closest set is set1.2 (Z = 0.02)\n",
      "closest mass is 12.0\n",
      "Using old star.logsa file ...\n",
      " reading ...100% \n",
      "\n",
      "Closing star.log  tool ...\n"
     ]
    }
   ],
   "source": [
    "frame.display_object(\"window\")"
   ]
  },
  {
   "cell_type": "code",
   "execution_count": 210,
   "metadata": {
    "collapsed": true
   },
   "outputs": [],
   "source": [
    "mp.se()"
   ]
  },
  {
   "cell_type": "code",
   "execution_count": 211,
   "metadata": {
    "collapsed": true
   },
   "outputs": [],
   "source": [
    "ms.star_log?"
   ]
  },
  {
   "cell_type": "code",
   "execution_count": 212,
   "metadata": {
    "collapsed": true
   },
   "outputs": [],
   "source": [
    "ms.history_data?"
   ]
  },
  {
   "cell_type": "code",
   "execution_count": 213,
   "metadata": {
    "collapsed": true
   },
   "outputs": [],
   "source": [
    "ms.mesa_profile?"
   ]
  },
  {
   "cell_type": "code",
   "execution_count": null,
   "metadata": {
    "collapsed": true
   },
   "outputs": [],
   "source": []
  }
 ],
 "metadata": {
  "kernelspec": {
   "display_name": "Python 2",
   "language": "python",
   "name": "python2"
  },
  "language_info": {
   "codemirror_mode": {
    "name": "ipython",
    "version": 2
   },
   "file_extension": ".py",
   "mimetype": "text/x-python",
   "name": "python",
   "nbconvert_exporter": "python",
   "pygments_lexer": "ipython2",
   "version": "2.7.5"
  }
 },
 "nbformat": 4,
 "nbformat_minor": 0
}
