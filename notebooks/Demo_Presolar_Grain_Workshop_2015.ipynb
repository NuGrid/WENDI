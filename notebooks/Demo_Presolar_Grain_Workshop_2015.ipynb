{
 "metadata": {
  "name": "",
  "signature": "sha256:0a2705a7a74d979ce6fbf2eeda3565993790036aabd20d468c1c71bfabce4e07"
 },
 "nbformat": 3,
 "nbformat_minor": 0,
 "worksheets": [
  {
   "cells": [
    {
     "cell_type": "heading",
     "level": 1,
     "metadata": {},
     "source": [
      "Demonstration for the presolar grain workshop 2015"
     ]
    },
    {
     "cell_type": "markdown",
     "metadata": {},
     "source": [
      "For the NuGrid team: Reto Trappitsch, January 25, 2015"
     ]
    },
    {
     "cell_type": "markdown",
     "metadata": {},
     "source": [
      "Here I am gonna demonstrate some capabilities of the NuGrid tools for beginners, especially tuned to the presolar grain community. We will explore some stars from the stellar evolution code MESA using the mesa.py tool, browse the nucleosynthetic NuGrid output from a multizone calculation using nugridse.py, as well as filter out some presolar grains from the St. Louis database (http://presolar.wustl.edu/~pgd) and compare these grains with NuGrid models.\n",
      "This is a iPython Notebook. To run the code for yourself, click into a line and hit Shift+Enter to execute. Note that this notebook is interpreted, i.e., if you did not load the nugridse.py file in the beginning, you will not be able to executes commands of that class. So start at the beginning and go through the notebook! I will use standard python comments to explain single lines and more nicely looking comments to add helpful information to various steps."
     ]
    },
    {
     "cell_type": "code",
     "collapsed": false,
     "input": [
      "# First we will load the python tools to analyze NuGrid and MESA output\n",
      "import nugridse as mp\n",
      "import mesa as ms\n",
      "\n",
      "# Now we use these tools to set the appropriate path to the CADC server for NuGrid output as well as for MESA output\n",
      "mp.set_nugrid_path('/home/nugrid/CADC/NuGrid/data')\n",
      "ms.set_nugrid_path('/home/nugrid/CADC/NuGrid/data')\n",
      "\n",
      "# set path for initial abundance file\n",
      "iniabufile = '/home/nugrid/CADC/NuGrid/data/data/supplements/iniab2.0E-02GN93.ppn'\n",
      "# set folder to presolar grain database\n",
      "fol2gdb = '/home/nugrid/CADC/NuGrid/data/data/supplements/validation/grain_data/'"
     ],
     "language": "python",
     "metadata": {},
     "outputs": []
    },
    {
     "cell_type": "markdown",
     "metadata": {},
     "source": [
      "We have now loaded successfully the nugridse and mesa tools. We also set the paths to the CADC server that is mounted on this machine permanently in the given folder.\n",
      "Now the next thing to do is load some stars. We want to load a two solar mass star with solar metallicity for demonstration purposes. Let us load the mesa output into the variable m2se and the post processed output into the variables m2pp_out for the whole star and m2pp for the surface abundances only."
     ]
    },
    {
     "cell_type": "code",
     "collapsed": false,
     "input": [
      "m2se = ms.star_log(mass=2.,Z=0.02)\n",
      "m2pp_out = mp.se(mass=2., Z=0.02, output='out')\n",
      "m2pp = mp.se(mass=2.,Z=0.02, output='surf')"
     ],
     "language": "python",
     "metadata": {},
     "outputs": []
    },
    {
     "cell_type": "heading",
     "level": 2,
     "metadata": {},
     "source": [
      "Stellar evolution output"
     ]
    },
    {
     "cell_type": "markdown",
     "metadata": {},
     "source": [
      "Now that all the data are loaded we can start playing with them and explore the star. The sphinx documentation of the NuGrid tools will show you what functions are available and what they can actually do. You can find the documentation at http://nugridpy.phys.uvic.ca\n",
      "m2se.\n",
      "\n",
      "and then hit the tab button. That will give you a drop down menu with all the commands that are available. If you then type for example\n",
      "\n",
      "m2se.hrd_new?\n",
      "\n",
      "you will get a help file describing this function.\n",
      "\n",
      "Let us first have a look at the stellar evolution output and check out the HRD"
     ]
    },
    {
     "cell_type": "markdown",
     "metadata": {},
     "source": [
      "Note that you can also get help by typing"
     ]
    },
    {
     "cell_type": "code",
     "collapsed": false,
     "input": [
      "help(m2se)"
     ],
     "language": "python",
     "metadata": {},
     "outputs": []
    },
    {
     "cell_type": "markdown",
     "metadata": {},
     "source": [
      "and hit the tab button. That will give you a drop down menu with all the commands that are available. If you then type for example"
     ]
    },
    {
     "cell_type": "code",
     "collapsed": false,
     "input": [
      "m2se.hrd_new?"
     ],
     "language": "python",
     "metadata": {},
     "outputs": []
    },
    {
     "cell_type": "markdown",
     "metadata": {},
     "source": [
      "you will get a help file describing this function"
     ]
    },
    {
     "cell_type": "markdown",
     "metadata": {},
     "source": [
      "Let us first now have a look at the HRD diagram of the star. This is part of the stellar evolution output."
     ]
    },
    {
     "cell_type": "code",
     "collapsed": false,
     "input": [
      "m2se.hrd_new()"
     ],
     "language": "python",
     "metadata": {},
     "outputs": []
    },
    {
     "cell_type": "markdown",
     "metadata": {},
     "source": [
      "We can also have a look at the Kippenhahn diagram of the star."
     ]
    },
    {
     "cell_type": "code",
     "collapsed": false,
     "input": [
      "m2se.kip_cont()"
     ],
     "language": "python",
     "metadata": {},
     "outputs": []
    },
    {
     "cell_type": "markdown",
     "metadata": {},
     "source": [
      "The 'model number' is kind of a random x-axis, however, represents an adaptive time step from the MESA calculation. Therefore, it is the most useful x-axis in order to see something interesting. We can zoom in a bit to isolate one of the thermal pulses:"
     ]
    },
    {
     "cell_type": "code",
     "collapsed": false,
     "input": [
      "m2se.kip_cont(modstart=26800,modstop=27800,ylims=[0.54,0.6],engenPlus=False)"
     ],
     "language": "python",
     "metadata": {},
     "outputs": []
    },
    {
     "cell_type": "heading",
     "level": 2,
     "metadata": {},
     "source": [
      "Nucleosynthesis output"
     ]
    },
    {
     "cell_type": "markdown",
     "metadata": {},
     "source": [
      "Now that we played with the stellar evolution output, let us have a look on what is possible with the post-processed nucleosynthesis output. Let us first plot a Mo-98 over the lifetime of the star in model 27400."
     ]
    },
    {
     "cell_type": "code",
     "collapsed": false,
     "input": [
      "m2pp_out.plot('mass','Mo-98',fname=27400)"
     ],
     "language": "python",
     "metadata": {},
     "outputs": []
    },
    {
     "cell_type": "markdown",
     "metadata": {},
     "source": [
      "We do not see much in this figure, let us zoom in a bit."
     ]
    },
    {
     "cell_type": "code",
     "collapsed": false,
     "input": [
      "m2pp_out.plot('mass','Mo-98',fname=27400,limits=[0.57,0.585,1.5e-9,5e-9],show=False)"
     ],
     "language": "python",
     "metadata": {},
     "outputs": []
    },
    {
     "cell_type": "markdown",
     "metadata": {},
     "source": [
      "From mass coordinate 0.56 until 0.58 is the interesting region where we are inside the Mo-98 enrichment. Let us now make a movie over that region with some more isotopes and over all models of interest."
     ]
    },
    {
     "cell_type": "code",
     "collapsed": false,
     "input": [
      "# define cycles\n",
      "cycs = range(27000,27500,20)\n",
      "# define species to plot\n",
      "species=['H-1','He-4','C-12','C-13','N-14','O-16','Fe-56','Zr-96','Mo-98','Ba-138']\n",
      "# make the movie\n",
      "m2pp_out.movie(cycs,plotstyle='plot',x_item='mass',\n",
      "         y_items=species,logy=True,xlims=(0.57,0.585),\n",
      "         ylims=(-10,0.),interval=100,legend=True,loc='lower right')"
     ],
     "language": "python",
     "metadata": {},
     "outputs": []
    },
    {
     "cell_type": "markdown",
     "metadata": {},
     "source": [
      "Let us move away from animations and browsing stars and look more into the aspects that the presolar grain community might be interested in."
     ]
    },
    {
     "cell_type": "heading",
     "level": 2,
     "metadata": {},
     "source": [
      "NuGrid and Presolar grains"
     ]
    },
    {
     "cell_type": "markdown",
     "metadata": {},
     "source": [
      "First of all, many plots that we are used to in the presolar grain community can be done within the NuGrid framework. For example if we want to do a silicon three isotope plot, we can simply run the following command using the surface data."
     ]
    },
    {
     "cell_type": "code",
     "collapsed": false,
     "input": [
      "# define isotopes for x and y axis\n",
      "sixiso = ['Si-30','Si-28']\n",
      "siyiso = ['Si-29','Si-28']\n",
      "# make plot\n",
      "m2pp.plot_isoratios(sixiso,siyiso,spec='surf',iniabufile=iniabufile)"
     ],
     "language": "python",
     "metadata": {},
     "outputs": []
    },
    {
     "cell_type": "markdown",
     "metadata": {},
     "source": [
      "Here, the spec='surf' statement tells the routine that we are using surface data. The iniabufile, as defined in the preamble, gives it the solar system abundances.\n",
      "\n",
      "We can also choose to plot nitrogen versus carbon isotopic ratios."
     ]
    },
    {
     "cell_type": "code",
     "collapsed": false,
     "input": [
      "m2pp.plot_isoratios(['C-12','C-13'],['N-14','N-15'],deltax=False,deltay=False,logx=True,\n",
      "                    logy=True,spec='surf',iniabufile=iniabufile)"
     ],
     "language": "python",
     "metadata": {},
     "outputs": []
    },
    {
     "cell_type": "markdown",
     "metadata": {},
     "source": [
      "Now models alone are fun, but it is much better if we can compare these models with presolar grain data. Let us first load the presolar grain database from St. Louis. Again, since we are online, we need to specify the proper path where the data is as well as load the proper solar system abundance file (both defined above)."
     ]
    },
    {
     "cell_type": "code",
     "collapsed": false,
     "input": [
      "# import the class\n",
      "import grain\n",
      "# load an instance g that contains all grain data\n",
      "g = grain.gdb(gdbdir=fol2gdb,iniabufile=iniabufile)"
     ],
     "language": "python",
     "metadata": {},
     "outputs": []
    },
    {
     "cell_type": "markdown",
     "metadata": {},
     "source": [
      "A simple way of knowing what is in the database can be done by running g.info(). Let's try:"
     ]
    },
    {
     "cell_type": "code",
     "collapsed": false,
     "input": [
      "g.info()"
     ],
     "language": "python",
     "metadata": {},
     "outputs": []
    },
    {
     "cell_type": "markdown",
     "metadata": {},
     "source": [
      "That's a lot of grains. Let us filter out the mainstream grains to compare with the loaded two solar mass star."
     ]
    },
    {
     "cell_type": "code",
     "collapsed": false,
     "input": [
      "g.filter_desc(graintype='M')"
     ],
     "language": "python",
     "metadata": {},
     "outputs": []
    },
    {
     "cell_type": "markdown",
     "metadata": {},
     "source": [
      "Let's check again if we have fewer grains with g.info()"
     ]
    },
    {
     "cell_type": "code",
     "collapsed": false,
     "input": [
      "g.info()"
     ],
     "language": "python",
     "metadata": {},
     "outputs": []
    },
    {
     "cell_type": "markdown",
     "metadata": {},
     "source": [
      "Filters can always be reset by selecting g.reset_filter()"
     ]
    },
    {
     "cell_type": "code",
     "collapsed": false,
     "input": [
      "g.reset_filter()\n",
      "g.info()"
     ],
     "language": "python",
     "metadata": {},
     "outputs": []
    },
    {
     "cell_type": "markdown",
     "metadata": {},
     "source": [
      "Let us select some dataset to compare with zirconium isotopes. We want to use the mainstream grains that Barzyk et al. measured. Now we need to know how that is stored in the database."
     ]
    },
    {
     "cell_type": "code",
     "collapsed": false,
     "input": [
      "g.filter_desc(graintype='M')\n",
      "g.info(reference=True)"
     ],
     "language": "python",
     "metadata": {},
     "outputs": []
    },
    {
     "cell_type": "markdown",
     "metadata": {},
     "source": [
      "We can now filter for the refernece that we want"
     ]
    },
    {
     "cell_type": "code",
     "collapsed": false,
     "input": [
      "g.filter_desc(reference='Barzyk MAPS 2007')\n",
      "g.info(reference=True)"
     ],
     "language": "python",
     "metadata": {},
     "outputs": []
    },
    {
     "cell_type": "markdown",
     "metadata": {},
     "source": [
      "As you can see, we don't need to apply the filter for mainstream grains again, since we did this already. So now all the grains in the database available are the Barzyk et al. (2007) grains.\n",
      "Let us make some a Zr plot:"
     ]
    },
    {
     "cell_type": "code",
     "collapsed": false,
     "input": [
      "# define axis\n",
      "zrxiso = ['Zr-96','Zr-94']\n",
      "zryiso = ['Zr-92','Zr-94']\n",
      "# plot the model data\n",
      "m2pp.plot_isoratios(zrxiso,zryiso,spec='surf',iniabufile=iniabufile,legend='M2, Z0.02',\n",
      "                    plt_show=False)\n",
      "g.plot_isoratios(zrxiso,zryiso,iniabufile=iniabufile)"
     ],
     "language": "python",
     "metadata": {},
     "outputs": []
    },
    {
     "cell_type": "markdown",
     "metadata": {},
     "source": [
      "Oh well, the model does not fit very well, but we could go back and check out the other models..."
     ]
    },
    {
     "cell_type": "heading",
     "level": 2,
     "metadata": {},
     "source": [
      "Final remarks"
     ]
    },
    {
     "cell_type": "markdown",
     "metadata": {},
     "source": [
      "This concludes the short tutorial on how to use NuGrid models and compare them to presolar grain data. I hope it is useful for many people.\n",
      "Please have a look at the sphinx documentation at http://nugridpy.phys.uvic.ca and feel free to try out all the cool other stuff that is included in the routines. If you have questions, suggestions, comments (especially about the grain.py class), please send me a quick e-mail and I'm happy to look further into this."
     ]
    }
   ],
   "metadata": {}
  }
 ]
}