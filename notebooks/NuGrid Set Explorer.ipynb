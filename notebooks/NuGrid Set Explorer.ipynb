{
 "cells": [
  {
   "cell_type": "code",
   "execution_count": 13,
   "metadata": {
    "scrolled": false
   },
   "outputs": [
    {
     "name": "stdout",
     "output_type": "stream",
     "text": [
      "The autoreload extension is already loaded. To reload it, use:\n",
      "  %reload_ext autoreload\n"
     ]
    },
    {
     "data": {
      "application/vnd.jupyter.widget-view+json": {
       "model_id": "112cf6e3c3234f988896c4d6ca753147",
       "version_major": 2,
       "version_minor": 0
      },
      "text/html": [
       "<p>Failed to display Jupyter Widget of type <code>VBox</code>.</p>\n",
       "<p>\n",
       "  If you're reading this message in Jupyter Notebook or JupyterLab, it may mean\n",
       "  that the widgets JavaScript is still loading. If this message persists, it\n",
       "  likely means that the widgets JavaScript library is either not installed or\n",
       "  not enabled. See the <a href=\"https://ipywidgets.readthedocs.io/en/stable/user_install.html\">Jupyter\n",
       "  Widgets Documentation</a> for setup instructions.\n",
       "</p>\n",
       "<p>\n",
       "  If you're reading this message in another notebook frontend (for example, a static\n",
       "  rendering on GitHub or <a href=\"https://nbviewer.jupyter.org/\">NBViewer</a>),\n",
       "  it may mean that your frontend doesn't currently support widgets.\n",
       "</p>\n"
      ],
      "text/plain": [
       "VBox(children=(HTML(value='<center><h1>NuGrid Set explorer</h1></center><p><center>This explorer allows you to investigate NuGrid stellar evolution and yields data sets.</center></p>', layout=Layout(border='0.5em LightGrey', margin='0.25em', visibility='visible')), Tab(children=(VBox(children=(Dropdown(description='Mass: ', layout=Layout(border='0.5em LightGrey', margin='0.25em', visibility='visible'), options=('1.0', '1.65', '2.0', '3.0', '4.0', '5.0', '6.0', '7.0', '12.0', '15.0', '20.0', '25.0', '32.0', '60.0'), value='1.0'), ToggleButtons(description='Z: ', layout=Layout(border='0.5em LightGrey', margin='0.25em', visibility='visible'), options=('1E-4', '1E-3', '6E-3', '1E-2', '2E-2'), value='1E-4'), Text(value='/home/user/notebooks/WENDI/notebooks', layout=Layout(border='0.5em LightGrey', margin='0.25em', visibility='hidden')), Select(layout=Layout(border='0.5em LightGrey', margin='0.25em', visibility='hidden'), options=('.', '..', 'SYGMA self-guided user interface.ipynb', 'OMEGA self-guided interface.ipynb', 'NuGrid Set Explorer.ipynb', '.ipynb_checkpoints', 'OMEGA.ipynb'), value='.'), Dropdown(description='Select NuGrid or Mesa: ', layout=Layout(border='0.5em LightGrey', margin='0.25em', visibility='visible'), options=('', 'NuGrid', 'Mesa'), value=''), VBox(children=(Dropdown(description='Select data type: ', disabled=True, layout=Layout(border='0.5em LightGrey', margin='0.25em', visibility='visible'), options=(), value=None), VBox(children=(Text(value='', description='Select model: ', layout=Layout(border='0.5em LightGrey', margin='0.25em', visibility='hidden', width='10em'), placeholder='1'),), layout=Layout(border='0.5em LightGrey', visibility='hidden')), Button(description='Load Data', disabled=True, layout=Layout(border='0.5em LightGrey', margin='0.25em', visibility='visible'), style=ButtonStyle(font_weight='bold'))), layout=Layout(border='0em none', margin=' 0em 0em 0em 0em', visibility='visible'))), layout=Layout(border='0.5em LightGrey', margin='0em 0.5em 0.5em 0.5em', visibility='visible')), VBox(children=(Dropdown(description='Select plot type: ', disabled=True, layout=Layout(border='0.5em LightGrey', margin='0.25em', visibility='visible'), options=(), value=None), HTML(value='<h3>Error: No data loaded!</h3>', layout=Layout(border='0em none', margin=' 0em 0em 0em 0em', visibility='visible')), HTML(value='', layout=Layout(border='0em none', margin=' 0em 0em 0em 0em', visibility='hidden')), Dropdown(layout=Layout(border='0.5em LightGrey', margin='0.25em', visibility='hidden'), options=(), value=None), Text(value='', layout=Layout(border='0.5em LightGrey', margin='0.25em', visibility='hidden')), HBox(children=(IntSlider(value=0, layout=Layout(border='0.5em LightGrey', margin='0.25em', visibility='hidden')), IntRangeSlider(value=(25, 75), layout=Layout(border='0.5em LightGrey', margin='0.25em', visibility='hidden')), Text(value='', layout=Layout(border='0.5em LightGrey', margin='0.25em', visibility='hidden'))), layout=Layout(border='0.5em LightGrey', visibility='hidden')), HBox(children=(Select(description='select X-axis: ', layout=Layout(border='0.5em LightGrey', margin='0.25em', visibility='visible'), options=(), value=None), Checkbox(value=False, description='log X-axis: ', layout=Layout(border='0.5em LightGrey', margin='0.25em', visibility='visible'))), layout=Layout(border='0.5em LightGrey', visibility='hidden')), HBox(children=(SelectMultiple(description='select Y-axis: ', layout=Layout(border='0.5em LightGrey', margin='0.25em', visibility='visible'), options=(), value=()), Checkbox(value=False, description='log Y-axis: ', layout=Layout(border='0.5em LightGrey', margin='0.25em', visibility='visible'))), layout=Layout(border='0.5em LightGrey', visibility='hidden')), Checkbox(value=False, layout=Layout(border='0.5em LightGrey', margin='0.25em', visibility='hidden')), VBox(children=(Checkbox(value=False, layout=Layout(border='0.5em LightGrey', margin='0.25em', visibility='hidden')), IntRangeSlider(value=(25, 75), layout=Layout(border='0.5em LightGrey', margin='0.25em', visibility='hidden')), Checkbox(value=False, layout=Layout(border='0.5em LightGrey', margin='0.25em', visibility='hidden')), FloatRangeSlider(value=(25.0, 75.0), layout=Layout(border='0.5em LightGrey', margin='0.25em', visibility='hidden')), FloatRangeSlider(value=(25.0, 75.0), layout=Layout(border='0.5em LightGrey', margin='0.25em', visibility='hidden'))), layout=Layout(border='0.5em LightGrey', visibility='hidden')), VBox(children=(Checkbox(value=False, layout=Layout(border='0.5em LightGrey', margin='0.25em', visibility='hidden')), Checkbox(value=False, layout=Layout(border='0.5em LightGrey', margin='0.25em', visibility='hidden')), Checkbox(value=False, layout=Layout(border='0.5em LightGrey', margin='0.25em', visibility='hidden')), Checkbox(value=False, layout=Layout(border='0.5em LightGrey', margin='0.25em', visibility='hidden'))), layout=Layout(border='0.5em LightGrey', visibility='hidden')), VBox(children=(Dropdown(layout=Layout(border='0.5em LightGrey', margin='0.25em', visibility='hidden'), options=(), value=None), Checkbox(value=False, layout=Layout(border='0.5em LightGrey', margin='0.25em', visibility='hidden')), FloatRangeSlider(value=(25.0, 75.0), layout=Layout(border='0.5em LightGrey', margin='0.25em', visibility='hidden')), FloatRangeSlider(value=(25.0, 75.0), layout=Layout(border='0.5em LightGrey', margin='0.25em', visibility='hidden')), Text(value='', layout=Layout(border='0.5em LightGrey', margin='0.25em', visibility='hidden')), Text(value='', layout=Layout(border='0.5em LightGrey', margin='0.25em', visibility='hidden'))), layout=Layout(border='0.5em LightGrey', visibility='hidden')), VBox(children=(Checkbox(value=False, layout=Layout(border='0.5em LightGrey', margin='0.25em', visibility='hidden')), Checkbox(value=False, layout=Layout(border='0.5em LightGrey', margin='0.25em', visibility='hidden')), Checkbox(value=False, layout=Layout(border='0.5em LightGrey', margin='0.25em', visibility='hidden'))), layout=Layout(border='0.5em LightGrey', visibility='hidden')), Button(layout=Layout(border='0.5em LightGrey', margin='0.25em', visibility='hidden'), style=ButtonStyle())), layout=Layout(border='0.5em LightGrey', visibility='visible'))), layout=Layout(border='0em none', margin=' 0em 0em 0em 0em', visibility='visible'), _titles={'1': 'Plotting', '0': 'Data'})), layout=Layout(border='0em none', margin=' 0em 0em 0em 0em', visibility='visible'))"
      ]
     },
     "metadata": {},
     "output_type": "display_data"
    }
   ],
   "source": [
    "%load_ext autoreload\n",
    "%autoreload 2\n",
    "import sys\n",
    "sys.path.insert(0,'/home/user/notebooks/WENDI/modules_py3/')\n",
    "from NuGrid_Mesa_Explorer_py3 import *\n",
    "import nugridpy.mesa as ms\n",
    "\n",
    "import nugridpy.nugridse as mp\n",
    "ms.set_nugrid_path('/data/nugrid_apod2/')\n",
    "mp.set_nugrid_path('/data/nugrid_apod2/')\n",
    "start_explorer(globals())\n",
    "\n",
    "#disable the dropdown menu"
   ]
  },
  {
   "cell_type": "code",
   "execution_count": null,
   "metadata": {},
   "outputs": [],
   "source": []
  }
 ],
 "metadata": {
  "celltoolbar": "Edit Metadata",
  "kernelspec": {
   "display_name": "Python 3",
   "language": "python",
   "name": "python3"
  },
  "language_info": {
   "codemirror_mode": {
    "name": "ipython",
    "version": 3
   },
   "file_extension": ".py",
   "mimetype": "text/x-python",
   "name": "python",
   "nbconvert_exporter": "python",
   "pygments_lexer": "ipython3",
   "version": "3.5.2"
  }
 },
 "nbformat": 4,
 "nbformat_minor": 2
}
