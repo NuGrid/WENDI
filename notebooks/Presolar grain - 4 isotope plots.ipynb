{
 "metadata": {
  "name": "",
  "signature": "sha256:dae2cffeaba2d45fda6270fdbf5a6b8eac06bf01caa248e45d466176970ffae2"
 },
 "nbformat": 3,
 "nbformat_minor": 0,
 "worksheets": [
  {
   "cells": [
    {
     "cell_type": "heading",
     "level": 1,
     "metadata": {},
     "source": [
      "4 isotope plots for AGB stars, massive stars, and presolar grains"
     ]
    },
    {
     "cell_type": "markdown",
     "metadata": {},
     "source": [
      "Let's first load nugridse.py and grain.py and load the NuGrid path"
     ]
    },
    {
     "cell_type": "code",
     "collapsed": false,
     "input": [
      "import nugridse as nuse\n",
      "import grain\n",
      "# load the grain database as instance g\n",
      "g = grain.gdb()\n",
      "# set the NuGrid path to cadc\n",
      "nuse.set_nugrid_path('/home/nugrid/CADC/NuGrid')"
     ],
     "language": "python",
     "metadata": {},
     "outputs": [
      {
       "output_type": "stream",
       "stream": "stdout",
       "text": [
        "Reading in... this takes a little bit\n",
        "WARNING:"
       ]
      },
      {
       "output_type": "stream",
       "stream": "stdout",
       "text": [
        "\n",
        "This initial abundance file uses an element name that does\n",
        "not contain the mass number in the 3rd to 5th position.\n",
        "It is assumed that this is the proton and we will change\n",
        "the name to 'h   1' to be consistent with the notation used\n",
        "in iniab.dat files\n"
       ]
      }
     ],
     "prompt_number": 1
    },
    {
     "cell_type": "heading",
     "level": 2,
     "metadata": {},
     "source": [
      "AGB star comparisons"
     ]
    },
    {
     "cell_type": "markdown",
     "metadata": {},
     "source": [
      "Let's start with comparing presolar grain data with Zr and Ba isotopes. First we want to load two models, let's take the 2 and the 3 solar mass models at solar metallicity. Make sure that you choose the surface output files!"
     ]
    },
    {
     "cell_type": "code",
     "collapsed": false,
     "input": [
      "inst_m2_z1 = nuse.se(mass=2.,Z=0.02,output='surf')\n",
      "inst_m3_z1 = nuse.se(mass=3.,Z=0.02,output='surf')"
     ],
     "language": "python",
     "metadata": {},
     "outputs": [
      {
       "output_type": "stream",
       "stream": "stdout",
       "text": [
        "nugrid_path = /home/nugrid/CADC/NuGrid\n",
        "closest set is set1.2 (Z = 0.02)\n",
        "closest mass is 2.0\n",
        "sedir =  /home/nugrid/CADC/NuGrid/data/set1/set1.2/ppd_wind/M2.00Z2.0e-02.standard/H5_surf\n",
        "Searching files, please wait.......\n",
        "/home/nugrid/CADC/NuGrid/data/set1/set1.2/ppd_wind/M2.00Z2.0e-02.standard/H5_surf/M2.00Z0.020.0000001.surf.h5\n",
        "/home/nugrid/CADC/NuGrid/data/set1/set1.2/ppd_wind/M2.00Z2.0e-02.standard/H5_surf/M2.00Z0.020.0001001.surf.h5\n",
        "/home/nugrid/CADC/NuGrid/data/set1/set1.2/ppd_wind/M2.00Z2.0e-02.standard/H5_surf/M2.00Z0.020.0002001.surf.h5\n",
        "/home/nugrid/CADC/NuGrid/data/set1/set1.2/ppd_wind/M2.00Z2.0e-02.standard/H5_surf/M2.00Z0.020.0003001.surf.h5\n",
        "/home/nugrid/CADC/NuGrid/data/set1/set1.2/ppd_wind/M2.00Z2.0e-02.standard/H5_surf/M2.00Z0.020.0004001.surf.h5\n",
        "/home/nugrid/CADC/NuGrid/data/set1/set1.2/ppd_wind/M2.00Z2.0e-02.standard/H5_surf/M2.00Z0.020.0005001.surf.h5\n",
        "/home/nugrid/CADC/NuGrid/data/set1/set1.2/ppd_wind/M2.00Z2.0e-02.standard/H5_surf/M2.00Z0.020.0006001.surf.h5\n",
        "/home/nugrid/CADC/NuGrid/data/set1/set1.2/ppd_wind/M2.00Z2.0e-02.standard/H5_surf/M2.00Z0.020.0007001.surf.h5\n",
        "/home/nugrid/CADC/NuGrid/data/set1/set1.2/ppd_wind/M2.00Z2.0e-02.standard/H5_surf/M2.00Z0.020.0008001.surf.h5\n",
        "/home/nugrid/CADC/NuGrid/data/set1/set1.2/ppd_wind/M2.00Z2.0e-02.standard/H5_surf/M2.00Z0.020.0009001.surf.h5\n",
        "/home/nugrid/CADC/NuGrid/data/set1/set1.2/ppd_wind/M2.00Z2.0e-02.standard/H5_surf/M2.00Z0.020.0010001.surf.h5\n",
        "/home/nugrid/CADC/NuGrid/data/set1/set1.2/ppd_wind/M2.00Z2.0e-02.standard/H5_surf/M2.00Z0.020.0011001.surf.h5\n",
        "/home/nugrid/CADC/NuGrid/data/set1/set1.2/ppd_wind/M2.00Z2.0e-02.standard/H5_surf/M2.00Z0.020.0012001.surf.h5\n",
        "/home/nugrid/CADC/NuGrid/data/set1/set1.2/ppd_wind/M2.00Z2.0e-02.standard/H5_surf/M2.00Z0.020.0013001.surf.h5\n",
        "/home/nugrid/CADC/NuGrid/data/set1/set1.2/ppd_wind/M2.00Z2.0e-02.standard/H5_surf/M2.00Z0.020.0014001.surf.h5\n",
        "/home/nugrid/CADC/NuGrid/data/set1/set1.2/ppd_wind/M2.00Z2.0e-02.standard/H5_surf/M2.00Z0.020.0015001.surf.h5\n",
        "/home/nugrid/CADC/NuGrid/data/set1/set1.2/ppd_wind/M2.00Z2.0e-02.standard/H5_surf/M2.00Z0.020.0016001.surf.h5\n",
        "/home/nugrid/CADC/NuGrid/data/set1/set1.2/ppd_wind/M2.00Z2.0e-02.standard/H5_surf/M2.00Z0.020.0017001.surf.h5\n",
        "/home/nugrid/CADC/NuGrid/data/set1/set1.2/ppd_wind/M2.00Z2.0e-02.standard/H5_surf/M2.00Z0.020.0018001.surf.h5\n",
        "/home/nugrid/CADC/NuGrid/data/set1/set1.2/ppd_wind/M2.00Z2.0e-02.standard/H5_surf/M2.00Z0.020.0019001.surf.h5\n",
        "/home/nugrid/CADC/NuGrid/data/set1/set1.2/ppd_wind/M2.00Z2.0e-02.standard/H5_surf/M2.00Z0.020.0020001.surf.h5\n",
        "/home/nugrid/CADC/NuGrid/data/set1/set1.2/ppd_wind/M2.00Z2.0e-02.standard/H5_surf/M2.00Z0.020.0021001.surf.h5\n",
        "/home/nugrid/CADC/NuGrid/data/set1/set1.2/ppd_wind/M2.00Z2.0e-02.standard/H5_surf/M2.00Z0.020.0022001.surf.h5\n",
        "/home/nugrid/CADC/NuGrid/data/set1/set1.2/ppd_wind/M2.00Z2.0e-02.standard/H5_surf/M2.00Z0.020.0023001.surf.h5\n",
        "/home/nugrid/CADC/NuGrid/data/set1/set1.2/ppd_wind/M2.00Z2.0e-02.standard/H5_surf/M2.00Z0.020.0024001.surf.h5\n",
        "/home/nugrid/CADC/NuGrid/data/set1/set1.2/ppd_wind/M2.00Z2.0e-02.standard/H5_surf/M2.00Z0.020.0025001.surf.h5\n",
        "/home/nugrid/CADC/NuGrid/data/set1/set1.2/ppd_wind/M2.00Z2.0e-02.standard/H5_surf/M2.00Z0.020.0026001.surf.h5\n",
        "/home/nugrid/CADC/NuGrid/data/set1/set1.2/ppd_wind/M2.00Z2.0e-02.standard/H5_surf/M2.00Z0.020.0027001.surf.h5\n",
        "/home/nugrid/CADC/NuGrid/data/set1/set1.2/ppd_wind/M2.00Z2.0e-02.standard/H5_surf/M2.00Z0.020.0028001.surf.h5\n",
        "/home/nugrid/CADC/NuGrid/data/set1/set1.2/ppd_wind/M2.00Z2.0e-02.standard/H5_surf/M2.00Z0.020.0029001.surf.h5\n",
        "/home/nugrid/CADC/NuGrid/data/set1/set1.2/ppd_wind/M2.00Z2.0e-02.standard/H5_surf/M2.00Z0.020.0030001.surf.h5\n",
        "/home/nugrid/CADC/NuGrid/data/set1/set1.2/ppd_wind/M2.00Z2.0e-02.standard/H5_surf/M2.00Z0.020.0031001.surf.h5\n",
        "/home/nugrid/CADC/NuGrid/data/set1/set1.2/ppd_wind/M2.00Z2.0e-02.standard/H5_surf/M2.00Z0.020.0032001.surf.h5\n",
        "/home/nugrid/CADC/NuGrid/data/set1/set1.2/ppd_wind/M2.00Z2.0e-02.standard/H5_surf/M2.00Z0.020.0033001.surf.h5\n",
        "/home/nugrid/CADC/NuGrid/data/set1/set1.2/ppd_wind/M2.00Z2.0e-02.standard/H5_surf/M2.00Z0.020.0034001.surf.h5\n",
        "/home/nugrid/CADC/NuGrid/data/set1/set1.2/ppd_wind/M2.00Z2.0e-02.standard/H5_surf/M2.00Z0.020.0035001.surf.h5\n",
        "/home/nugrid/CADC/NuGrid/data/set1/set1.2/ppd_wind/M2.00Z2.0e-02.standard/H5_surf/M2.00Z0.020.0036001.surf.h5\n",
        "/home/nugrid/CADC/NuGrid/data/set1/set1.2/ppd_wind/M2.00Z2.0e-02.standard/H5_surf/M2.00Z0.020.0037001.surf.h5\n",
        "/home/nugrid/CADC/NuGrid/data/set1/set1.2/ppd_wind/M2.00Z2.0e-02.standard/H5_surf/M2.00Z0.020.0038001.surf.h5\n",
        "/home/nugrid/CADC/NuGrid/data/set1/set1.2/ppd_wind/M2.00Z2.0e-02.standard/H5_surf/M2.00Z0.020.0039001.surf.h5\n",
        "/home/nugrid/CADC/NuGrid/data/set1/set1.2/ppd_wind/M2.00Z2.0e-02.standard/H5_surf/M2.00Z0.020.0040001.surf.h5\n",
        "/home/nugrid/CADC/NuGrid/data/set1/set1.2/ppd_wind/M2.00Z2.0e-02.standard/H5_surf/M2.00Z0.020.0041001.surf.h5\n",
        "/home/nugrid/CADC/NuGrid/data/set1/set1.2/ppd_wind/M2.00Z2.0e-02.standard/H5_surf/M2.00Z0.020.0042001.surf.h5\n",
        "/home/nugrid/CADC/NuGrid/data/set1/set1.2/ppd_wind/M2.00Z2.0e-02.standard/H5_surf/M2.00Z0.020.0043001.surf.h5\n",
        "/home/nugrid/CADC/NuGrid/data/set1/set1.2/ppd_wind/M2.00Z2.0e-02.standard/H5_surf/M2.00Z0.020.0044001.surf.h5\n",
        "/home/nugrid/CADC/NuGrid/data/set1/set1.2/ppd_wind/M2.00Z2.0e-02.standard/H5_surf/M2.00Z0.020.0045001.surf.h5\n",
        "/home/nugrid/CADC/NuGrid/data/set1/set1.2/ppd_wind/M2.00Z2.0e-02.standard/H5_surf/M2.00Z0.020.0046001.surf.h5\n",
        "/home/nugrid/CADC/NuGrid/data/set1/set1.2/ppd_wind/M2.00Z2.0e-02.standard/H5_surf/M2.00Z0.020.0047001.surf.h5\n",
        "/home/nugrid/CADC/NuGrid/data/set1/set1.2/ppd_wind/M2.00Z2.0e-02.standard/H5_surf/M2.00Z0.020.0048001.surf.h5\n",
        "/home/nugrid/CADC/NuGrid/data/set1/set1.2/ppd_wind/M2.00Z2.0e-02.standard/H5_surf/M2.00Z0.020.0049001.surf.h5\n",
        "/home/nugrid/CADC/NuGrid/data/set1/set1.2/ppd_wind/M2.00Z2.0e-02.standard/H5_surf/M2.00Z0.020.0050001.surf.h5\n",
        "/home/nugrid/CADC/NuGrid/data/set1/set1.2/ppd_wind/M2.00Z2.0e-02.standard/H5_surf/M2.00Z0.020.0051001.surf.h5\n",
        "/home/nugrid/CADC/NuGrid/data/set1/set1.2/ppd_wind/M2.00Z2.0e-02.standard/H5_surf/M2.00Z0.020.0052001.surf.h5\n",
        "/home/nugrid/CADC/NuGrid/data/set1/set1.2/ppd_wind/M2.00Z2.0e-02.standard/H5_surf/M2.00Z0.020.0053001.surf.h5\n",
        "/home/nugrid/CADC/NuGrid/data/set1/set1.2/ppd_wind/M2.00Z2.0e-02.standard/H5_surf/M2.00Z0.020.0054001.surf.h5\n",
        "/home/nugrid/CADC/NuGrid/data/set1/set1.2/ppd_wind/M2.00Z2.0e-02.standard/H5_surf/M2.00Z0.020.0055001.surf.h5\n",
        "/home/nugrid/CADC/NuGrid/data/set1/set1.2/ppd_wind/M2.00Z2.0e-02.standard/H5_surf/M2.00Z0.020.0056001.surf.h5\n",
        "/home/nugrid/CADC/NuGrid/data/set1/set1.2/ppd_wind/M2.00Z2.0e-02.standard/H5_surf/M2.00Z0.020.0057001.surf.h5\n",
        "/home/nugrid/CADC/NuGrid/data/set1/set1.2/ppd_wind/M2.00Z2.0e-02.standard/H5_surf/M2.00Z0.020.0058001.surf.h5\n",
        "Reading preprocessor files\n",
        "File search complete.\n",
        "Total duration is 0.443621873856 seconds.\n",
        "Closing plot_tools"
       ]
      },
      {
       "output_type": "stream",
       "stream": "stdout",
       "text": [
        "\n",
        "nugrid_path = /home/nugrid/CADC/NuGrid\n",
        "closest set is set1.2 (Z = 0.02)\n",
        "closest mass is 3.0\n",
        "sedir =  /home/nugrid/CADC/NuGrid/data/set1/set1.2/ppd_wind/M3.00Z2.0e-02.standard/H5_surf\n",
        "Searching files, please wait.......\n",
        "/home/nugrid/CADC/NuGrid/data/set1/set1.2/ppd_wind/M3.00Z2.0e-02.standard/H5_surf/M3.00Z0.020.0000001.surf.h5\n",
        "/home/nugrid/CADC/NuGrid/data/set1/set1.2/ppd_wind/M3.00Z2.0e-02.standard/H5_surf/M3.00Z0.020.0001001.surf.h5\n",
        "/home/nugrid/CADC/NuGrid/data/set1/set1.2/ppd_wind/M3.00Z2.0e-02.standard/H5_surf/M3.00Z0.020.0002001.surf.h5\n",
        "/home/nugrid/CADC/NuGrid/data/set1/set1.2/ppd_wind/M3.00Z2.0e-02.standard/H5_surf/M3.00Z0.020.0003001.surf.h5\n",
        "/home/nugrid/CADC/NuGrid/data/set1/set1.2/ppd_wind/M3.00Z2.0e-02.standard/H5_surf/M3.00Z0.020.0004001.surf.h5\n",
        "/home/nugrid/CADC/NuGrid/data/set1/set1.2/ppd_wind/M3.00Z2.0e-02.standard/H5_surf/M3.00Z0.020.0005001.surf.h5\n",
        "/home/nugrid/CADC/NuGrid/data/set1/set1.2/ppd_wind/M3.00Z2.0e-02.standard/H5_surf/M3.00Z0.020.0006001.surf.h5\n",
        "/home/nugrid/CADC/NuGrid/data/set1/set1.2/ppd_wind/M3.00Z2.0e-02.standard/H5_surf/M3.00Z0.020.0007001.surf.h5\n",
        "/home/nugrid/CADC/NuGrid/data/set1/set1.2/ppd_wind/M3.00Z2.0e-02.standard/H5_surf/M3.00Z0.020.0008001.surf.h5\n",
        "/home/nugrid/CADC/NuGrid/data/set1/set1.2/ppd_wind/M3.00Z2.0e-02.standard/H5_surf/M3.00Z0.020.0009001.surf.h5\n",
        "/home/nugrid/CADC/NuGrid/data/set1/set1.2/ppd_wind/M3.00Z2.0e-02.standard/H5_surf/M3.00Z0.020.0010001.surf.h5\n",
        "/home/nugrid/CADC/NuGrid/data/set1/set1.2/ppd_wind/M3.00Z2.0e-02.standard/H5_surf/M3.00Z0.020.0011001.surf.h5\n",
        "/home/nugrid/CADC/NuGrid/data/set1/set1.2/ppd_wind/M3.00Z2.0e-02.standard/H5_surf/M3.00Z0.020.0012001.surf.h5\n",
        "/home/nugrid/CADC/NuGrid/data/set1/set1.2/ppd_wind/M3.00Z2.0e-02.standard/H5_surf/M3.00Z0.020.0013001.surf.h5\n",
        "/home/nugrid/CADC/NuGrid/data/set1/set1.2/ppd_wind/M3.00Z2.0e-02.standard/H5_surf/M3.00Z0.020.0014001.surf.h5\n",
        "/home/nugrid/CADC/NuGrid/data/set1/set1.2/ppd_wind/M3.00Z2.0e-02.standard/H5_surf/M3.00Z0.020.0015001.surf.h5\n",
        "/home/nugrid/CADC/NuGrid/data/set1/set1.2/ppd_wind/M3.00Z2.0e-02.standard/H5_surf/M3.00Z0.020.0016001.surf.h5\n",
        "/home/nugrid/CADC/NuGrid/data/set1/set1.2/ppd_wind/M3.00Z2.0e-02.standard/H5_surf/M3.00Z0.020.0017001.surf.h5\n",
        "/home/nugrid/CADC/NuGrid/data/set1/set1.2/ppd_wind/M3.00Z2.0e-02.standard/H5_surf/M3.00Z0.020.0018001.surf.h5\n",
        "/home/nugrid/CADC/NuGrid/data/set1/set1.2/ppd_wind/M3.00Z2.0e-02.standard/H5_surf/M3.00Z0.020.0019001.surf.h5\n",
        "/home/nugrid/CADC/NuGrid/data/set1/set1.2/ppd_wind/M3.00Z2.0e-02.standard/H5_surf/M3.00Z0.020.0020001.surf.h5\n",
        "/home/nugrid/CADC/NuGrid/data/set1/set1.2/ppd_wind/M3.00Z2.0e-02.standard/H5_surf/M3.00Z0.020.0021001.surf.h5\n",
        "/home/nugrid/CADC/NuGrid/data/set1/set1.2/ppd_wind/M3.00Z2.0e-02.standard/H5_surf/M3.00Z0.020.0022001.surf.h5\n",
        "/home/nugrid/CADC/NuGrid/data/set1/set1.2/ppd_wind/M3.00Z2.0e-02.standard/H5_surf/M3.00Z0.020.0023001.surf.h5\n",
        "/home/nugrid/CADC/NuGrid/data/set1/set1.2/ppd_wind/M3.00Z2.0e-02.standard/H5_surf/M3.00Z0.020.0024001.surf.h5\n",
        "/home/nugrid/CADC/NuGrid/data/set1/set1.2/ppd_wind/M3.00Z2.0e-02.standard/H5_surf/M3.00Z0.020.0025001.surf.h5\n",
        "/home/nugrid/CADC/NuGrid/data/set1/set1.2/ppd_wind/M3.00Z2.0e-02.standard/H5_surf/M3.00Z0.020.0026001.surf.h5\n",
        "/home/nugrid/CADC/NuGrid/data/set1/set1.2/ppd_wind/M3.00Z2.0e-02.standard/H5_surf/M3.00Z0.020.0027001.surf.h5\n",
        "/home/nugrid/CADC/NuGrid/data/set1/set1.2/ppd_wind/M3.00Z2.0e-02.standard/H5_surf/M3.00Z0.020.0028001.surf.h5\n",
        "/home/nugrid/CADC/NuGrid/data/set1/set1.2/ppd_wind/M3.00Z2.0e-02.standard/H5_surf/M3.00Z0.020.0029001.surf.h5\n",
        "/home/nugrid/CADC/NuGrid/data/set1/set1.2/ppd_wind/M3.00Z2.0e-02.standard/H5_surf/M3.00Z0.020.0030001.surf.h5\n",
        "/home/nugrid/CADC/NuGrid/data/set1/set1.2/ppd_wind/M3.00Z2.0e-02.standard/H5_surf/M3.00Z0.020.0031001.surf.h5\n",
        "/home/nugrid/CADC/NuGrid/data/set1/set1.2/ppd_wind/M3.00Z2.0e-02.standard/H5_surf/M3.00Z0.020.0032001.surf.h5\n",
        "/home/nugrid/CADC/NuGrid/data/set1/set1.2/ppd_wind/M3.00Z2.0e-02.standard/H5_surf/M3.00Z0.020.0033001.surf.h5\n",
        "/home/nugrid/CADC/NuGrid/data/set1/set1.2/ppd_wind/M3.00Z2.0e-02.standard/H5_surf/M3.00Z0.020.0034001.surf.h5\n",
        "/home/nugrid/CADC/NuGrid/data/set1/set1.2/ppd_wind/M3.00Z2.0e-02.standard/H5_surf/M3.00Z0.020.0035001.surf.h5\n",
        "/home/nugrid/CADC/NuGrid/data/set1/set1.2/ppd_wind/M3.00Z2.0e-02.standard/H5_surf/M3.00Z0.020.0036001.surf.h5\n",
        "/home/nugrid/CADC/NuGrid/data/set1/set1.2/ppd_wind/M3.00Z2.0e-02.standard/H5_surf/M3.00Z0.020.0037001.surf.h5\n",
        "/home/nugrid/CADC/NuGrid/data/set1/set1.2/ppd_wind/M3.00Z2.0e-02.standard/H5_surf/M3.00Z0.020.0038001.surf.h5\n",
        "/home/nugrid/CADC/NuGrid/data/set1/set1.2/ppd_wind/M3.00Z2.0e-02.standard/H5_surf/M3.00Z0.020.0039001.surf.h5\n",
        "/home/nugrid/CADC/NuGrid/data/set1/set1.2/ppd_wind/M3.00Z2.0e-02.standard/H5_surf/M3.00Z0.020.0040001.surf.h5\n",
        "/home/nugrid/CADC/NuGrid/data/set1/set1.2/ppd_wind/M3.00Z2.0e-02.standard/H5_surf/M3.00Z0.020.0041001.surf.h5\n",
        "/home/nugrid/CADC/NuGrid/data/set1/set1.2/ppd_wind/M3.00Z2.0e-02.standard/H5_surf/M3.00Z0.020.0042001.surf.h5\n",
        "/home/nugrid/CADC/NuGrid/data/set1/set1.2/ppd_wind/M3.00Z2.0e-02.standard/H5_surf/M3.00Z0.020.0043001.surf.h5\n",
        "/home/nugrid/CADC/NuGrid/data/set1/set1.2/ppd_wind/M3.00Z2.0e-02.standard/H5_surf/M3.00Z0.020.0044001.surf.h5\n",
        "/home/nugrid/CADC/NuGrid/data/set1/set1.2/ppd_wind/M3.00Z2.0e-02.standard/H5_surf/M3.00Z0.020.0045001.surf.h5\n",
        "/home/nugrid/CADC/NuGrid/data/set1/set1.2/ppd_wind/M3.00Z2.0e-02.standard/H5_surf/M3.00Z0.020.0046001.surf.h5\n",
        "/home/nugrid/CADC/NuGrid/data/set1/set1.2/ppd_wind/M3.00Z2.0e-02.standard/H5_surf/M3.00Z0.020.0047001.surf.h5\n",
        "/home/nugrid/CADC/NuGrid/data/set1/set1.2/ppd_wind/M3.00Z2.0e-02.standard/H5_surf/M3.00Z0.020.0048001.surf.h5\n",
        "/home/nugrid/CADC/NuGrid/data/set1/set1.2/ppd_wind/M3.00Z2.0e-02.standard/H5_surf/M3.00Z0.020.0049001.surf.h5\n",
        "/home/nugrid/CADC/NuGrid/data/set1/set1.2/ppd_wind/M3.00Z2.0e-02.standard/H5_surf/M3.00Z0.020.0050001.surf.h5\n",
        "/home/nugrid/CADC/NuGrid/data/set1/set1.2/ppd_wind/M3.00Z2.0e-02.standard/H5_surf/M3.00Z0.020.0051001.surf.h5\n",
        "/home/nugrid/CADC/NuGrid/data/set1/set1.2/ppd_wind/M3.00Z2.0e-02.standard/H5_surf/M3.00Z0.020.0052001.surf.h5\n",
        "/home/nugrid/CADC/NuGrid/data/set1/set1.2/ppd_wind/M3.00Z2.0e-02.standard/H5_surf/M3.00Z0.020.0053001.surf.h5\n",
        "/home/nugrid/CADC/NuGrid/data/set1/set1.2/ppd_wind/M3.00Z2.0e-02.standard/H5_surf/M3.00Z0.020.0054001.surf.h5\n",
        "/home/nugrid/CADC/NuGrid/data/set1/set1.2/ppd_wind/M3.00Z2.0e-02.standard/H5_surf/M3.00Z0.020.0055001.surf.h5\n",
        "/home/nugrid/CADC/NuGrid/data/set1/set1.2/ppd_wind/M3.00Z2.0e-02.standard/H5_surf/M3.00Z0.020.0056001.surf.h5\n",
        "/home/nugrid/CADC/NuGrid/data/set1/set1.2/ppd_wind/M3.00Z2.0e-02.standard/H5_surf/M3.00Z0.020.0057001.surf.h5\n",
        "/home/nugrid/CADC/NuGrid/data/set1/set1.2/ppd_wind/M3.00Z2.0e-02.standard/H5_surf/M3.00Z0.020.0058001.surf.h5\n",
        "/home/nugrid/CADC/NuGrid/data/set1/set1.2/ppd_wind/M3.00Z2.0e-02.standard/H5_surf/M3.00Z0.020.0059001.surf.h5\n",
        "/home/nugrid/CADC/NuGrid/data/set1/set1.2/ppd_wind/M3.00Z2.0e-02.standard/H5_surf/M3.00Z0.020.0060001.surf.h5\n",
        "/home/nugrid/CADC/NuGrid/data/set1/set1.2/ppd_wind/M3.00Z2.0e-02.standard/H5_surf/M3.00Z0.020.0061001.surf.h5\n",
        "/home/nugrid/CADC/NuGrid/data/set1/set1.2/ppd_wind/M3.00Z2.0e-02.standard/H5_surf/M3.00Z0.020.0062001.surf.h5\n",
        "/home/nugrid/CADC/NuGrid/data/set1/set1.2/ppd_wind/M3.00Z2.0e-02.standard/H5_surf/M3.00Z0.020.0063001.surf.h5\n",
        "/home/nugrid/CADC/NuGrid/data/set1/set1.2/ppd_wind/M3.00Z2.0e-02.standard/H5_surf/M3.00Z0.020.0064001.surf.h5\n",
        "/home/nugrid/CADC/NuGrid/data/set1/set1.2/ppd_wind/M3.00Z2.0e-02.standard/H5_surf/M3.00Z0.020.0065001.surf.h5\n",
        "/home/nugrid/CADC/NuGrid/data/set1/set1.2/ppd_wind/M3.00Z2.0e-02.standard/H5_surf/M3.00Z0.020.0066001.surf.h5\n",
        "/home/nugrid/CADC/NuGrid/data/set1/set1.2/ppd_wind/M3.00Z2.0e-02.standard/H5_surf/M3.00Z0.020.0067001.surf.h5\n",
        "/home/nugrid/CADC/NuGrid/data/set1/set1.2/ppd_wind/M3.00Z2.0e-02.standard/H5_surf/M3.00Z0.020.0068001.surf.h5\n",
        "/home/nugrid/CADC/NuGrid/data/set1/set1.2/ppd_wind/M3.00Z2.0e-02.standard/H5_surf/M3.00Z0.020.0069001.surf.h5\n",
        "/home/nugrid/CADC/NuGrid/data/set1/set1.2/ppd_wind/M3.00Z2.0e-02.standard/H5_surf/M3.00Z0.020.0070001.surf.h5\n",
        "/home/nugrid/CADC/NuGrid/data/set1/set1.2/ppd_wind/M3.00Z2.0e-02.standard/H5_surf/M3.00Z0.020.0071001.surf.h5\n",
        "/home/nugrid/CADC/NuGrid/data/set1/set1.2/ppd_wind/M3.00Z2.0e-02.standard/H5_surf/M3.00Z0.020.0072001.surf.h5\n",
        "/home/nugrid/CADC/NuGrid/data/set1/set1.2/ppd_wind/M3.00Z2.0e-02.standard/H5_surf/M3.00Z0.020.0073001.surf.h5\n",
        "/home/nugrid/CADC/NuGrid/data/set1/set1.2/ppd_wind/M3.00Z2.0e-02.standard/H5_surf/M3.00Z0.020.0074001.surf.h5\n",
        "/home/nugrid/CADC/NuGrid/data/set1/set1.2/ppd_wind/M3.00Z2.0e-02.standard/H5_surf/M3.00Z0.020.0075001.surf.h5\n",
        "/home/nugrid/CADC/NuGrid/data/set1/set1.2/ppd_wind/M3.00Z2.0e-02.standard/H5_surf/M3.00Z0.020.0076001.surf.h5\n",
        "/home/nugrid/CADC/NuGrid/data/set1/set1.2/ppd_wind/M3.00Z2.0e-02.standard/H5_surf/M3.00Z0.020.0077001.surf.h5\n",
        "/home/nugrid/CADC/NuGrid/data/set1/set1.2/ppd_wind/M3.00Z2.0e-02.standard/H5_surf/M3.00Z0.020.0078001.surf.h5\n",
        "/home/nugrid/CADC/NuGrid/data/set1/set1.2/ppd_wind/M3.00Z2.0e-02.standard/H5_surf/M3.00Z0.020.0079001.surf.h5\n",
        "/home/nugrid/CADC/NuGrid/data/set1/set1.2/ppd_wind/M3.00Z2.0e-02.standard/H5_surf/M3.00Z0.020.0080001.surf.h5\n",
        "/home/nugrid/CADC/NuGrid/data/set1/set1.2/ppd_wind/M3.00Z2.0e-02.standard/H5_surf/M3.00Z0.020.0081001.surf.h5\n",
        "/home/nugrid/CADC/NuGrid/data/set1/set1.2/ppd_wind/M3.00Z2.0e-02.standard/H5_surf/M3.00Z0.020.0082001.surf.h5\n",
        "/home/nugrid/CADC/NuGrid/data/set1/set1.2/ppd_wind/M3.00Z2.0e-02.standard/H5_surf/M3.00Z0.020.0083001.surf.h5\n",
        "/home/nugrid/CADC/NuGrid/data/set1/set1.2/ppd_wind/M3.00Z2.0e-02.standard/H5_surf/M3.00Z0.020.0084001.surf.h5\n",
        "/home/nugrid/CADC/NuGrid/data/set1/set1.2/ppd_wind/M3.00Z2.0e-02.standard/H5_surf/M3.00Z0.020.0085001.surf.h5\n",
        "/home/nugrid/CADC/NuGrid/data/set1/set1.2/ppd_wind/M3.00Z2.0e-02.standard/H5_surf/M3.00Z0.020.0086001.surf.h5\n",
        "/home/nugrid/CADC/NuGrid/data/set1/set1.2/ppd_wind/M3.00Z2.0e-02.standard/H5_surf/M3.00Z0.020.0087001.surf.h5\n",
        "/home/nugrid/CADC/NuGrid/data/set1/set1.2/ppd_wind/M3.00Z2.0e-02.standard/H5_surf/M3.00Z0.020.0088001.surf.h5\n",
        "/home/nugrid/CADC/NuGrid/data/set1/set1.2/ppd_wind/M3.00Z2.0e-02.standard/H5_surf/M3.00Z0.020.0089001.surf.h5\n",
        "Reading preprocessor files\n",
        "File search complete.\n",
        "Total duration is 0.965572834015 seconds.\n"
       ]
      }
     ],
     "prompt_number": 3
    },
    {
     "cell_type": "markdown",
     "metadata": {},
     "source": [
      "Now let's filter the grain data for Zr data, assuming we want to make plots for Zr. Note that for that, we want to use the data from Barzyk et al. (2007)."
     ]
    },
    {
     "cell_type": "code",
     "collapsed": false,
     "input": [
      "g.filter_desc(reference='Barzyk MAPS 2007')\n",
      "g.filter_desc(graintype='M')"
     ],
     "language": "python",
     "metadata": {},
     "outputs": [],
     "prompt_number": 5
    },
    {
     "cell_type": "markdown",
     "metadata": {},
     "source": [
      "Now make some plots with the models and the grain data, using the plot_isoratios routine in data_plot.py. Since you can dig through explosive files as well as surface files, for now, please specify the special variable spec='surf' for AGB stars. If you don't specify it, the code will simply ask you to choose one while plotting."
     ]
    },
    {
     "cell_type": "code",
     "collapsed": false,
     "input": [
      "xiso = ['Zr-96','Zr-94']\n",
      "yiso = ['Zr-90','Zr-94']\n",
      "inst_m2_z1.plot_isoratios(xiso,yiso,spec='surf',legend='M2 Zsun',plt_symb='s',plt_col='r',plt_show=False)\n",
      "inst_m3_z1.plot_isoratios(xiso,yiso,spec='surf',legend='M3 Zsun',plt_symb='^',plt_col='b',plt_show=False)\n",
      "g.plot_isoratios(xiso,yiso)"
     ],
     "language": "python",
     "metadata": {},
     "outputs": [
      {
       "output_type": "stream",
       "stream": "stdout",
       "text": [
        "WARNING:\n",
        "This initial abundance file uses an element name that does\n",
        "not contain the mass number in the 3rd to 5th position.\n",
        "It is assumed that this is the proton and we will change\n",
        "the name to 'h   1' to be consistent with the notation used\n",
        "in iniab.dat files\n",
        "Plotting AGB star stuff\n"
       ]
      },
      {
       "output_type": "stream",
       "stream": "stdout",
       "text": [
        "\r",
        "reading ['shellnb'] data ...100%"
       ]
      },
      {
       "output_type": "stream",
       "stream": "stdout",
       "text": [
        "\r",
        "reading ['iso_massf'] data ...0%"
       ]
      },
      {
       "output_type": "stream",
       "stream": "stdout",
       "text": [
        "\r",
        "reading ['iso_massf'] data ...1%"
       ]
      },
      {
       "output_type": "stream",
       "stream": "stdout",
       "text": [
        "\r",
        "reading ['iso_massf'] data ...2%"
       ]
      },
      {
       "output_type": "stream",
       "stream": "stdout",
       "text": [
        "\r",
        "reading ['iso_massf'] data ...3%"
       ]
      },
      {
       "output_type": "stream",
       "stream": "stdout",
       "text": [
        "\r",
        "reading ['iso_massf'] data ...4%"
       ]
      },
      {
       "output_type": "stream",
       "stream": "stdout",
       "text": [
        "\r",
        "reading ['iso_massf'] data ...5%"
       ]
      },
      {
       "output_type": "stream",
       "stream": "stdout",
       "text": [
        "\r",
        "reading ['iso_massf'] data ...5%"
       ]
      },
      {
       "output_type": "stream",
       "stream": "stdout",
       "text": [
        "\r",
        "reading ['iso_massf'] data ...6%"
       ]
      },
      {
       "output_type": "stream",
       "stream": "stdout",
       "text": [
        "\r",
        "reading ['iso_massf'] data ...7%"
       ]
      },
      {
       "output_type": "stream",
       "stream": "stdout",
       "text": [
        "\r",
        "reading ['iso_massf'] data ...8%"
       ]
      },
      {
       "output_type": "stream",
       "stream": "stdout",
       "text": [
        "\r",
        "reading ['iso_massf'] data ...9%"
       ]
      },
      {
       "output_type": "stream",
       "stream": "stdout",
       "text": [
        "\r",
        "reading ['iso_massf'] data ...10%"
       ]
      },
      {
       "output_type": "stream",
       "stream": "stdout",
       "text": [
        "\r",
        "reading ['iso_massf'] data ...10%"
       ]
      },
      {
       "output_type": "stream",
       "stream": "stdout",
       "text": [
        "\r",
        "reading ['iso_massf'] data ...11%"
       ]
      },
      {
       "output_type": "stream",
       "stream": "stdout",
       "text": [
        "\r",
        "reading ['iso_massf'] data ...12%"
       ]
      },
      {
       "output_type": "stream",
       "stream": "stdout",
       "text": [
        "\r",
        "reading ['iso_massf'] data ...13%"
       ]
      },
      {
       "output_type": "stream",
       "stream": "stdout",
       "text": [
        "\r",
        "reading ['iso_massf'] data ...14%"
       ]
      },
      {
       "output_type": "stream",
       "stream": "stdout",
       "text": [
        "\r",
        "reading ['iso_massf'] data ...15%"
       ]
      },
      {
       "output_type": "stream",
       "stream": "stdout",
       "text": [
        "\r",
        "reading ['iso_massf'] data ...15%"
       ]
      },
      {
       "output_type": "stream",
       "stream": "stdout",
       "text": [
        "\r",
        "reading ['iso_massf'] data ...16%"
       ]
      },
      {
       "output_type": "stream",
       "stream": "stdout",
       "text": [
        "\r",
        "reading ['iso_massf'] data ...17%"
       ]
      },
      {
       "output_type": "stream",
       "stream": "stdout",
       "text": [
        "\r",
        "reading ['iso_massf'] data ...18%"
       ]
      },
      {
       "output_type": "stream",
       "stream": "stdout",
       "text": [
        "\r",
        "reading ['iso_massf'] data ...19%"
       ]
      },
      {
       "output_type": "stream",
       "stream": "stdout",
       "text": [
        "\r",
        "reading ['iso_massf'] data ...20%"
       ]
      },
      {
       "output_type": "stream",
       "stream": "stdout",
       "text": [
        "\r",
        "reading ['iso_massf'] data ...21%"
       ]
      },
      {
       "output_type": "stream",
       "stream": "stdout",
       "text": [
        "\r",
        "reading ['iso_massf'] data ...21%"
       ]
      },
      {
       "output_type": "stream",
       "stream": "stdout",
       "text": [
        "\r",
        "reading ['iso_massf'] data ...22%"
       ]
      },
      {
       "output_type": "stream",
       "stream": "stdout",
       "text": [
        "\r",
        "reading ['iso_massf'] data ...23%"
       ]
      },
      {
       "output_type": "stream",
       "stream": "stdout",
       "text": [
        "\r",
        "reading ['iso_massf'] data ...24%"
       ]
      },
      {
       "output_type": "stream",
       "stream": "stdout",
       "text": [
        "\r",
        "reading ['iso_massf'] data ...25%"
       ]
      },
      {
       "output_type": "stream",
       "stream": "stdout",
       "text": [
        "\r",
        "reading ['iso_massf'] data ...26%"
       ]
      },
      {
       "output_type": "stream",
       "stream": "stdout",
       "text": [
        "\r",
        "reading ['iso_massf'] data ...26%"
       ]
      },
      {
       "output_type": "stream",
       "stream": "stdout",
       "text": [
        "\r",
        "reading ['iso_massf'] data ...27%"
       ]
      },
      {
       "output_type": "stream",
       "stream": "stdout",
       "text": [
        "\r",
        "reading ['iso_massf'] data ...28%"
       ]
      },
      {
       "output_type": "stream",
       "stream": "stdout",
       "text": [
        "\r",
        "reading ['iso_massf'] data ...29%"
       ]
      },
      {
       "output_type": "stream",
       "stream": "stdout",
       "text": [
        "\r",
        "reading ['iso_massf'] data ...30%"
       ]
      },
      {
       "output_type": "stream",
       "stream": "stdout",
       "text": [
        "\r",
        "reading ['iso_massf'] data ...31%"
       ]
      },
      {
       "output_type": "stream",
       "stream": "stdout",
       "text": [
        "\r",
        "reading ['iso_massf'] data ...31%"
       ]
      },
      {
       "output_type": "stream",
       "stream": "stdout",
       "text": [
        "\r",
        "reading ['iso_massf'] data ...32%"
       ]
      },
      {
       "output_type": "stream",
       "stream": "stdout",
       "text": [
        "\r",
        "reading ['iso_massf'] data ...33%"
       ]
      },
      {
       "output_type": "stream",
       "stream": "stdout",
       "text": [
        "\r",
        "reading ['iso_massf'] data ...34%"
       ]
      },
      {
       "output_type": "stream",
       "stream": "stdout",
       "text": [
        "\r",
        "reading ['iso_massf'] data ...35%"
       ]
      },
      {
       "output_type": "stream",
       "stream": "stdout",
       "text": [
        "\r",
        "reading ['iso_massf'] data ...36%"
       ]
      },
      {
       "output_type": "stream",
       "stream": "stdout",
       "text": [
        "\r",
        "reading ['iso_massf'] data ...36%"
       ]
      },
      {
       "output_type": "stream",
       "stream": "stdout",
       "text": [
        "\r",
        "reading ['iso_massf'] data ...37%"
       ]
      },
      {
       "output_type": "stream",
       "stream": "stdout",
       "text": [
        "\r",
        "reading ['iso_massf'] data ...38%"
       ]
      },
      {
       "output_type": "stream",
       "stream": "stdout",
       "text": [
        "\r",
        "reading ['iso_massf'] data ...39%"
       ]
      },
      {
       "output_type": "stream",
       "stream": "stdout",
       "text": [
        "\r",
        "reading ['iso_massf'] data ...40%"
       ]
      },
      {
       "output_type": "stream",
       "stream": "stdout",
       "text": [
        "\r",
        "reading ['iso_massf'] data ...41%"
       ]
      },
      {
       "output_type": "stream",
       "stream": "stdout",
       "text": [
        "\r",
        "reading ['iso_massf'] data ...42%"
       ]
      },
      {
       "output_type": "stream",
       "stream": "stdout",
       "text": [
        "\r",
        "reading ['iso_massf'] data ...42%"
       ]
      },
      {
       "output_type": "stream",
       "stream": "stdout",
       "text": [
        "\r",
        "reading ['iso_massf'] data ...43%"
       ]
      },
      {
       "output_type": "stream",
       "stream": "stdout",
       "text": [
        "\r",
        "reading ['iso_massf'] data ...44%"
       ]
      },
      {
       "output_type": "stream",
       "stream": "stdout",
       "text": [
        "\r",
        "reading ['iso_massf'] data ...45%"
       ]
      },
      {
       "output_type": "stream",
       "stream": "stdout",
       "text": [
        "\r",
        "reading ['iso_massf'] data ...46%"
       ]
      },
      {
       "output_type": "stream",
       "stream": "stdout",
       "text": [
        "\r",
        "reading ['iso_massf'] data ...47%"
       ]
      },
      {
       "output_type": "stream",
       "stream": "stdout",
       "text": [
        "\r",
        "reading ['iso_massf'] data ...47%"
       ]
      },
      {
       "output_type": "stream",
       "stream": "stdout",
       "text": [
        "\r",
        "reading ['iso_massf'] data ...48%"
       ]
      },
      {
       "output_type": "stream",
       "stream": "stdout",
       "text": [
        "\r",
        "reading ['iso_massf'] data ...49%"
       ]
      },
      {
       "output_type": "stream",
       "stream": "stdout",
       "text": [
        "\r",
        "reading ['iso_massf'] data ...50%"
       ]
      },
      {
       "output_type": "stream",
       "stream": "stdout",
       "text": [
        "\r",
        "reading ['iso_massf'] data ...51%"
       ]
      },
      {
       "output_type": "stream",
       "stream": "stdout",
       "text": [
        "\r",
        "reading ['iso_massf'] data ...52%"
       ]
      },
      {
       "output_type": "stream",
       "stream": "stdout",
       "text": [
        "\r",
        "reading ['iso_massf'] data ...52%"
       ]
      },
      {
       "output_type": "stream",
       "stream": "stdout",
       "text": [
        "\r",
        "reading ['iso_massf'] data ...53%"
       ]
      },
      {
       "output_type": "stream",
       "stream": "stdout",
       "text": [
        "\r",
        "reading ['iso_massf'] data ...54%"
       ]
      },
      {
       "output_type": "stream",
       "stream": "stdout",
       "text": [
        "\r",
        "reading ['iso_massf'] data ...55%"
       ]
      },
      {
       "output_type": "stream",
       "stream": "stdout",
       "text": [
        "\r",
        "reading ['iso_massf'] data ...56%"
       ]
      },
      {
       "output_type": "stream",
       "stream": "stdout",
       "text": [
        "\r",
        "reading ['iso_massf'] data ...57%"
       ]
      },
      {
       "output_type": "stream",
       "stream": "stdout",
       "text": [
        "\r",
        "reading ['iso_massf'] data ...57%"
       ]
      },
      {
       "output_type": "stream",
       "stream": "stdout",
       "text": [
        "\r",
        "reading ['iso_massf'] data ...58%"
       ]
      },
      {
       "output_type": "stream",
       "stream": "stdout",
       "text": [
        "\r",
        "reading ['iso_massf'] data ...59%"
       ]
      },
      {
       "output_type": "stream",
       "stream": "stdout",
       "text": [
        "\r",
        "reading ['iso_massf'] data ...60%"
       ]
      },
      {
       "output_type": "stream",
       "stream": "stdout",
       "text": [
        "\r",
        "reading ['iso_massf'] data ...61%"
       ]
      },
      {
       "output_type": "stream",
       "stream": "stdout",
       "text": [
        "\r",
        "reading ['iso_massf'] data ...62%"
       ]
      },
      {
       "output_type": "stream",
       "stream": "stdout",
       "text": [
        "\r",
        "reading ['iso_massf'] data ...63%"
       ]
      },
      {
       "output_type": "stream",
       "stream": "stdout",
       "text": [
        "\r",
        "reading ['iso_massf'] data ...63%"
       ]
      },
      {
       "output_type": "stream",
       "stream": "stdout",
       "text": [
        "\r",
        "reading ['iso_massf'] data ...64%"
       ]
      },
      {
       "output_type": "stream",
       "stream": "stdout",
       "text": [
        "\r",
        "reading ['iso_massf'] data ...65%"
       ]
      },
      {
       "output_type": "stream",
       "stream": "stdout",
       "text": [
        "\r",
        "reading ['iso_massf'] data ...66%"
       ]
      },
      {
       "output_type": "stream",
       "stream": "stdout",
       "text": [
        "\r",
        "reading ['iso_massf'] data ...67%"
       ]
      },
      {
       "output_type": "stream",
       "stream": "stdout",
       "text": [
        "\r",
        "reading ['iso_massf'] data ...68%"
       ]
      },
      {
       "output_type": "stream",
       "stream": "stdout",
       "text": [
        "\r",
        "reading ['iso_massf'] data ...68%"
       ]
      },
      {
       "output_type": "stream",
       "stream": "stdout",
       "text": [
        "\r",
        "reading ['iso_massf'] data ...69%"
       ]
      },
      {
       "output_type": "stream",
       "stream": "stdout",
       "text": [
        "\r",
        "reading ['iso_massf'] data ...70%"
       ]
      },
      {
       "output_type": "stream",
       "stream": "stdout",
       "text": [
        "\r",
        "reading ['iso_massf'] data ...71%"
       ]
      },
      {
       "output_type": "stream",
       "stream": "stdout",
       "text": [
        "\r",
        "reading ['iso_massf'] data ...72%"
       ]
      },
      {
       "output_type": "stream",
       "stream": "stdout",
       "text": [
        "\r",
        "reading ['iso_massf'] data ...73%"
       ]
      },
      {
       "output_type": "stream",
       "stream": "stdout",
       "text": [
        "\r",
        "reading ['iso_massf'] data ...73%"
       ]
      },
      {
       "output_type": "stream",
       "stream": "stdout",
       "text": [
        "\r",
        "reading ['iso_massf'] data ...74%"
       ]
      },
      {
       "output_type": "stream",
       "stream": "stdout",
       "text": [
        "\r",
        "reading ['iso_massf'] data ...75%"
       ]
      },
      {
       "output_type": "stream",
       "stream": "stdout",
       "text": [
        "\r",
        "reading ['iso_massf'] data ...76%"
       ]
      },
      {
       "output_type": "stream",
       "stream": "stdout",
       "text": [
        "\r",
        "reading ['iso_massf'] data ...77%"
       ]
      },
      {
       "output_type": "stream",
       "stream": "stdout",
       "text": [
        "\r",
        "reading ['iso_massf'] data ...78%"
       ]
      },
      {
       "output_type": "stream",
       "stream": "stdout",
       "text": [
        "\r",
        "reading ['iso_massf'] data ...78%"
       ]
      },
      {
       "output_type": "stream",
       "stream": "stdout",
       "text": [
        "\r",
        "reading ['iso_massf'] data ...79%"
       ]
      },
      {
       "output_type": "stream",
       "stream": "stdout",
       "text": [
        "\r",
        "reading ['iso_massf'] data ...80%"
       ]
      },
      {
       "output_type": "stream",
       "stream": "stdout",
       "text": [
        "\r",
        "reading ['iso_massf'] data ...81%"
       ]
      },
      {
       "output_type": "stream",
       "stream": "stdout",
       "text": [
        "\r",
        "reading ['iso_massf'] data ...82%"
       ]
      },
      {
       "output_type": "stream",
       "stream": "stdout",
       "text": [
        "\r",
        "reading ['iso_massf'] data ...83%"
       ]
      },
      {
       "output_type": "stream",
       "stream": "stdout",
       "text": [
        "\r",
        "reading ['iso_massf'] data ...84%"
       ]
      },
      {
       "output_type": "stream",
       "stream": "stdout",
       "text": [
        "\r",
        "reading ['iso_massf'] data ...84%"
       ]
      },
      {
       "output_type": "stream",
       "stream": "stdout",
       "text": [
        "\r",
        "reading ['iso_massf'] data ...85%"
       ]
      },
      {
       "output_type": "stream",
       "stream": "stdout",
       "text": [
        "\r",
        "reading ['iso_massf'] data ...86%"
       ]
      },
      {
       "output_type": "stream",
       "stream": "stdout",
       "text": [
        "\r",
        "reading ['iso_massf'] data ...87%"
       ]
      },
      {
       "output_type": "stream",
       "stream": "stdout",
       "text": [
        "\r",
        "reading ['iso_massf'] data ...88%"
       ]
      },
      {
       "output_type": "stream",
       "stream": "stdout",
       "text": [
        "\r",
        "reading ['iso_massf'] data ...89%"
       ]
      },
      {
       "output_type": "stream",
       "stream": "stdout",
       "text": [
        "\r",
        "reading ['iso_massf'] data ...89%"
       ]
      },
      {
       "output_type": "stream",
       "stream": "stdout",
       "text": [
        "\r",
        "reading ['iso_massf'] data ...90%"
       ]
      },
      {
       "output_type": "stream",
       "stream": "stdout",
       "text": [
        "\r",
        "reading ['iso_massf'] data ...91%"
       ]
      },
      {
       "output_type": "stream",
       "stream": "stdout",
       "text": [
        "\r",
        "reading ['iso_massf'] data ...92%"
       ]
      },
      {
       "output_type": "stream",
       "stream": "stdout",
       "text": [
        "\r",
        "reading ['iso_massf'] data ...93%"
       ]
      },
      {
       "output_type": "stream",
       "stream": "stdout",
       "text": [
        "\r",
        "reading ['iso_massf'] data ...94%"
       ]
      },
      {
       "output_type": "stream",
       "stream": "stdout",
       "text": [
        "\r",
        "reading ['iso_massf'] data ...94%"
       ]
      },
      {
       "output_type": "stream",
       "stream": "stdout",
       "text": [
        "\r",
        "reading ['iso_massf'] data ...95%"
       ]
      },
      {
       "output_type": "stream",
       "stream": "stdout",
       "text": [
        "\r",
        "reading ['iso_massf'] data ...96%"
       ]
      },
      {
       "output_type": "stream",
       "stream": "stdout",
       "text": [
        "\r",
        "reading ['iso_massf'] data ...97%"
       ]
      },
      {
       "output_type": "stream",
       "stream": "stdout",
       "text": [
        "\r",
        "reading ['iso_massf'] data ...98%"
       ]
      },
      {
       "output_type": "stream",
       "stream": "stdout",
       "text": [
        "\r",
        "reading ['iso_massf'] data ...99%"
       ]
      },
      {
       "output_type": "stream",
       "stream": "stdout",
       "text": [
        "\r",
        "reading ['iso_massf'] data ...100%The requested cycles: ['0000059001'] are not available in this data set. They have been replaced with the nearest available data.\n"
       ]
      },
      {
       "output_type": "stream",
       "stream": "stdout",
       "text": [
        "\r",
        "reading ['shellnb'] data ...100%"
       ]
      },
      {
       "output_type": "stream",
       "stream": "stdout",
       "text": [
        "\r",
        "reading ['iso_massf'] data ...7%"
       ]
      },
      {
       "output_type": "stream",
       "stream": "stdout",
       "text": [
        "\r",
        "reading ['iso_massf'] data ...14%"
       ]
      },
      {
       "output_type": "stream",
       "stream": "stdout",
       "text": [
        "\r",
        "reading ['iso_massf'] data ...21%"
       ]
      },
      {
       "output_type": "stream",
       "stream": "stdout",
       "text": [
        "\r",
        "reading ['iso_massf'] data ...28%"
       ]
      },
      {
       "output_type": "stream",
       "stream": "stdout",
       "text": [
        "\r",
        "reading ['iso_massf'] data ...35%"
       ]
      },
      {
       "output_type": "stream",
       "stream": "stdout",
       "text": [
        "\r",
        "reading ['iso_massf'] data ...42%"
       ]
      },
      {
       "output_type": "stream",
       "stream": "stdout",
       "text": [
        "\r",
        "reading ['iso_massf'] data ...50%"
       ]
      },
      {
       "output_type": "stream",
       "stream": "stdout",
       "text": [
        "\r",
        "reading ['iso_massf'] data ...57%"
       ]
      },
      {
       "output_type": "stream",
       "stream": "stdout",
       "text": [
        "\r",
        "reading ['iso_massf'] data ...64%"
       ]
      },
      {
       "output_type": "stream",
       "stream": "stdout",
       "text": [
        "\r",
        "reading ['iso_massf'] data ...71%"
       ]
      },
      {
       "output_type": "stream",
       "stream": "stdout",
       "text": [
        "\r",
        "reading ['iso_massf'] data ...78%"
       ]
      },
      {
       "output_type": "stream",
       "stream": "stdout",
       "text": [
        "\r",
        "reading ['iso_massf'] data ...85%"
       ]
      },
      {
       "output_type": "stream",
       "stream": "stdout",
       "text": [
        "\r",
        "reading ['iso_massf'] data ...92%"
       ]
      },
      {
       "output_type": "stream",
       "stream": "stdout",
       "text": [
        "\r",
        "reading ['iso_massf'] data ...100%WARNING:"
       ]
      },
      {
       "output_type": "stream",
       "stream": "stdout",
       "text": [
        "\n",
        "This initial abundance file uses an element name that does\n",
        "not contain the mass number in the 3rd to 5th position.\n",
        "It is assumed that this is the proton and we will change\n",
        "the name to 'h   1' to be consistent with the notation used\n",
        "in iniab.dat files\n",
        "Plotting AGB star stuff\n"
       ]
      },
      {
       "output_type": "stream",
       "stream": "stdout",
       "text": [
        "\r",
        "reading ['shellnb'] data ...100%"
       ]
      },
      {
       "output_type": "stream",
       "stream": "stdout",
       "text": [
        "\r",
        "reading ['iso_massf'] data ...0%"
       ]
      },
      {
       "output_type": "stream",
       "stream": "stdout",
       "text": [
        "\r",
        "reading ['iso_massf'] data ...1%"
       ]
      },
      {
       "output_type": "stream",
       "stream": "stdout",
       "text": [
        "\r",
        "reading ['iso_massf'] data ...1%"
       ]
      },
      {
       "output_type": "stream",
       "stream": "stdout",
       "text": [
        "\r",
        "reading ['iso_massf'] data ...2%"
       ]
      },
      {
       "output_type": "stream",
       "stream": "stdout",
       "text": [
        "\r",
        "reading ['iso_massf'] data ...2%"
       ]
      },
      {
       "output_type": "stream",
       "stream": "stdout",
       "text": [
        "\r",
        "reading ['iso_massf'] data ...3%"
       ]
      },
      {
       "output_type": "stream",
       "stream": "stdout",
       "text": [
        "\r",
        "reading ['iso_massf'] data ...3%"
       ]
      },
      {
       "output_type": "stream",
       "stream": "stdout",
       "text": [
        "\r",
        "reading ['iso_massf'] data ...4%"
       ]
      },
      {
       "output_type": "stream",
       "stream": "stdout",
       "text": [
        "\r",
        "reading ['iso_massf'] data ...4%"
       ]
      },
      {
       "output_type": "stream",
       "stream": "stdout",
       "text": [
        "\r",
        "reading ['iso_massf'] data ...5%"
       ]
      },
      {
       "output_type": "stream",
       "stream": "stdout",
       "text": [
        "\r",
        "reading ['iso_massf'] data ...6%"
       ]
      },
      {
       "output_type": "stream",
       "stream": "stdout",
       "text": [
        "\r",
        "reading ['iso_massf'] data ...6%"
       ]
      },
      {
       "output_type": "stream",
       "stream": "stdout",
       "text": [
        "\r",
        "reading ['iso_massf'] data ...7%"
       ]
      },
      {
       "output_type": "stream",
       "stream": "stdout",
       "text": [
        "\r",
        "reading ['iso_massf'] data ...7%"
       ]
      },
      {
       "output_type": "stream",
       "stream": "stdout",
       "text": [
        "\r",
        "reading ['iso_massf'] data ...8%"
       ]
      },
      {
       "output_type": "stream",
       "stream": "stdout",
       "text": [
        "\r",
        "reading ['iso_massf'] data ...8%"
       ]
      },
      {
       "output_type": "stream",
       "stream": "stdout",
       "text": [
        "\r",
        "reading ['iso_massf'] data ...9%"
       ]
      },
      {
       "output_type": "stream",
       "stream": "stdout",
       "text": [
        "\r",
        "reading ['iso_massf'] data ...9%"
       ]
      },
      {
       "output_type": "stream",
       "stream": "stdout",
       "text": [
        "\r",
        "reading ['iso_massf'] data ...10%"
       ]
      },
      {
       "output_type": "stream",
       "stream": "stdout",
       "text": [
        "\r",
        "reading ['iso_massf'] data ...11%"
       ]
      },
      {
       "output_type": "stream",
       "stream": "stdout",
       "text": [
        "\r",
        "reading ['iso_massf'] data ...11%"
       ]
      },
      {
       "output_type": "stream",
       "stream": "stdout",
       "text": [
        "\r",
        "reading ['iso_massf'] data ...12%"
       ]
      },
      {
       "output_type": "stream",
       "stream": "stdout",
       "text": [
        "\r",
        "reading ['iso_massf'] data ...12%"
       ]
      },
      {
       "output_type": "stream",
       "stream": "stdout",
       "text": [
        "\r",
        "reading ['iso_massf'] data ...13%"
       ]
      },
      {
       "output_type": "stream",
       "stream": "stdout",
       "text": [
        "\r",
        "reading ['iso_massf'] data ...13%"
       ]
      },
      {
       "output_type": "stream",
       "stream": "stdout",
       "text": [
        "\r",
        "reading ['iso_massf'] data ...14%"
       ]
      },
      {
       "output_type": "stream",
       "stream": "stdout",
       "text": [
        "\r",
        "reading ['iso_massf'] data ...14%"
       ]
      },
      {
       "output_type": "stream",
       "stream": "stdout",
       "text": [
        "\r",
        "reading ['iso_massf'] data ...15%"
       ]
      },
      {
       "output_type": "stream",
       "stream": "stdout",
       "text": [
        "\r",
        "reading ['iso_massf'] data ...16%"
       ]
      },
      {
       "output_type": "stream",
       "stream": "stdout",
       "text": [
        "\r",
        "reading ['iso_massf'] data ...16%"
       ]
      },
      {
       "output_type": "stream",
       "stream": "stdout",
       "text": [
        "\r",
        "reading ['iso_massf'] data ...17%"
       ]
      },
      {
       "output_type": "stream",
       "stream": "stdout",
       "text": [
        "\r",
        "reading ['iso_massf'] data ...17%"
       ]
      },
      {
       "output_type": "stream",
       "stream": "stdout",
       "text": [
        "\r",
        "reading ['iso_massf'] data ...18%"
       ]
      },
      {
       "output_type": "stream",
       "stream": "stdout",
       "text": [
        "\r",
        "reading ['iso_massf'] data ...18%"
       ]
      },
      {
       "output_type": "stream",
       "stream": "stdout",
       "text": [
        "\r",
        "reading ['iso_massf'] data ...19%"
       ]
      },
      {
       "output_type": "stream",
       "stream": "stdout",
       "text": [
        "\r",
        "reading ['iso_massf'] data ...19%"
       ]
      },
      {
       "output_type": "stream",
       "stream": "stdout",
       "text": [
        "\r",
        "reading ['iso_massf'] data ...20%"
       ]
      },
      {
       "output_type": "stream",
       "stream": "stdout",
       "text": [
        "\r",
        "reading ['iso_massf'] data ...20%"
       ]
      },
      {
       "output_type": "stream",
       "stream": "stdout",
       "text": [
        "\r",
        "reading ['iso_massf'] data ...21%"
       ]
      },
      {
       "output_type": "stream",
       "stream": "stdout",
       "text": [
        "\r",
        "reading ['iso_massf'] data ...22%"
       ]
      },
      {
       "output_type": "stream",
       "stream": "stdout",
       "text": [
        "\r",
        "reading ['iso_massf'] data ...22%"
       ]
      },
      {
       "output_type": "stream",
       "stream": "stdout",
       "text": [
        "\r",
        "reading ['iso_massf'] data ...23%"
       ]
      },
      {
       "output_type": "stream",
       "stream": "stdout",
       "text": [
        "\r",
        "reading ['iso_massf'] data ...23%"
       ]
      },
      {
       "output_type": "stream",
       "stream": "stdout",
       "text": [
        "\r",
        "reading ['iso_massf'] data ...24%"
       ]
      },
      {
       "output_type": "stream",
       "stream": "stdout",
       "text": [
        "\r",
        "reading ['iso_massf'] data ...24%"
       ]
      },
      {
       "output_type": "stream",
       "stream": "stdout",
       "text": [
        "\r",
        "reading ['iso_massf'] data ...25%"
       ]
      },
      {
       "output_type": "stream",
       "stream": "stdout",
       "text": [
        "\r",
        "reading ['iso_massf'] data ...25%"
       ]
      },
      {
       "output_type": "stream",
       "stream": "stdout",
       "text": [
        "\r",
        "reading ['iso_massf'] data ...26%"
       ]
      },
      {
       "output_type": "stream",
       "stream": "stdout",
       "text": [
        "\r",
        "reading ['iso_massf'] data ...27%"
       ]
      },
      {
       "output_type": "stream",
       "stream": "stdout",
       "text": [
        "\r",
        "reading ['iso_massf'] data ...27%"
       ]
      },
      {
       "output_type": "stream",
       "stream": "stdout",
       "text": [
        "\r",
        "reading ['iso_massf'] data ...28%"
       ]
      },
      {
       "output_type": "stream",
       "stream": "stdout",
       "text": [
        "\r",
        "reading ['iso_massf'] data ...28%"
       ]
      },
      {
       "output_type": "stream",
       "stream": "stdout",
       "text": [
        "\r",
        "reading ['iso_massf'] data ...29%"
       ]
      },
      {
       "output_type": "stream",
       "stream": "stdout",
       "text": [
        "\r",
        "reading ['iso_massf'] data ...29%"
       ]
      },
      {
       "output_type": "stream",
       "stream": "stdout",
       "text": [
        "\r",
        "reading ['iso_massf'] data ...30%"
       ]
      },
      {
       "output_type": "stream",
       "stream": "stdout",
       "text": [
        "\r",
        "reading ['iso_massf'] data ...30%"
       ]
      },
      {
       "output_type": "stream",
       "stream": "stdout",
       "text": [
        "\r",
        "reading ['iso_massf'] data ...31%"
       ]
      },
      {
       "output_type": "stream",
       "stream": "stdout",
       "text": [
        "\r",
        "reading ['iso_massf'] data ...32%"
       ]
      },
      {
       "output_type": "stream",
       "stream": "stdout",
       "text": [
        "\r",
        "reading ['iso_massf'] data ...32%"
       ]
      },
      {
       "output_type": "stream",
       "stream": "stdout",
       "text": [
        "\r",
        "reading ['iso_massf'] data ...33%"
       ]
      },
      {
       "output_type": "stream",
       "stream": "stdout",
       "text": [
        "\r",
        "reading ['iso_massf'] data ...33%"
       ]
      },
      {
       "output_type": "stream",
       "stream": "stdout",
       "text": [
        "\r",
        "reading ['iso_massf'] data ...34%"
       ]
      },
      {
       "output_type": "stream",
       "stream": "stdout",
       "text": [
        "\r",
        "reading ['iso_massf'] data ...34%"
       ]
      },
      {
       "output_type": "stream",
       "stream": "stdout",
       "text": [
        "\r",
        "reading ['iso_massf'] data ...35%"
       ]
      },
      {
       "output_type": "stream",
       "stream": "stdout",
       "text": [
        "\r",
        "reading ['iso_massf'] data ...35%"
       ]
      },
      {
       "output_type": "stream",
       "stream": "stdout",
       "text": [
        "\r",
        "reading ['iso_massf'] data ...36%"
       ]
      },
      {
       "output_type": "stream",
       "stream": "stdout",
       "text": [
        "\r",
        "reading ['iso_massf'] data ...37%"
       ]
      },
      {
       "output_type": "stream",
       "stream": "stdout",
       "text": [
        "\r",
        "reading ['iso_massf'] data ...37%"
       ]
      },
      {
       "output_type": "stream",
       "stream": "stdout",
       "text": [
        "\r",
        "reading ['iso_massf'] data ...38%"
       ]
      },
      {
       "output_type": "stream",
       "stream": "stdout",
       "text": [
        "\r",
        "reading ['iso_massf'] data ...38%"
       ]
      },
      {
       "output_type": "stream",
       "stream": "stdout",
       "text": [
        "\r",
        "reading ['iso_massf'] data ...39%"
       ]
      },
      {
       "output_type": "stream",
       "stream": "stdout",
       "text": [
        "\r",
        "reading ['iso_massf'] data ...39%"
       ]
      },
      {
       "output_type": "stream",
       "stream": "stdout",
       "text": [
        "\r",
        "reading ['iso_massf'] data ...40%"
       ]
      },
      {
       "output_type": "stream",
       "stream": "stdout",
       "text": [
        "\r",
        "reading ['iso_massf'] data ...40%"
       ]
      },
      {
       "output_type": "stream",
       "stream": "stdout",
       "text": [
        "\r",
        "reading ['iso_massf'] data ...41%"
       ]
      },
      {
       "output_type": "stream",
       "stream": "stdout",
       "text": [
        "\r",
        "reading ['iso_massf'] data ...41%"
       ]
      },
      {
       "output_type": "stream",
       "stream": "stdout",
       "text": [
        "\r",
        "reading ['iso_massf'] data ...42%"
       ]
      },
      {
       "output_type": "stream",
       "stream": "stdout",
       "text": [
        "\r",
        "reading ['iso_massf'] data ...43%"
       ]
      },
      {
       "output_type": "stream",
       "stream": "stdout",
       "text": [
        "\r",
        "reading ['iso_massf'] data ...43%"
       ]
      },
      {
       "output_type": "stream",
       "stream": "stdout",
       "text": [
        "\r",
        "reading ['iso_massf'] data ...44%"
       ]
      },
      {
       "output_type": "stream",
       "stream": "stdout",
       "text": [
        "\r",
        "reading ['iso_massf'] data ...44%"
       ]
      },
      {
       "output_type": "stream",
       "stream": "stdout",
       "text": [
        "\r",
        "reading ['iso_massf'] data ...45%"
       ]
      },
      {
       "output_type": "stream",
       "stream": "stdout",
       "text": [
        "\r",
        "reading ['iso_massf'] data ...45%"
       ]
      },
      {
       "output_type": "stream",
       "stream": "stdout",
       "text": [
        "\r",
        "reading ['iso_massf'] data ...46%"
       ]
      },
      {
       "output_type": "stream",
       "stream": "stdout",
       "text": [
        "\r",
        "reading ['iso_massf'] data ...46%"
       ]
      },
      {
       "output_type": "stream",
       "stream": "stdout",
       "text": [
        "\r",
        "reading ['iso_massf'] data ...47%"
       ]
      },
      {
       "output_type": "stream",
       "stream": "stdout",
       "text": [
        "\r",
        "reading ['iso_massf'] data ...48%"
       ]
      },
      {
       "output_type": "stream",
       "stream": "stdout",
       "text": [
        "\r",
        "reading ['iso_massf'] data ...48%"
       ]
      },
      {
       "output_type": "stream",
       "stream": "stdout",
       "text": [
        "\r",
        "reading ['iso_massf'] data ...49%"
       ]
      },
      {
       "output_type": "stream",
       "stream": "stdout",
       "text": [
        "\r",
        "reading ['iso_massf'] data ...49%"
       ]
      },
      {
       "output_type": "stream",
       "stream": "stdout",
       "text": [
        "\r",
        "reading ['iso_massf'] data ...50%"
       ]
      },
      {
       "output_type": "stream",
       "stream": "stdout",
       "text": [
        "\r",
        "reading ['iso_massf'] data ...50%"
       ]
      },
      {
       "output_type": "stream",
       "stream": "stdout",
       "text": [
        "\r",
        "reading ['iso_massf'] data ...51%"
       ]
      },
      {
       "output_type": "stream",
       "stream": "stdout",
       "text": [
        "\r",
        "reading ['iso_massf'] data ...51%"
       ]
      },
      {
       "output_type": "stream",
       "stream": "stdout",
       "text": [
        "\r",
        "reading ['iso_massf'] data ...52%"
       ]
      },
      {
       "output_type": "stream",
       "stream": "stdout",
       "text": [
        "\r",
        "reading ['iso_massf'] data ...53%"
       ]
      },
      {
       "output_type": "stream",
       "stream": "stdout",
       "text": [
        "\r",
        "reading ['iso_massf'] data ...53%"
       ]
      },
      {
       "output_type": "stream",
       "stream": "stdout",
       "text": [
        "\r",
        "reading ['iso_massf'] data ...54%"
       ]
      },
      {
       "output_type": "stream",
       "stream": "stdout",
       "text": [
        "\r",
        "reading ['iso_massf'] data ...54%"
       ]
      },
      {
       "output_type": "stream",
       "stream": "stdout",
       "text": [
        "\r",
        "reading ['iso_massf'] data ...55%"
       ]
      },
      {
       "output_type": "stream",
       "stream": "stdout",
       "text": [
        "\r",
        "reading ['iso_massf'] data ...55%"
       ]
      },
      {
       "output_type": "stream",
       "stream": "stdout",
       "text": [
        "\r",
        "reading ['iso_massf'] data ...56%"
       ]
      },
      {
       "output_type": "stream",
       "stream": "stdout",
       "text": [
        "\r",
        "reading ['iso_massf'] data ...56%"
       ]
      },
      {
       "output_type": "stream",
       "stream": "stdout",
       "text": [
        "\r",
        "reading ['iso_massf'] data ...57%"
       ]
      },
      {
       "output_type": "stream",
       "stream": "stdout",
       "text": [
        "\r",
        "reading ['iso_massf'] data ...58%"
       ]
      },
      {
       "output_type": "stream",
       "stream": "stdout",
       "text": [
        "\r",
        "reading ['iso_massf'] data ...58%"
       ]
      },
      {
       "output_type": "stream",
       "stream": "stdout",
       "text": [
        "\r",
        "reading ['iso_massf'] data ...59%"
       ]
      },
      {
       "output_type": "stream",
       "stream": "stdout",
       "text": [
        "\r",
        "reading ['iso_massf'] data ...59%"
       ]
      },
      {
       "output_type": "stream",
       "stream": "stdout",
       "text": [
        "\r",
        "reading ['iso_massf'] data ...60%"
       ]
      },
      {
       "output_type": "stream",
       "stream": "stdout",
       "text": [
        "\r",
        "reading ['iso_massf'] data ...60%"
       ]
      },
      {
       "output_type": "stream",
       "stream": "stdout",
       "text": [
        "\r",
        "reading ['iso_massf'] data ...61%"
       ]
      },
      {
       "output_type": "stream",
       "stream": "stdout",
       "text": [
        "\r",
        "reading ['iso_massf'] data ...61%"
       ]
      },
      {
       "output_type": "stream",
       "stream": "stdout",
       "text": [
        "\r",
        "reading ['iso_massf'] data ...62%"
       ]
      },
      {
       "output_type": "stream",
       "stream": "stdout",
       "text": [
        "\r",
        "reading ['iso_massf'] data ...62%"
       ]
      },
      {
       "output_type": "stream",
       "stream": "stdout",
       "text": [
        "\r",
        "reading ['iso_massf'] data ...63%"
       ]
      },
      {
       "output_type": "stream",
       "stream": "stdout",
       "text": [
        "\r",
        "reading ['iso_massf'] data ...64%"
       ]
      },
      {
       "output_type": "stream",
       "stream": "stdout",
       "text": [
        "\r",
        "reading ['iso_massf'] data ...64%"
       ]
      },
      {
       "output_type": "stream",
       "stream": "stdout",
       "text": [
        "\r",
        "reading ['iso_massf'] data ...65%"
       ]
      },
      {
       "output_type": "stream",
       "stream": "stdout",
       "text": [
        "\r",
        "reading ['iso_massf'] data ...65%"
       ]
      },
      {
       "output_type": "stream",
       "stream": "stdout",
       "text": [
        "\r",
        "reading ['iso_massf'] data ...66%"
       ]
      },
      {
       "output_type": "stream",
       "stream": "stdout",
       "text": [
        "\r",
        "reading ['iso_massf'] data ...66%"
       ]
      },
      {
       "output_type": "stream",
       "stream": "stdout",
       "text": [
        "\r",
        "reading ['iso_massf'] data ...67%"
       ]
      },
      {
       "output_type": "stream",
       "stream": "stdout",
       "text": [
        "\r",
        "reading ['iso_massf'] data ...67%"
       ]
      },
      {
       "output_type": "stream",
       "stream": "stdout",
       "text": [
        "\r",
        "reading ['iso_massf'] data ...68%"
       ]
      },
      {
       "output_type": "stream",
       "stream": "stdout",
       "text": [
        "\r",
        "reading ['iso_massf'] data ...69%"
       ]
      },
      {
       "output_type": "stream",
       "stream": "stdout",
       "text": [
        "\r",
        "reading ['iso_massf'] data ...69%"
       ]
      },
      {
       "output_type": "stream",
       "stream": "stdout",
       "text": [
        "\r",
        "reading ['iso_massf'] data ...70%"
       ]
      },
      {
       "output_type": "stream",
       "stream": "stdout",
       "text": [
        "\r",
        "reading ['iso_massf'] data ...70%"
       ]
      },
      {
       "output_type": "stream",
       "stream": "stdout",
       "text": [
        "\r",
        "reading ['iso_massf'] data ...71%"
       ]
      },
      {
       "output_type": "stream",
       "stream": "stdout",
       "text": [
        "\r",
        "reading ['iso_massf'] data ...71%"
       ]
      },
      {
       "output_type": "stream",
       "stream": "stdout",
       "text": [
        "\r",
        "reading ['iso_massf'] data ...72%"
       ]
      },
      {
       "output_type": "stream",
       "stream": "stdout",
       "text": [
        "\r",
        "reading ['iso_massf'] data ...72%"
       ]
      },
      {
       "output_type": "stream",
       "stream": "stdout",
       "text": [
        "\r",
        "reading ['iso_massf'] data ...73%"
       ]
      },
      {
       "output_type": "stream",
       "stream": "stdout",
       "text": [
        "\r",
        "reading ['iso_massf'] data ...74%"
       ]
      },
      {
       "output_type": "stream",
       "stream": "stdout",
       "text": [
        "\r",
        "reading ['iso_massf'] data ...74%"
       ]
      },
      {
       "output_type": "stream",
       "stream": "stdout",
       "text": [
        "\r",
        "reading ['iso_massf'] data ...75%"
       ]
      },
      {
       "output_type": "stream",
       "stream": "stdout",
       "text": [
        "\r",
        "reading ['iso_massf'] data ...75%"
       ]
      },
      {
       "output_type": "stream",
       "stream": "stdout",
       "text": [
        "\r",
        "reading ['iso_massf'] data ...76%"
       ]
      },
      {
       "output_type": "stream",
       "stream": "stdout",
       "text": [
        "\r",
        "reading ['iso_massf'] data ...76%"
       ]
      },
      {
       "output_type": "stream",
       "stream": "stdout",
       "text": [
        "\r",
        "reading ['iso_massf'] data ...77%"
       ]
      },
      {
       "output_type": "stream",
       "stream": "stdout",
       "text": [
        "\r",
        "reading ['iso_massf'] data ...77%"
       ]
      },
      {
       "output_type": "stream",
       "stream": "stdout",
       "text": [
        "\r",
        "reading ['iso_massf'] data ...78%"
       ]
      },
      {
       "output_type": "stream",
       "stream": "stdout",
       "text": [
        "\r",
        "reading ['iso_massf'] data ...79%"
       ]
      },
      {
       "output_type": "stream",
       "stream": "stdout",
       "text": [
        "\r",
        "reading ['iso_massf'] data ...79%"
       ]
      },
      {
       "output_type": "stream",
       "stream": "stdout",
       "text": [
        "\r",
        "reading ['iso_massf'] data ...80%"
       ]
      },
      {
       "output_type": "stream",
       "stream": "stdout",
       "text": [
        "\r",
        "reading ['iso_massf'] data ...80%"
       ]
      },
      {
       "output_type": "stream",
       "stream": "stdout",
       "text": [
        "\r",
        "reading ['iso_massf'] data ...81%"
       ]
      },
      {
       "output_type": "stream",
       "stream": "stdout",
       "text": [
        "\r",
        "reading ['iso_massf'] data ...81%"
       ]
      },
      {
       "output_type": "stream",
       "stream": "stdout",
       "text": [
        "\r",
        "reading ['iso_massf'] data ...82%"
       ]
      },
      {
       "output_type": "stream",
       "stream": "stdout",
       "text": [
        "\r",
        "reading ['iso_massf'] data ...82%"
       ]
      },
      {
       "output_type": "stream",
       "stream": "stdout",
       "text": [
        "\r",
        "reading ['iso_massf'] data ...83%"
       ]
      },
      {
       "output_type": "stream",
       "stream": "stdout",
       "text": [
        "\r",
        "reading ['iso_massf'] data ...83%"
       ]
      },
      {
       "output_type": "stream",
       "stream": "stdout",
       "text": [
        "\r",
        "reading ['iso_massf'] data ...84%"
       ]
      },
      {
       "output_type": "stream",
       "stream": "stdout",
       "text": [
        "\r",
        "reading ['iso_massf'] data ...85%"
       ]
      },
      {
       "output_type": "stream",
       "stream": "stdout",
       "text": [
        "\r",
        "reading ['iso_massf'] data ...85%"
       ]
      },
      {
       "output_type": "stream",
       "stream": "stdout",
       "text": [
        "\r",
        "reading ['iso_massf'] data ...86%"
       ]
      },
      {
       "output_type": "stream",
       "stream": "stdout",
       "text": [
        "\r",
        "reading ['iso_massf'] data ...86%"
       ]
      },
      {
       "output_type": "stream",
       "stream": "stdout",
       "text": [
        "\r",
        "reading ['iso_massf'] data ...87%"
       ]
      },
      {
       "output_type": "stream",
       "stream": "stdout",
       "text": [
        "\r",
        "reading ['iso_massf'] data ...87%"
       ]
      },
      {
       "output_type": "stream",
       "stream": "stdout",
       "text": [
        "\r",
        "reading ['iso_massf'] data ...88%"
       ]
      },
      {
       "output_type": "stream",
       "stream": "stdout",
       "text": [
        "\r",
        "reading ['iso_massf'] data ...88%"
       ]
      },
      {
       "output_type": "stream",
       "stream": "stdout",
       "text": [
        "\r",
        "reading ['iso_massf'] data ...89%"
       ]
      },
      {
       "output_type": "stream",
       "stream": "stdout",
       "text": [
        "\r",
        "reading ['iso_massf'] data ...90%"
       ]
      },
      {
       "output_type": "stream",
       "stream": "stdout",
       "text": [
        "\r",
        "reading ['iso_massf'] data ...90%"
       ]
      },
      {
       "output_type": "stream",
       "stream": "stdout",
       "text": [
        "\r",
        "reading ['iso_massf'] data ...91%"
       ]
      },
      {
       "output_type": "stream",
       "stream": "stdout",
       "text": [
        "\r",
        "reading ['iso_massf'] data ...91%"
       ]
      },
      {
       "output_type": "stream",
       "stream": "stdout",
       "text": [
        "\r",
        "reading ['iso_massf'] data ...92%"
       ]
      },
      {
       "output_type": "stream",
       "stream": "stdout",
       "text": [
        "\r",
        "reading ['iso_massf'] data ...92%"
       ]
      },
      {
       "output_type": "stream",
       "stream": "stdout",
       "text": [
        "\r",
        "reading ['iso_massf'] data ...93%"
       ]
      },
      {
       "output_type": "stream",
       "stream": "stdout",
       "text": [
        "\r",
        "reading ['iso_massf'] data ...93%"
       ]
      },
      {
       "output_type": "stream",
       "stream": "stdout",
       "text": [
        "\r",
        "reading ['iso_massf'] data ...94%"
       ]
      },
      {
       "output_type": "stream",
       "stream": "stdout",
       "text": [
        "\r",
        "reading ['iso_massf'] data ...95%"
       ]
      },
      {
       "output_type": "stream",
       "stream": "stdout",
       "text": [
        "\r",
        "reading ['iso_massf'] data ...95%"
       ]
      },
      {
       "output_type": "stream",
       "stream": "stdout",
       "text": [
        "\r",
        "reading ['iso_massf'] data ...96%"
       ]
      },
      {
       "output_type": "stream",
       "stream": "stdout",
       "text": [
        "\r",
        "reading ['iso_massf'] data ...96%"
       ]
      },
      {
       "output_type": "stream",
       "stream": "stdout",
       "text": [
        "\r",
        "reading ['iso_massf'] data ...97%"
       ]
      },
      {
       "output_type": "stream",
       "stream": "stdout",
       "text": [
        "\r",
        "reading ['iso_massf'] data ...97%"
       ]
      },
      {
       "output_type": "stream",
       "stream": "stdout",
       "text": [
        "\r",
        "reading ['iso_massf'] data ...98%"
       ]
      },
      {
       "output_type": "stream",
       "stream": "stdout",
       "text": [
        "\r",
        "reading ['iso_massf'] data ...98%"
       ]
      },
      {
       "output_type": "stream",
       "stream": "stdout",
       "text": [
        "\r",
        "reading ['iso_massf'] data ...99%"
       ]
      },
      {
       "output_type": "stream",
       "stream": "stdout",
       "text": [
        "\r",
        "reading ['iso_massf'] data ...100%The requested cycles: ['0000090001'] are not available in this data set. They have been replaced with the nearest available data.\n"
       ]
      },
      {
       "output_type": "stream",
       "stream": "stdout",
       "text": [
        "\r",
        "reading ['shellnb'] data ...100%"
       ]
      },
      {
       "output_type": "stream",
       "stream": "stdout",
       "text": [
        "\r",
        "reading ['iso_massf'] data ...4%"
       ]
      },
      {
       "output_type": "stream",
       "stream": "stdout",
       "text": [
        "\r",
        "reading ['iso_massf'] data ...9%"
       ]
      },
      {
       "output_type": "stream",
       "stream": "stdout",
       "text": [
        "\r",
        "reading ['iso_massf'] data ...13%"
       ]
      },
      {
       "output_type": "stream",
       "stream": "stdout",
       "text": [
        "\r",
        "reading ['iso_massf'] data ...18%"
       ]
      },
      {
       "output_type": "stream",
       "stream": "stdout",
       "text": [
        "\r",
        "reading ['iso_massf'] data ...22%"
       ]
      },
      {
       "output_type": "stream",
       "stream": "stdout",
       "text": [
        "\r",
        "reading ['iso_massf'] data ...27%"
       ]
      },
      {
       "output_type": "stream",
       "stream": "stdout",
       "text": [
        "\r",
        "reading ['iso_massf'] data ...31%"
       ]
      },
      {
       "output_type": "stream",
       "stream": "stdout",
       "text": [
        "\r",
        "reading ['iso_massf'] data ...36%"
       ]
      },
      {
       "output_type": "stream",
       "stream": "stdout",
       "text": [
        "\r",
        "reading ['iso_massf'] data ...40%"
       ]
      },
      {
       "output_type": "stream",
       "stream": "stdout",
       "text": [
        "\r",
        "reading ['iso_massf'] data ...45%"
       ]
      },
      {
       "output_type": "stream",
       "stream": "stdout",
       "text": [
        "\r",
        "reading ['iso_massf'] data ...50%"
       ]
      },
      {
       "output_type": "stream",
       "stream": "stdout",
       "text": [
        "\r",
        "reading ['iso_massf'] data ...54%"
       ]
      },
      {
       "output_type": "stream",
       "stream": "stdout",
       "text": [
        "\r",
        "reading ['iso_massf'] data ...59%"
       ]
      },
      {
       "output_type": "stream",
       "stream": "stdout",
       "text": [
        "\r",
        "reading ['iso_massf'] data ...63%"
       ]
      },
      {
       "output_type": "stream",
       "stream": "stdout",
       "text": [
        "\r",
        "reading ['iso_massf'] data ...68%"
       ]
      },
      {
       "output_type": "stream",
       "stream": "stdout",
       "text": [
        "\r",
        "reading ['iso_massf'] data ...72%"
       ]
      },
      {
       "output_type": "stream",
       "stream": "stdout",
       "text": [
        "\r",
        "reading ['iso_massf'] data ...77%"
       ]
      },
      {
       "output_type": "stream",
       "stream": "stdout",
       "text": [
        "\r",
        "reading ['iso_massf'] data ...81%"
       ]
      },
      {
       "output_type": "stream",
       "stream": "stdout",
       "text": [
        "\r",
        "reading ['iso_massf'] data ...86%"
       ]
      },
      {
       "output_type": "stream",
       "stream": "stdout",
       "text": [
        "\r",
        "reading ['iso_massf'] data ...90%"
       ]
      },
      {
       "output_type": "stream",
       "stream": "stdout",
       "text": [
        "\r",
        "reading ['iso_massf'] data ...95%"
       ]
      },
      {
       "output_type": "stream",
       "stream": "stdout",
       "text": [
        "\r",
        "reading ['iso_massf'] data ...100%WARNING:\n",
        "This initial abundance file uses an element name that does\n",
        "not contain the mass number in the 3rd to 5th position.\n",
        "It is assumed that this is the proton and we will change\n",
        "the name to 'h   1' to be consistent with the notation used\n",
        "in iniab.dat files\n",
        "Presolar grains are cool!\n"
       ]
      },
      {
       "metadata": {},
       "output_type": "display_data",
       "png": "[encoded data removed]",
       "text": [
        "<matplotlib.figure.Figure at 0x5de0ed0>"
       ]
      }
     ],
     "prompt_number": 7
    },
    {
     "cell_type": "markdown",
     "metadata": {},
     "source": [
      "You can see that the grains and the models are plotted together, unfortunately the predictions are not that good. But: Umberto is making eveything better, so stay tuned!"
     ]
    },
    {
     "cell_type": "heading",
     "level": 2,
     "metadata": {},
     "source": [
      "Explosive models"
     ]
    },
    {
     "cell_type": "markdown",
     "metadata": {},
     "source": [
      "Let's  now have a look at how to dig through massive star models. For that reason, let's load the 25 solar mass star model with solar metallicity. For this example, we want to consider decays ourselves, so let's use the H5_restart files."
     ]
    },
    {
     "cell_type": "code",
     "collapsed": false,
     "input": [
      "inst_massive = nuse.se(mass=25,Z=0.02,type='ppd_exp',output='restart')"
     ],
     "language": "python",
     "metadata": {},
     "outputs": [
      {
       "output_type": "stream",
       "stream": "stdout",
       "text": [
        "nugrid_path = /home/nugrid/CADC/NuGrid\n",
        "closest set is set1.2 (Z = 0.02)\n",
        "closest mass is 25.0"
       ]
      },
      {
       "output_type": "stream",
       "stream": "stdout",
       "text": [
        "\n",
        "sedir =  /home/nugrid/CADC/NuGrid/data/set1/set1.2/ppd_exp/M25.0.Z2.0e-02.delay/H5_restart\n",
        "Searching files, please wait......."
       ]
      },
      {
       "output_type": "stream",
       "stream": "stdout",
       "text": [
        "\n",
        "/home/nugrid/CADC/NuGrid/data/set1/set1.2/ppd_exp/M25.0.Z2.0e-02.delay/H5_restart/M25.0Z2.0e-02.standard.0096801.restart.h5\n",
        "/home/nugrid/CADC/NuGrid/data/set1/set1.2/ppd_exp/M25.0.Z2.0e-02.delay/H5_restart/M25.0Z2.0e-02.standard.0096901.restart.h5\n",
        "/home/nugrid/CADC/NuGrid/data/set1/set1.2/ppd_exp/M25.0.Z2.0e-02.delay/H5_restart/M25.0Z2.0e-02.standard.0097001.restart.h5\n",
        "/home/nugrid/CADC/NuGrid/data/set1/set1.2/ppd_exp/M25.0.Z2.0e-02.delay/H5_restart/M25.0Z2.0e-02.standard.0097101.restart.h5\n",
        "Reading preprocessor files\n",
        "File search complete.\n",
        "Total duration is 0.0131599903107 seconds.\n"
       ]
      }
     ],
     "prompt_number": 6
    },
    {
     "cell_type": "markdown",
     "metadata": {},
     "source": [
      "Let's define what we actually want to plot, isotopes, decays to consider. Please note that this is just an example, if you want something additional, check the docstring - the function of your dreams might already be programmed into the routine (although to be honest, probably not...)"
     ]
    },
    {
     "cell_type": "code",
     "collapsed": false,
     "input": [
      "# define the isotopes we want to look at\n",
      "xiso = ['Ti-44','Ti-48']\n",
      "yiso = ['Si-29','Si-28']\n",
      "# add some species that we manually decay\n",
      "addiso = [['Ti-48','Sc-48','V-48','Cr-48'],['Ti-44','V-44',],['Si-29','Al-29','Mg-29','P-29'],['Si-28','Al-28','Mg-28','P-28']]\n",
      "# some further specifications\n",
      "co_toggle = 'c'   # select carbon rich zones in the last files\n",
      "plt_sparse = 10   # plot every so many datapoint"
     ],
     "language": "python",
     "metadata": {},
     "outputs": [],
     "prompt_number": 3
    },
    {
     "cell_type": "markdown",
     "metadata": {},
     "source": [
      "Now let's select the grains we want to plot along, let's just for now choose all the SiC X grains. First we will reset the filter and then select the X grains."
     ]
    },
    {
     "cell_type": "code",
     "collapsed": false,
     "input": [
      "g.reset_filter()\n",
      "g.filter_desc(graintype='X')"
     ],
     "language": "python",
     "metadata": {},
     "outputs": [],
     "prompt_number": 4
    },
    {
     "cell_type": "markdown",
     "metadata": {},
     "source": [
      "Now we plot the models and the grains together"
     ]
    },
    {
     "cell_type": "code",
     "collapsed": false,
     "input": [
      "inst_massive.plot_isoratios(xiso,yiso,spec='exp',co_toggle=co_toggle,plt_sparse=plt_sparse,addiso=addiso,plt_lw='2',deltax=False,legend='M25 Zsun',plt_show=False)\n",
      "g.plot_isoratios(xiso,yiso,legloc='upper right')"
     ],
     "language": "python",
     "metadata": {},
     "outputs": [
      {
       "output_type": "stream",
       "stream": "stdout",
       "text": [
        "WARNING:\n",
        "This initial abundance file uses an element name that does\n",
        "not contain the mass number in the 3rd to 5th position.\n",
        "It is assumed that this is the proton and we will change\n",
        "the name to 'h   1' to be consistent with the notation used\n",
        "in iniab.dat files\n",
        "explosive models\n"
       ]
      },
      {
       "output_type": "stream",
       "stream": "stdout",
       "text": [
        "\r",
        "reading ['shellnb'] data ...100%"
       ]
      },
      {
       "output_type": "stream",
       "stream": "stdout",
       "text": [
        "\r",
        "reading ['mass', 'iso_massf'] data ...100%"
       ]
      },
      {
       "output_type": "stream",
       "stream": "stdout",
       "text": [
        "\r",
        "reading ['shellnb'] data ...100%"
       ]
      },
      {
       "output_type": "stream",
       "stream": "stdout",
       "text": [
        "\r",
        "reading ['iso_massf'] data ...100%"
       ]
      },
      {
       "output_type": "stream",
       "stream": "stdout",
       "text": [
        "\r",
        "reading ['shellnb'] data ...100%"
       ]
      },
      {
       "output_type": "stream",
       "stream": "stdout",
       "text": [
        "\r",
        "reading ['iso_massf'] data ...100%"
       ]
      },
      {
       "output_type": "stream",
       "stream": "stdout",
       "text": [
        "\r",
        "reading ['shellnb'] data ...100%"
       ]
      },
      {
       "output_type": "stream",
       "stream": "stdout",
       "text": [
        "\r",
        "reading ['iso_massf'] data ...100%"
       ]
      },
      {
       "output_type": "stream",
       "stream": "stdout",
       "text": [
        "\r",
        "reading ['shellnb'] data ...100%"
       ]
      },
      {
       "output_type": "stream",
       "stream": "stdout",
       "text": [
        "\r",
        "reading ['iso_massf'] data ...100%"
       ]
      },
      {
       "output_type": "stream",
       "stream": "stdout",
       "text": [
        "\r",
        "reading ['shellnb'] data ...100%"
       ]
      },
      {
       "output_type": "stream",
       "stream": "stdout",
       "text": [
        "\r",
        "reading ['iso_massf'] data ...100%"
       ]
      },
      {
       "output_type": "stream",
       "stream": "stdout",
       "text": [
        "\r",
        "reading ['shellnb'] data ...100%"
       ]
      },
      {
       "output_type": "stream",
       "stream": "stdout",
       "text": [
        "\r",
        "reading ['iso_massf'] data ...100%"
       ]
      },
      {
       "output_type": "stream",
       "stream": "stdout",
       "text": [
        "\r",
        "reading ['shellnb'] data ...100%"
       ]
      },
      {
       "output_type": "stream",
       "stream": "stdout",
       "text": [
        "\r",
        "reading ['iso_massf'] data ...100%"
       ]
      },
      {
       "output_type": "stream",
       "stream": "stdout",
       "text": [
        "\r",
        "reading ['shellnb'] data ...100%"
       ]
      },
      {
       "output_type": "stream",
       "stream": "stdout",
       "text": [
        "\r",
        "reading ['iso_massf'] data ...100%"
       ]
      },
      {
       "output_type": "stream",
       "stream": "stdout",
       "text": [
        "\r",
        "reading ['shellnb'] data ...100%"
       ]
      },
      {
       "output_type": "stream",
       "stream": "stdout",
       "text": [
        "\r",
        "reading ['iso_massf'] data ...100%"
       ]
      },
      {
       "output_type": "stream",
       "stream": "stdout",
       "text": [
        "\r",
        "reading ['shellnb'] data ...100%"
       ]
      },
      {
       "output_type": "stream",
       "stream": "stdout",
       "text": [
        "\r",
        "reading ['iso_massf'] data ...100%\n",
        "\n",
        "I have found the following carbon rich zones:\n"
       ]
      },
      {
       "output_type": "stream",
       "stream": "stdout",
       "text": [
        "\n",
        "Mass range (1):\t6.61884037222 - 6.81980767286\n",
        "Mass range (2):\t6.82243357238 - 9.23284855485\n",
        "\n",
        "\n"
       ]
      },
      {
       "name": "stdout",
       "output_type": "stream",
       "stream": "stdout",
       "text": [
        "Please select which mass range you want to use. Select 0 for all zones. Otherwise give one zone or a list of zones separated by comma (e.g.: 1, 2, 4): 2\n"
       ]
      },
      {
       "output_type": "stream",
       "stream": "stdout",
       "text": [
        "WARNING:\n",
        "This initial abundance file uses an element name that does\n",
        "not contain the mass number in the 3rd to 5th position.\n",
        "It is assumed that this is the proton and we will change\n",
        "the name to 'h   1' to be consistent with the notation used\n",
        "in iniab.dat files\n",
        "Presolar grains are cool!\n"
       ]
      },
      {
       "metadata": {},
       "output_type": "display_data",
       "png": "[encoded data removed]",
       "text": [
        "<matplotlib.figure.Figure at 0x75ff050>"
       ]
      }
     ],
     "prompt_number": 9
    },
    {
     "cell_type": "code",
     "collapsed": false,
     "input": [],
     "language": "python",
     "metadata": {},
     "outputs": []
    }
   ],
   "metadata": {}
  }
 ]
}