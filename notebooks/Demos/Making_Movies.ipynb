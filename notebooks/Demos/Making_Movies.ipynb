{
 "cells": [
  {
   "cell_type": "markdown",
   "metadata": {},
   "source": [
    "Making NuGrid movies in the iPython Notebook\n",
    "============================================"
   ]
  },
  {
   "cell_type": "markdown",
   "metadata": {},
   "source": [
    "So you like exploring the NuGrid data, but sometimes it's just too hard to find where something interesting is happening? Or maybe you want to visalise a particular process for a conference talk or a class. For that, you might want to create movies.\n",
    "\n",
    "All of the movies---when made from iPython using the appropriate backend---are interactive, meaning you can move around and zoom while the animation is playing.\n",
    "In these notebooks however, the animation is not interactive (we didn't put the moon on a stick yet) but you can choose your plot limits as you like.\n",
    "\n",
    "Types of movies\n",
    "---------------\n",
    "\n",
    "Making movies is now supported for three types of plot:\n",
    "\n",
    "- `iso_abund` : abundance distribution\n",
    "- `abu_chart` : abundance chart\n",
    "- `plot`      : plot any number of y-items against your choice of x-items\n"
   ]
  },
  {
   "cell_type": "markdown",
   "metadata": {},
   "source": [
    "Each stellar model consists of several HDF5 files: `.se.h5` files for the evolution and `.out.h5` files for the nucleosynthesis output."
   ]
  },
  {
   "cell_type": "markdown",
   "metadata": {},
   "source": [
    "Initialise the 2 solar-mass Z=0.02 MESA stellar evolution model from set1.2 using the seeker method:"
   ]
  },
  {
   "cell_type": "code",
   "execution_count": null,
   "metadata": {
    "collapsed": false
   },
   "outputs": [],
   "source": [
    "s=ms.star_log(mass=2,Z=0.02)"
   ]
  },
  {
   "cell_type": "markdown",
   "metadata": {},
   "source": [
    "Let's now see what the model looks like by making some Kippenhahn diagrams"
   ]
  },
  {
   "cell_type": "code",
   "execution_count": null,
   "metadata": {
    "collapsed": false
   },
   "outputs": [],
   "source": [
    "s.kippenhahn_CO(1,'model')"
   ]
  },
  {
   "cell_type": "code",
   "execution_count": null,
   "metadata": {
    "collapsed": false
   },
   "outputs": [],
   "source": [
    "s.kip_cont(modstart=26100,modstop=28000,ylims=[0.54,0.6],engenPlus=False)"
   ]
  },
  {
   "cell_type": "markdown",
   "metadata": {},
   "source": [
    "Initialise the 2 solar-mass Z=0.02 NuGrid nucleosynthesis data from set1.2 using the seeker method:"
   ]
  },
  {
   "cell_type": "code",
   "execution_count": null,
   "metadata": {
    "collapsed": false
   },
   "outputs": [],
   "source": [
    "pt=mp.se(mass=2,Z=0.02)"
   ]
  },
  {
   "cell_type": "markdown",
   "metadata": {},
   "source": [
    "Let's pretend that from another notebook or plot that we know the cycles between which the model experiences a thermal pulse and interpulse:"
   ]
  },
  {
   "cell_type": "code",
   "execution_count": null,
   "metadata": {
    "collapsed": false
   },
   "outputs": [],
   "source": [
    "cycs=range(26100,27100,20)"
   ]
  },
  {
   "cell_type": "markdown",
   "metadata": {},
   "source": [
    "This command should bring up an abundance-profile movie for the isotopes listed in **`species`** for cycles **`cycs`**:"
   ]
  },
  {
   "cell_type": "code",
   "execution_count": null,
   "metadata": {
    "collapsed": false
   },
   "outputs": [],
   "source": [
    "species=['H-1','He-4','C-12','C-13','N-14','O-16','Ba-138']\n",
    "pt.movie(cycs,plotstyle='plot',x_item='mass',\n",
    "         y_items=species,logy=True,xlims=(0.575,0.579),\n",
    "         ylims=(-10,0.),interval=100,legend=True,loc='lower right')"
   ]
  },
  {
   "cell_type": "markdown",
   "metadata": {},
   "source": [
    "Here's an iso_abund movie of the main s-process component being produced in the region where Ba-138 is shown to be produced in the abundance profile movie above:"
   ]
  },
  {
   "cell_type": "code",
   "execution_count": null,
   "metadata": {
    "collapsed": false
   },
   "outputs": [],
   "source": [
    "pt.movie(cycs,plotstyle='iso_abund',\n",
    "         amass_range=[50,160],mass_range=[0.5765,0.5770])"
   ]
  },
  {
   "cell_type": "markdown",
   "metadata": {},
   "source": [
    "We can also see the impact on the isotopic abundance chart for that part of the star:"
   ]
  },
  {
   "cell_type": "code",
   "execution_count": null,
   "metadata": {
    "collapsed": false
   },
   "outputs": [],
   "source": [
    "pt.movie(cycs,plotstyle='abu_chart',\n",
    "                mass_range=[0.576,0.578],plotaxis=[0, 80, 0, 60],\n",
    "                ilabel=False,imlabel=False,boxstable=False)"
   ]
  },
  {
   "cell_type": "markdown",
   "metadata": {},
   "source": [
    "You can extract the trajectory and initial abundances from this model at the key mass coordinate for use in a 1-zone PPN simulation in order to study, for example, the impact of a new rate"
   ]
  },
  {
   "cell_type": "code",
   "execution_count": null,
   "metadata": {
    "collapsed": false
   },
   "outputs": [],
   "source": [
    "pt.abund_at_masscoorinate(26100,0.578,online=True)"
   ]
  },
  {
   "cell_type": "code",
   "execution_count": null,
   "metadata": {
    "collapsed": false
   },
   "outputs": [],
   "source": []
  }
 ],
 "metadata": {
  "kernelspec": {
   "display_name": "Python 2",
   "language": "python",
   "name": "python2"
  },
  "language_info": {
   "codemirror_mode": {
    "name": "ipython",
    "version": 2
   },
   "file_extension": ".py",
   "mimetype": "text/x-python",
   "name": "python",
   "nbconvert_exporter": "python",
   "pygments_lexer": "ipython2",
   "version": "2.7.9"
  }
 },
 "nbformat": 4,
 "nbformat_minor": 0
}
