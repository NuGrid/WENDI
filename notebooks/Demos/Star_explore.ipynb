{
 "cells": [
  {
   "cell_type": "markdown",
   "metadata": {},
   "source": [
    "#How ipython notebooks work\n",
    "\n",
    "If you have never used an ipython notebook, then here are the few basic rules you need to know:\n",
    "\n",
    "* each cell is a block of code or comments (in markdown, see pull-down menu above)\n",
    "* in each cell you can edit code, several lines using the `Return` key to create a newline\n",
    "* once you are happy with a block of code use the _play_ button above, or just hit `Shift`-`Return` to execute the block of code"
   ]
  },
  {
   "cell_type": "markdown",
   "metadata": {},
   "source": [
    "Explore a NuGrid AGB star model in iPython Notebook\n",
    "==================================================="
   ]
  },
  {
   "cell_type": "markdown",
   "metadata": {},
   "source": [
    "Initialise the 2 solar-mass Z=0.02 MESA stellar evolution model from set1.2 using the seeker method:"
   ]
  },
  {
   "cell_type": "code",
   "execution_count": null,
   "metadata": {
    "collapsed": false
   },
   "outputs": [],
   "source": [
    "s=ms.star_log(mass=2,Z=0.02)"
   ]
  },
  {
   "cell_type": "markdown",
   "metadata": {},
   "source": [
    "Let's now see what the model looks like by making some Kippenhahn diagrams"
   ]
  },
  {
   "cell_type": "code",
   "execution_count": null,
   "metadata": {
    "collapsed": false
   },
   "outputs": [],
   "source": [
    "s.kippenhahn_CO(1,'model')"
   ]
  },
  {
   "cell_type": "markdown",
   "metadata": {},
   "source": [
    "What's happening at the centre of the star? ..."
   ]
  },
  {
   "cell_type": "code",
   "execution_count": null,
   "metadata": {
    "collapsed": false
   },
   "outputs": [],
   "source": [
    "figure(2)\n",
    "s.tcrhoc()\n",
    "axis([0,7,7,8.5])"
   ]
  },
  {
   "cell_type": "markdown",
   "metadata": {},
   "source": [
    "... and at the surface?"
   ]
  },
  {
   "cell_type": "code",
   "execution_count": null,
   "metadata": {
    "collapsed": false
   },
   "outputs": [],
   "source": [
    "figure(3)\n",
    "s.hrd_new()\n",
    "legend(loc='lower right').draw_frame(False)"
   ]
  },
  {
   "cell_type": "code",
   "execution_count": null,
   "metadata": {
    "collapsed": false
   },
   "outputs": [],
   "source": [
    "figure(4)\n",
    "s.kip_cont(modstart=26800,modstop=27800,ylims=[0.54,0.6],engenPlus=False)"
   ]
  },
  {
   "cell_type": "markdown",
   "metadata": {},
   "source": [
    "Initialise the 2 solar-mass Z=0.02 NuGrid nucleosynthesis data from set1.2 using the seeker method:"
   ]
  },
  {
   "cell_type": "code",
   "execution_count": null,
   "metadata": {
    "collapsed": false
   },
   "outputs": [],
   "source": [
    "pt=mp.se(mass=2,Z=0.02)"
   ]
  },
  {
   "cell_type": "markdown",
   "metadata": {},
   "source": [
    "Let's pretend that from another notebook or plot that we know the cycles between which the model experiences a thermal pulse and interpulse:"
   ]
  },
  {
   "cell_type": "code",
   "execution_count": null,
   "metadata": {
    "collapsed": false
   },
   "outputs": [],
   "source": [
    "cycs=range(26100,27100,20)"
   ]
  },
  {
   "cell_type": "markdown",
   "metadata": {},
   "source": [
    "and the nuclides that are being created or destroyed in this part of the star:"
   ]
  },
  {
   "cell_type": "code",
   "execution_count": null,
   "metadata": {
    "collapsed": false
   },
   "outputs": [],
   "source": [
    "species=['H-1','He-4','C-12','C-13','N-14','O-16','Ba-138']"
   ]
  },
  {
   "cell_type": "markdown",
   "metadata": {},
   "source": [
    "In this region of the star, we have produced a thin layer of $^{13}{\\rm C}$. There are also $\\alpha$-particles in this layer that are being captured by the $^{13}{\\rm C}$. Neutrons are released by the reaction $^{13}{\\rm C}(\\alpha,n)^{16}{\\rm O}$ and successive captures of these neutrons by heavier seed nuelci such as iron build the heavy elements, e.g. $^{138}{\\rm Ba}$.\n",
    "\n",
    "Now let's make an abundance-profile movie for the isotopes listed in **`species`** for cycles **`cycs`** so that we can see this happening in the model:"
   ]
  },
  {
   "cell_type": "code",
   "execution_count": null,
   "metadata": {
    "collapsed": false
   },
   "outputs": [],
   "source": [
    "figure(5)\n",
    "pt.movie(cycs,plotstyle='plot',x_item='mass',\n",
    "         y_items=species,logy=True,xlims=(0.5764,0.5775),\n",
    "         ylims=(-10,0.),interval=100,legend=True,loc='lower right')"
   ]
  },
  {
   "cell_type": "markdown",
   "metadata": {},
   "source": [
    "Here's an iso_abund movie of the main s-process component being produced in the region where Ba-138 is shown to be produced in the abundance profile movie above:"
   ]
  },
  {
   "cell_type": "code",
   "execution_count": null,
   "metadata": {
    "collapsed": false
   },
   "outputs": [],
   "source": [
    "figure(6)\n",
    "pt.movie(cycs,plotstyle='iso_abund',\n",
    "         amass_range=[50,160],mass_range=[0.5768,0.5769])"
   ]
  },
  {
   "cell_type": "markdown",
   "metadata": {},
   "source": [
    "We can also see the impact on the isotopic abundance chart for that part of the star:"
   ]
  },
  {
   "cell_type": "code",
   "execution_count": null,
   "metadata": {
    "collapsed": false
   },
   "outputs": [],
   "source": [
    "figure(7)\n",
    "pt.movie(cycs,plotstyle='abu_chart',\n",
    "                mass_range=[0.5768,0.5769],plotaxis=[0, 80, 0, 60],\n",
    "                ilabel=False,imlabel=False,boxstable=False)"
   ]
  },
  {
   "cell_type": "markdown",
   "metadata": {},
   "source": [
    "You can extract the trajectory and initial abundances from this model at the key mass coordinate for use in a 1-zone PPN simulation in order to study, for example, the impact of a new rate"
   ]
  },
  {
   "cell_type": "code",
   "execution_count": null,
   "metadata": {
    "collapsed": false
   },
   "outputs": [],
   "source": [
    "pt.abund_at_masscoorinate(26100,0.57685,online=True)"
   ]
  },
  {
   "cell_type": "code",
   "execution_count": null,
   "metadata": {
    "collapsed": false
   },
   "outputs": [],
   "source": []
  }
 ],
 "metadata": {
  "kernelspec": {
   "display_name": "Python 2",
   "language": "python",
   "name": "python2"
  },
  "language_info": {
   "codemirror_mode": {
    "name": "ipython",
    "version": 2
   },
   "file_extension": ".py",
   "mimetype": "text/x-python",
   "name": "python",
   "nbconvert_exporter": "python",
   "pygments_lexer": "ipython2",
   "version": "2.7.9"
  }
 },
 "nbformat": 4,
 "nbformat_minor": 0
}
