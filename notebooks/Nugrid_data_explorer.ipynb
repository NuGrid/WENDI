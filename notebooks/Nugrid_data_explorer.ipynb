{
 "cells": [
  {
   "cell_type": "code",
   "execution_count": 85,
   "metadata": {
    "collapsed": false
   },
   "outputs": [
    {
     "data": {
      "text/plain": [
       "<module 'modules.widget_framework' from 'modules/widget_framework.py'>"
      ]
     },
     "execution_count": 85,
     "metadata": {},
     "output_type": "execute_result"
    }
   ],
   "source": [
    "import modules.widget_framework as framework\n",
    "from IPython.html import widgets\n",
    "reload(framework)"
   ]
  },
  {
   "cell_type": "code",
   "execution_count": 90,
   "metadata": {
    "collapsed": false
   },
   "outputs": [],
   "source": [
    "wframework = framework.framework()\n",
    "wframework.set_default_layout_style(box_style=\"info\")"
   ]
  },
  {
   "cell_type": "code",
   "execution_count": 91,
   "metadata": {
    "collapsed": false
   },
   "outputs": [],
   "source": [
    "b = widgets.Tab()\n",
    "c = widgets.Box()\n",
    "d = widgets.Box()\n",
    "e = widgets.IntSlider()\n",
    "\n",
    "b.children=[d]\n",
    "d.children = [e]\n",
    "\n",
    "wframework.add_primary_display_object(\"b\", b)\n",
    "wframework.add_primary_display_object(\"c\", c)\n",
    "\n",
    "wframework.add_display_object(\"d\", d)\n",
    "wframework.add_io_object(\"e\", e)\n",
    "d.visible=True\n",
    "e.visible = True\n",
    "\n",
    "wframework.switch_primary_display(\"b\")"
   ]
  },
  {
   "cell_type": "code",
   "execution_count": 93,
   "metadata": {
    "collapsed": false
   },
   "outputs": [],
   "source": [
    "wframework.switch_primary_display(\"b\")"
   ]
  },
  {
   "cell_type": "code",
   "execution_count": null,
   "metadata": {
    "collapsed": true
   },
   "outputs": [],
   "source": []
  }
 ],
 "metadata": {
  "kernelspec": {
   "display_name": "Python 2",
   "language": "python",
   "name": "python2"
  },
  "language_info": {
   "codemirror_mode": {
    "name": "ipython",
    "version": 2
   },
   "file_extension": ".py",
   "mimetype": "text/x-python",
   "name": "python",
   "nbconvert_exporter": "python",
   "pygments_lexer": "ipython2",
   "version": "2.7.5"
  }
 },
 "nbformat": 4,
 "nbformat_minor": 0
}
