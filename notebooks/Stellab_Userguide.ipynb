{
 "cells": [
  {
   "cell_type": "markdown",
   "metadata": {},
   "source": [
    "#Stellab Userguide"
   ]
  },
  {
   "cell_type": "markdown",
   "metadata": {},
   "source": [
    "The Stellab module (which is a contraction for Stellar Abundances) enables to plot observational data for comparison with galactic chemical evolution (GCE) predictions.  The abundance ratios are presented in the following spectroscopic notation :"
   ]
  },
  {
   "cell_type": "markdown",
   "metadata": {},
   "source": [
    "$$[A/B]=\\log(n_A/n_B)-\\log(n_A/n_B)_\\odot.$$"
   ]
  },
  {
   "cell_type": "markdown",
   "metadata": {},
   "source": [
    "The following sections describe how to use the code."
   ]
  },
  {
   "cell_type": "code",
   "execution_count": null,
   "metadata": {
    "collapsed": false
   },
   "outputs": [],
   "source": [
    "# Import the needed packages\n",
    "import matplotlib\n",
    "import matplotlib.pyplot as plt"
   ]
  },
  {
   "cell_type": "code",
   "execution_count": null,
   "metadata": {
    "collapsed": false
   },
   "outputs": [],
   "source": [
    "# Import the observational data module\n",
    "import stellab\n",
    "reload(stellab)"
   ]
  },
  {
   "cell_type": "markdown",
   "metadata": {},
   "source": [
    "##Simple Plot"
   ]
  },
  {
   "cell_type": "markdown",
   "metadata": {},
   "source": [
    "In order to plot observed stellar abundances, you just need to enter the wanted ratios with the *xaxis* and *yaxis* parameters.  Stellab has been coded in a way that any abundance ratio can be plotted (see Appendix A below), as long as the considered data sets contain the elements.  In this example, we consider the Milky Way."
   ]
  },
  {
   "cell_type": "code",
   "execution_count": null,
   "metadata": {
    "collapsed": false
   },
   "outputs": [],
   "source": [
    "# Create an instance of Stellab\n",
    "s = stellab.stellab()"
   ]
  },
  {
   "cell_type": "code",
   "execution_count": null,
   "metadata": {
    "collapsed": false,
    "scrolled": false
   },
   "outputs": [],
   "source": [
    "# Plot observational data (you can try all the ratios you want)\n",
    "%matplotlib nbagg\n",
    "s.plot_spectro(xaxis='[Mg/H]', yaxis='[Ti/Mg]')\n",
    "plt.xlim(-4.5,0.75)\n",
    "plt.ylim(-1.4,1.4)"
   ]
  },
  {
   "cell_type": "markdown",
   "metadata": {},
   "source": [
    "##Solar Normalization"
   ]
  },
  {
   "cell_type": "markdown",
   "metadata": {},
   "source": [
    "By default, the solar normalization $\\log(n_A/n_B)_\\odot$ is taken from the reference paper that provide the data set.  But every data point can be re-normalized to any other solar values (see Appendix B), using the *norm* parameter.  This is highly recommended, since the original data points may not have the same solar normalization."
   ]
  },
  {
   "cell_type": "code",
   "execution_count": null,
   "metadata": {
    "collapsed": false
   },
   "outputs": [],
   "source": [
    "# First, you can see the list of the available solar abundances\n",
    "s.list_solar_norm()"
   ]
  },
  {
   "cell_type": "markdown",
   "metadata": {},
   "source": [
    "Here is an example of how the observational data can be re-normalized."
   ]
  },
  {
   "cell_type": "code",
   "execution_count": null,
   "metadata": {
    "collapsed": false
   },
   "outputs": [],
   "source": [
    "# Plot using the default solar normalization of each data set\n",
    "%matplotlib nbagg\n",
    "s.plot_spectro(xaxis='[Fe/H]', yaxis='[Ca/Fe]')\n",
    "plt.xlim(-4.5,0.75)\n",
    "plt.ylim(-1.4,1.4)"
   ]
  },
  {
   "cell_type": "code",
   "execution_count": null,
   "metadata": {
    "collapsed": false
   },
   "outputs": [],
   "source": [
    "# Plot using the same solar normalization for all data sets\n",
    "%matplotlib nbagg\n",
    "s.plot_spectro(xaxis='[Fe/H]', yaxis='[Ca/Fe]',norm='Grevesse_Sauval_1998')\n",
    "plt.xlim(-4.5,0.75)\n",
    "plt.ylim(-1.4,1.4)"
   ]
  },
  {
   "cell_type": "markdown",
   "metadata": {},
   "source": [
    "####Important Note\n",
    "\n",
    "In some papers, I had a hard time finding the solar normalization used by the authors.  This means I cannot apply the re-normalization for their data set.  When that happens, I print a warning below the plot and add two asterisk after the reference paper in the legend."
   ]
  },
  {
   "cell_type": "markdown",
   "metadata": {},
   "source": [
    "##Personal Selection"
   ]
  },
  {
   "cell_type": "markdown",
   "metadata": {},
   "source": [
    "You can select a subset of the observational data implemented in Stellab."
   ]
  },
  {
   "cell_type": "code",
   "execution_count": null,
   "metadata": {
    "collapsed": false
   },
   "outputs": [],
   "source": [
    "# First, you can see the list of the available reference papers\n",
    "s.list_ref_papers()"
   ]
  },
  {
   "cell_type": "code",
   "execution_count": null,
   "metadata": {
    "collapsed": false
   },
   "outputs": [],
   "source": [
    "# Create a list of reference papers\n",
    "%matplotlib nbagg\n",
    "obs = ['milky_way_data/Frebel_2010_Milky_Way_stellab',\\\n",
    "       'milky_way_data/Venn_et_al_2004_stellab',\\\n",
    "       'milky_way_data/Hinkel_et_al_2014_stellab']\n",
    "\n",
    "# Plot data using your selection of data points\n",
    "s.plot_spectro(xaxis='[Mg/H]', yaxis='[Ni/Mg]',norm='Grevesse_Sauval_1998',obs=obs)\n",
    "plt.xlim(-4.5,0.75)\n",
    "plt.ylim(-1.4,1.4)"
   ]
  },
  {
   "cell_type": "markdown",
   "metadata": {},
   "source": [
    "##Galaxy Selection"
   ]
  },
  {
   "cell_type": "markdown",
   "metadata": {},
   "source": [
    "The Milky Way is the default galaxy.  But you can select another galaxy among Sculptor, Fornax, and Carina."
   ]
  },
  {
   "cell_type": "code",
   "execution_count": null,
   "metadata": {
    "collapsed": false
   },
   "outputs": [],
   "source": [
    "# Plot data using a specific galaxy\n",
    "%matplotlib nbagg\n",
    "s.plot_spectro(xaxis='[Fe/H]', yaxis='[Ba/Eu]',norm='Grevesse_Sauval_1998',galaxy='fornax')\n",
    "plt.xlim(-4.5,0.75)\n",
    "plt.ylim(-1.4,1.4)"
   ]
  },
  {
   "cell_type": "markdown",
   "metadata": {},
   "source": [
    "##Plot Error Bars (still in construction...)"
   ]
  },
  {
   "cell_type": "markdown",
   "metadata": {},
   "source": [
    "It is possible to plot error bars with the **show_err** parameter, and print the mean errors with the **show_mean_err** parameter."
   ]
  },
  {
   "cell_type": "code",
   "execution_count": null,
   "metadata": {
    "collapsed": false
   },
   "outputs": [],
   "source": [
    "# Plot data using a specific galaxy\n",
    "%matplotlib nbagg\n",
    "s.plot_spectro(xaxis='[Fe/H]',yaxis='[Mg/Fe]',norm='Grevesse_Sauval_1998',\\\n",
    "               galaxy='carina',show_err=True,show_mean_err=True)\n",
    "plt.xlim(-4.5,0.75)\n",
    "plt.ylim(-1.4,1.4)"
   ]
  },
  {
   "cell_type": "markdown",
   "metadata": {},
   "source": [
    "##Numerical Predictions"
   ]
  },
  {
   "cell_type": "markdown",
   "metadata": {},
   "source": [
    "The purpose of Stellab is to provide a comparison platform for observations and numerical predictions coming from GCE models.  Stellab is a single unit by itself and can be used with any GCE model."
   ]
  },
  {
   "cell_type": "code",
   "execution_count": null,
   "metadata": {
    "collapsed": false
   },
   "outputs": [],
   "source": [
    "# Import the GCE module (could be any..)\n",
    "import omega\n",
    "reload(omega)"
   ]
  },
  {
   "cell_type": "code",
   "execution_count": null,
   "metadata": {
    "collapsed": false
   },
   "outputs": [],
   "source": [
    "# Create an instance of OMEGA using different yield tables (NuGrid)\n",
    "o_mesa    = omega.omega(mgal=1e10,table='yield_tables/isotope_yield_table_MESA_only.txt')\n",
    "o_mesa_ye = omega.omega(mgal=1e10,table='yield_tables/isotope_yield_table_MESA_only_ye.txt')"
   ]
  },
  {
   "cell_type": "code",
   "execution_count": null,
   "metadata": {
    "collapsed": false
   },
   "outputs": [],
   "source": [
    "# Choose abundance ratios\n",
    "%matplotlib nbagg\n",
    "xaxis = '[Fe/H]'\n",
    "yaxis = '[C/Fe]'\n",
    "\n",
    "# Plot observational data points (Stellab)\n",
    "s.plot_spectro(xaxis=xaxis, yaxis=yaxis,norm='Grevesse_Noels_1993')\n",
    "\n",
    "# Extract the numerical predictions (OMEGA)\n",
    "xy_mesa = o_mesa.plot_spectro(xaxis=xaxis,yaxis=yaxis,return_x_y=True)\n",
    "xy_mesa_ye = o_mesa_ye.plot_spectro(xaxis=xaxis,yaxis=yaxis,return_x_y=True)\n",
    "\n",
    "# Overplot the numerical predictions (they are normalized according to Grevesse & Noels 1993)\n",
    "plt.plot(xy_mesa[0],xy_mesa[1],linewidth=5,color='w')\n",
    "plt.plot(xy_mesa_ye[0],xy_mesa_ye[1],linewidth=5,color='w')\n",
    "plt.plot(xy_mesa[0],xy_mesa[1],linewidth=2,color='blue',label='All MESA')\n",
    "plt.plot(xy_mesa_ye[0],xy_mesa_ye[1],linewidth=2,color='k',label='All MESA + Ye mass-cut')\n",
    "\n",
    "# Update the existing legend\n",
    "plt.legend(loc='center left', bbox_to_anchor=(1.01, 0.5), markerscale=0.8, fontsize=13)\n",
    "\n",
    "# Choose X and Y limits\n",
    "plt.xlim(-4.5,0.75)\n",
    "plt.ylim(-1.4,1.4)"
   ]
  },
  {
   "cell_type": "markdown",
   "metadata": {},
   "source": [
    "#Appendix A - Abundance Ratios"
   ]
  },
  {
   "cell_type": "markdown",
   "metadata": {},
   "source": [
    "Let's consider that a data set provides stellar abundances in the form of [X/Y], where Y is the reference element (often H or Fe) and X represents any element.  It is possible to change the reference element by using simple substractions and additions."
   ]
  },
  {
   "cell_type": "markdown",
   "metadata": {},
   "source": [
    "###Substraction"
   ]
  },
  {
   "cell_type": "markdown",
   "metadata": {},
   "source": [
    "Let's say we want [Ca/Mg] from [Ca/Fe] and [Mg/Fe]."
   ]
  },
  {
   "cell_type": "markdown",
   "metadata": {},
   "source": [
    "$$[\\mathrm{Ca}/\\mathrm{Mg}]=\\log(n_\\mathrm{Ca}/n_\\mathrm{Mg})-\\log(n_\\mathrm{Ca}/n_\\mathrm{Mg})_\\odot$$"
   ]
  },
  {
   "cell_type": "markdown",
   "metadata": {},
   "source": [
    "$$=\\log\\left(\\frac{n_\\mathrm{Ca}/n_\\mathrm{Fe}}{n_\\mathrm{Mg}/n_\\mathrm{Fe}}\\right)-\\log\\left(\\frac{n_\\mathrm{Ca}/n_\\mathrm{Fe}}{n_\\mathrm{Mg}/n_\\mathrm{Fe}}\\right)_\\odot$$"
   ]
  },
  {
   "cell_type": "markdown",
   "metadata": {},
   "source": [
    "$$=\\log(n_\\mathrm{Ca}/n_\\mathrm{Fe})-\\log(n_\\mathrm{Mg}/n_\\mathrm{Fe})-\\log(n_\\mathrm{Ca}/n_\\mathrm{Fe})_\\odot+\\log(n_\\mathrm{Mg}/n_\\mathrm{Fe})_\\odot$$"
   ]
  },
  {
   "cell_type": "markdown",
   "metadata": {},
   "source": [
    "$$=[\\mathrm{Ca}/\\mathrm{Fe}]-[\\mathrm{Mg}/\\mathrm{Fe}]$$"
   ]
  },
  {
   "cell_type": "markdown",
   "metadata": {},
   "source": [
    "###Addition"
   ]
  },
  {
   "cell_type": "markdown",
   "metadata": {},
   "source": [
    "Let's say we want [Mg/H] from [Fe/H] and [Mg/Fe]."
   ]
  },
  {
   "cell_type": "markdown",
   "metadata": {},
   "source": [
    "$$[\\mathrm{Mg}/\\mathrm{H}]=\\log(n_\\mathrm{Mg}/n_\\mathrm{H})-\\log(n_\\mathrm{Mg}/n_\\mathrm{H})_\\odot$$"
   ]
  },
  {
   "cell_type": "markdown",
   "metadata": {},
   "source": [
    "$$=\\log\\left(\\frac{n_\\mathrm{Mg}/n_\\mathrm{Fe}}{n_\\mathrm{H}/n_\\mathrm{Fe}}\\right)-\\log\\left(\\frac{n_\\mathrm{Mg}/n_\\mathrm{Fe}}{n_\\mathrm{H}/n_\\mathrm{Fe}}\\right)_\\odot$$"
   ]
  },
  {
   "cell_type": "markdown",
   "metadata": {},
   "source": [
    "$$=\\log(n_\\mathrm{Mg}/n_\\mathrm{Fe})-\\log(n_\\mathrm{H}/n_\\mathrm{Fe})-\\log(n_\\mathrm{Mg}/n_\\mathrm{Fe})_\\odot+\\log(n_\\mathrm{H}/n_\\mathrm{Fe})_\\odot$$"
   ]
  },
  {
   "cell_type": "markdown",
   "metadata": {},
   "source": [
    "$$=\\log(n_\\mathrm{Mg}/n_\\mathrm{Fe})+\\log(n_\\mathrm{Fe}/n_\\mathrm{H})-\\log(n_\\mathrm{Mg}/n_\\mathrm{Fe})_\\odot-\\log(n_\\mathrm{Fe}/n_\\mathrm{H})_\\odot$$"
   ]
  },
  {
   "cell_type": "markdown",
   "metadata": {},
   "source": [
    "$$=[\\mathrm{Mg}/\\mathrm{Fe}]+[\\mathrm{Fe}/\\mathrm{H}]$$"
   ]
  },
  {
   "cell_type": "markdown",
   "metadata": {},
   "source": [
    "###Test"
   ]
  },
  {
   "cell_type": "code",
   "execution_count": null,
   "metadata": {
    "collapsed": false
   },
   "outputs": [],
   "source": [
    "# Everything should be on a horizontal line\n",
    "%matplotlib nbagg\n",
    "s.plot_spectro(xaxis='[Mg/H]', yaxis='[Ti/Ti]')\n",
    "plt.xlim(-1,1)\n",
    "plt.ylim(-1,1)"
   ]
  },
  {
   "cell_type": "code",
   "execution_count": null,
   "metadata": {
    "collapsed": false
   },
   "outputs": [],
   "source": [
    "# Everything should be on a vertical line\n",
    "%matplotlib nbagg\n",
    "s.plot_spectro(xaxis='[Mg/Mg]', yaxis='[Ti/Mg]')\n",
    "plt.xlim(-1,1)\n",
    "plt.ylim(-1,1)"
   ]
  },
  {
   "cell_type": "code",
   "execution_count": null,
   "metadata": {
    "collapsed": false
   },
   "outputs": [],
   "source": [
    "# Everything should be at zero\n",
    "%matplotlib nbagg\n",
    "s.plot_spectro(xaxis='[Mg/Mg]', yaxis='[Ti/Ti]')\n",
    "plt.xlim(-1,1)\n",
    "plt.ylim(-1,1)"
   ]
  },
  {
   "cell_type": "markdown",
   "metadata": {},
   "source": [
    "#Appendix B - Solar Re-Normalization"
   ]
  },
  {
   "cell_type": "markdown",
   "metadata": {},
   "source": [
    "Changing the solar normalization is a very straightforward operation."
   ]
  },
  {
   "cell_type": "markdown",
   "metadata": {},
   "source": [
    "$$[\\mathrm{Mg}/\\mathrm{H}]=\\log(n_\\mathrm{Mg}/n_\\mathrm{H})-\\log(n_\\mathrm{Mg}/n_\\mathrm{H})^{\\mathrm{paper}}_\\odot+\\log(n_\\mathrm{Mg}/n_\\mathrm{H})^{\\mathrm{paper}}_\\odot-\\log(n_\\mathrm{Mg}/n_\\mathrm{H})^{\\mathrm{re-norm}}_\\odot$$"
   ]
  },
  {
   "cell_type": "markdown",
   "metadata": {},
   "source": [
    "$$=[\\mathrm{Mg}/\\mathrm{H}]_\\mathrm{paper}+\\log(n_\\mathrm{Mg}/n_\\mathrm{H})^{\\mathrm{paper}}_\\odot-\\log(n_\\mathrm{Mg}/n_\\mathrm{H})^{\\mathrm{re-norm}}_\\odot$$"
   ]
  },
  {
   "cell_type": "markdown",
   "metadata": {},
   "source": [
    "In these two last equations, *paper* refers to the reference paper that provides the data set, and *re-norm* refers to the new solar abundances you want for your re-normalization."
   ]
  }
 ],
 "metadata": {
  "kernelspec": {
   "display_name": "Python 2",
   "language": "python",
   "name": "python2"
  },
  "language_info": {
   "codemirror_mode": {
    "name": "ipython",
    "version": 2
   },
   "file_extension": ".py",
   "mimetype": "text/x-python",
   "name": "python",
   "nbconvert_exporter": "python",
   "pygments_lexer": "ipython2",
   "version": "2.7.9"
  }
 },
 "nbformat": 4,
 "nbformat_minor": 0
}
