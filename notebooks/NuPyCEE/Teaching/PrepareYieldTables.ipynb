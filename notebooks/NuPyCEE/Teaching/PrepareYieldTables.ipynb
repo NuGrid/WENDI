{
 "cells": [
  {
   "cell_type": "markdown",
   "metadata": {},
   "source": [
    "# Steps to prepare yield tables for NuPyCEE"
   ]
  },
  {
   "cell_type": "markdown",
   "metadata": {},
   "source": [
    "How to create your own yield tables and modify existing tables. Current yield tables\n",
    "are available in the yield_tables directory. There are two formats of yield tables to be\n",
    "used."
   ]
  },
  {
   "cell_type": "markdown",
   "metadata": {},
   "source": [
    "The script read_yields.py is used by SYGMA and OMEGA and allows to deal with yield tables."
   ]
  },
  {
   "cell_type": "code",
   "execution_count": 1,
   "metadata": {
    "collapsed": true
   },
   "outputs": [],
   "source": [
    "%matplotlib nbagg\n",
    "import read_yields as ry\n",
    "import sygma as s"
   ]
  },
  {
   "cell_type": "markdown",
   "metadata": {},
   "source": [
    "## I. Write your own yield tables for AGB and massive stars"
   ]
  },
  {
   "cell_type": "markdown",
   "metadata": {},
   "source": [
    "Tables for each stellar model need to have the same number of isotopes and the same table header structure!!\n",
    "Also each table header must contain the Table identifier (M=1.0,Z=0.02), the lifetime of the star and the final remnant/WD mass. Here an example:\n",
    "\n",
    "H Table: (M=1.0,Z=0.02) \n",
    "\n",
    "H Lifetime: 1.215E+10\n",
    "\n",
    "H Mfinal: 5.601E-01\n",
    "\n",
    "Have a look at in yield_tables/agb_and_massive_stars_nugrid_MESAonly_fryer12delay.txt for an example."
   ]
  },
  {
   "cell_type": "markdown",
   "metadata": {},
   "source": [
    "Below we write some dummy values in a yield table:"
   ]
  },
  {
   "cell_type": "code",
   "execution_count": 19,
   "metadata": {
    "collapsed": false
   },
   "outputs": [],
   "source": [
    "Zs = [0.02,0.01] #Metallicity         \n",
    "Ms = [[1,5,15],[1,5,15]] #Initial masses\n",
    "# 4 models in total, each of them the same number of isotopes!\n",
    "isos = ['H-1','He-4','C-12']\n",
    "yields_star = [0.1,0.2,0.01] #Msun\n",
    "data_star = [yields_star] #provide only yields \n",
    "# structure: [Zs[0],Zs[1]] where Z[0] => Ms[0] and Z[1] => Ms[1]\n",
    "yields_all = [len(Ms[0])*[data_star],len(Ms[1])*[data_star]]    "
   ]
  },
  {
   "cell_type": "code",
   "execution_count": 20,
   "metadata": {
    "collapsed": false
   },
   "outputs": [],
   "source": [
    "#define header data, define always all fields.\n",
    "table_name = 'Yield table'\n",
    "units='Msun, year'          "
   ]
  },
  {
   "cell_type": "code",
   "execution_count": 21,
   "metadata": {
    "collapsed": true
   },
   "outputs": [],
   "source": [
    "#additional necessary data per stellar model\n",
    "col_attrs = ['Lifetime', 'Mfinal']\n",
    "data_star =[2e9,0.9] #as specified with Units, yr and Msun\n",
    "col_attrs_data = [len(Ms[0])*[data_star],len(Ms[1])*[data_star]]   "
   ]
  },
  {
   "cell_type": "code",
   "execution_count": 22,
   "metadata": {
    "collapsed": true
   },
   "outputs": [],
   "source": [
    "#data columns, 'Yields' required but other data can be added (in data_star).\n",
    "data_cols = ['Yields']"
   ]
  },
  {
   "cell_type": "code",
   "execution_count": 23,
   "metadata": {
    "collapsed": false
   },
   "outputs": [
    {
     "name": "stdout",
     "output_type": "stream",
     "text": [
      "Yields table  isotope_yield_table_mod.txt  created.\n"
     ]
    }
   ],
   "source": [
    "ry.write_tables(data=yields_all,data_cols=data_cols,\n",
    "                Zs=Zs,Ms=Ms,isos=isos,\n",
    "                col_attrs=col_attrs,col_attrs_data=col_attrs_data,\n",
    "                units=units,table_name=table_name,filename='isotope_yield_table_mod.txt')"
   ]
  },
  {
   "cell_type": "markdown",
   "metadata": {},
   "source": [
    "#### Test: Read the table"
   ]
  },
  {
   "cell_type": "code",
   "execution_count": 24,
   "metadata": {
    "collapsed": true
   },
   "outputs": [],
   "source": [
    "new_table_name='isotope_yield_table_mod.txt'"
   ]
  },
  {
   "cell_type": "code",
   "execution_count": 25,
   "metadata": {
    "collapsed": false
   },
   "outputs": [],
   "source": [
    "table=ry.read_nugrid_yields(new_table_name)"
   ]
  },
  {
   "cell_type": "code",
   "execution_count": 29,
   "metadata": {
    "collapsed": false
   },
   "outputs": [
    {
     "name": "stdout",
     "output_type": "stream",
     "text": [
      "[0.02, 0.01]\n",
      "[1.0, 5.0, 15.0]\n",
      "0.01\n"
     ]
    }
   ],
   "source": [
    "#try tetting H-1 you wrote\n",
    "print table.metallicities\n",
    "print table.get(Z=0.02,quantity='masses')\n",
    "print table.get(M=1,Z=0.02,specie='C-12')"
   ]
  },
  {
   "cell_type": "code",
   "execution_count": 36,
   "metadata": {
    "collapsed": false
   },
   "outputs": [
    {
     "name": "stderr",
     "output_type": "stream",
     "text": [
      "/Users/christian/anaconda/lib/python2.7/site-packages/numpy/lib/polynomial.py:594: RankWarning: Polyfit may be poorly conditioned\n",
      "  warnings.warn(msg, RankWarning)\n"
     ]
    },
    {
     "name": "stdout",
     "output_type": "stream",
     "text": [
      "SYGMA run in progress..\n",
      "   SYGMA run completed - Run time: 0.25s\n"
     ]
    }
   ],
   "source": [
    "#You can try to run SYGMA with with the yield table for a test\n",
    "s1=s.sygma(iniZ=0.02,table='Teaching/'+new_table_name)"
   ]
  },
  {
   "cell_type": "markdown",
   "metadata": {},
   "source": [
    "This example assumes that isotopes available in table1 are also in table2. If not, the loops below have\n",
    "to be adjusted accordingly."
   ]
  },
  {
   "cell_type": "markdown",
   "metadata": {},
   "source": [
    "### Example: Merging two yield tables:"
   ]
  },
  {
   "cell_type": "code",
   "execution_count": 37,
   "metadata": {
    "collapsed": true
   },
   "outputs": [],
   "source": [
    "table1=ry.read_nugrid_yields('../yield_tables/agb_and_massive_stars_nugrid_MESAonly_fryer12delay.txt')"
   ]
  },
  {
   "cell_type": "code",
   "execution_count": 38,
   "metadata": {
    "collapsed": true
   },
   "outputs": [],
   "source": [
    "table2=ry.read_nugrid_yields('../yield_tables/agb_and_massive_stars_nugrid_MESAonly_fryer12rapid.txt')"
   ]
  },
  {
   "cell_type": "code",
   "execution_count": 39,
   "metadata": {
    "collapsed": false
   },
   "outputs": [
    {
     "name": "stdout",
     "output_type": "stream",
     "text": [
      "[0.02, 0.01, 0.006, 0.001, 0.0001]\n",
      "['Isotopes', 'Yields', 'X0', 'Z', 'A']\n"
     ]
    }
   ],
   "source": [
    "print table1.metallicities\n",
    "print table1.data_cols\n",
    "Zs = table1.metallicities\n",
    "for Z in Zs:\n",
    "    Ms=table1.get(Z=Z,quantity='masses')\n",
    "    for M in Ms:\n",
    "        isos = table1.get(M=M,Z=Z,quantity='Isotopes')\n",
    "        for iso in isos:\n",
    "            y_iso1 = table1.get(M=M,Z=Z,specie=iso)\n",
    "            y_iso2 = table2.get(M=M,Z=Z,specie=iso)\n",
    "            y_mix = (y_iso1+y_iso2)/2.\n",
    "            #The set function only modifies an existing entry\n",
    "            table1.set(M=M,Z=Z,specie=iso,value=y_mix)\n",
    "            "
   ]
  },
  {
   "cell_type": "code",
   "execution_count": 40,
   "metadata": {
    "collapsed": false
   },
   "outputs": [
    {
     "name": "stdout",
     "output_type": "stream",
     "text": [
      "Yields table  agb_and_massive_stars_test_merge.txt  created.\n"
     ]
    }
   ],
   "source": [
    "table1.write_table(filename='agb_and_massive_stars_test_merge.txt')"
   ]
  },
  {
   "cell_type": "markdown",
   "metadata": {},
   "source": [
    "## II. Write your own yield tables for other sources"
   ]
  },
  {
   "cell_type": "markdown",
   "metadata": {},
   "source": [
    "The second table format used usually makes up just one table and can\n",
    "be easily written with custom scripts."
   ]
  },
  {
   "cell_type": "code",
   "execution_count": null,
   "metadata": {
    "collapsed": true
   },
   "outputs": [],
   "source": []
  }
 ],
 "metadata": {
  "kernelspec": {
   "display_name": "Python 2",
   "language": "python",
   "name": "python2"
  },
  "language_info": {
   "codemirror_mode": {
    "name": "ipython",
    "version": 2
   },
   "file_extension": ".py",
   "mimetype": "text/x-python",
   "name": "python",
   "nbconvert_exporter": "python",
   "pygments_lexer": "ipython2",
   "version": "2.7.11"
  }
 },
 "nbformat": 4,
 "nbformat_minor": 0
}
