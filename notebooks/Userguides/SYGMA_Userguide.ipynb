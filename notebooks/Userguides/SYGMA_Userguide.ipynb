{
 "cells": [
  {
   "cell_type": "markdown",
   "metadata": {},
   "source": [
    "# Introduction to SYGMA"
   ]
  },
  {
   "cell_type": "markdown",
   "metadata": {},
   "source": [
    "\n",
    "How to use the notebook:\n",
    "\n",
    "$\\odot$ Execute cell: select cell and shift+enter\n",
    "\n",
    "\n",
    "$\\odot$ To start again and remove all output:  Cell > All output > Clear\n",
    " \n",
    "$\\odot$ The circle in the menu bar in the upper right corner indicates if the program is busy."
   ]
  },
  {
   "cell_type": "markdown",
   "metadata": {},
   "source": [
    "# Abstract"
   ]
  },
  {
   "cell_type": "markdown",
   "metadata": {},
   "source": [
    "The purpose of this notebook is to demonstrate and explain the basic capabilities of SYGMA.\n",
    "You can run all the commmands below in the interactive python session on your computer."
   ]
  },
  {
   "cell_type": "markdown",
   "metadata": {},
   "source": [
    "### Accessing SYGMA"
   ]
  },
  {
   "cell_type": "markdown",
   "metadata": {},
   "source": [
    "Import of the module. You have to tell the code where to find the root directory by pointing\n",
    "the bash variable SYGMADIR to the root directory of NuPyCEE. One execption is if you execute SYGMA\n",
    "from within the root directory. You find the SYGMADIR defined in this bash script start_notebook_server.sh."
   ]
  },
  {
   "cell_type": "code",
   "execution_count": null,
   "metadata": {
    "collapsed": false
   },
   "outputs": [],
   "source": [
    "import sygma as s\n",
    "%matplotlib nbagg"
   ]
  },
  {
   "cell_type": "markdown",
   "metadata": {},
   "source": [
    "## 1.) Runnig the simulation"
   ]
  },
  {
   "cell_type": "markdown",
   "metadata": {},
   "source": [
    "In the following the evolution of a single stellar population (SSP, one starburst) with an initial metallicty of $Z=0.0001$ is calculated. The SSP has a total mass of $10^{11}M_{\\odot}$.  When reaching $1.3*10^{10}$ years the code stops. Start the simulation by creating an instance s1 of the class $sygma$:"
   ]
  },
  {
   "cell_type": "code",
   "execution_count": null,
   "metadata": {
    "collapsed": false
   },
   "outputs": [],
   "source": [
    "s1=s.sygma(iniZ=0.0001,tend=1.0e10,mgal=1.3e10)"
   ]
  },
  {
   "cell_type": "markdown",
   "metadata": {},
   "source": [
    "Here we use the default values of many input parameter such as the Salpeter IMF and the mass range betwen $1M_{\\odot}$ and $30M_{\\odot}$."
   ]
  },
  {
   "cell_type": "markdown",
   "metadata": {},
   "source": [
    "## 2) Visualization"
   ]
  },
  {
   "cell_type": "markdown",
   "metadata": {},
   "source": [
    "Attached to SYGMA is an analysis test suite of various functions."
   ]
  },
  {
   "cell_type": "markdown",
   "metadata": {},
   "source": [
    "### Total mass evolution"
   ]
  },
  {
   "cell_type": "markdown",
   "metadata": {},
   "source": [
    "SYGMA provides plotting functions which have the form plot_*. Check out the\n",
    "<a href=\"http://nugrid.github.io/NuPyCEE/SPHINX/build/html/sygma.html\">SPHINX documentation</a> for\n",
    "more input parameter and their definition.\n",
    "Now let us plot the evolution of the total (ejected) gas mass."
   ]
  },
  {
   "cell_type": "code",
   "execution_count": null,
   "metadata": {
    "collapsed": false
   },
   "outputs": [],
   "source": [
    "s1.plot_totmasses(fig=1,source='all')"
   ]
  },
  {
   "cell_type": "markdown",
   "metadata": {},
   "source": [
    "SYGMA traces the (accumulated!) amount of mass ejected by stars which increases over time because more and more stars eject their matter. The value of $10^{11}M_{\\odot}$ chosen as the initial gas mass of the cloud will never be reached because a lot of matter is forever locked away inside the stellar remnants."
   ]
  },
  {
   "cell_type": "markdown",
   "metadata": {},
   "source": [
    "### Gas mass from different sources"
   ]
  },
  {
   "cell_type": "markdown",
   "metadata": {},
   "source": [
    "From where is the ejected mass coming from? You can distinguish between three main stellar sources: AGB, masive and SN1a. For that we use other parameter of the plotting function as explained in the online documentation."
   ]
  },
  {
   "cell_type": "code",
   "execution_count": null,
   "metadata": {
    "collapsed": false
   },
   "outputs": [],
   "source": [
    "s1.plot_totmasses(fig=2,source='agb')\n",
    "s1.plot_totmasses(fig=2,source='massive')\n",
    "s1.plot_totmasses(fig=2,source='sn1a')"
   ]
  },
  {
   "cell_type": "markdown",
   "metadata": {},
   "source": [
    "First the massive stars eject their matter due to their short lifetime. Later AGB stars and SNIa start to contribute.\n",
    "After about $3*10^8$ years AGB stars have ejected the most matter."
   ]
  },
  {
   "cell_type": "markdown",
   "metadata": {},
   "source": [
    "### Analysis of the composition"
   ]
  },
  {
   "cell_type": "markdown",
   "metadata": {},
   "source": [
    "One can also analyze the contribution of specific isotopes and elements.\n",
    "Let us look a the element carbon."
   ]
  },
  {
   "cell_type": "code",
   "execution_count": null,
   "metadata": {
    "collapsed": false
   },
   "outputs": [],
   "source": [
    "s1.plot_mass(fig=3,specie='C', source='all')"
   ]
  },
  {
   "cell_type": "markdown",
   "metadata": {},
   "source": [
    "### Spectroscopic notation"
   ]
  },
  {
   "cell_type": "markdown",
   "metadata": {},
   "source": [
    "You can plot the evolution of isotopes and elements in spectroscopic notation, such as [Fe/H]:"
   ]
  },
  {
   "cell_type": "code",
   "execution_count": null,
   "metadata": {
    "collapsed": false
   },
   "outputs": [],
   "source": [
    "s1.plot_spectro(fig=4,xaxis='age',yaxis='[O/Fe]', source='all')"
   ]
  },
  {
   "cell_type": "markdown",
   "metadata": {},
   "source": [
    "### Single star sources"
   ]
  },
  {
   "cell_type": "markdown",
   "metadata": {},
   "source": [
    "To analyse which stars are relevant for the element production you can plot the contribution\n",
    "of stars of different intial mass. Here you see the total mass contribution for C from each initial mass interval."
   ]
  },
  {
   "cell_type": "code",
   "execution_count": null,
   "metadata": {
    "collapsed": false
   },
   "outputs": [],
   "source": [
    "s1.plot_mass_range_contributions(fig=5,specie='C')"
   ]
  },
  {
   "cell_type": "markdown",
   "metadata": {},
   "source": [
    "The low-mass AGB stars produce the most C while for massive and S-AGB stars the contribution drops."
   ]
  },
  {
   "cell_type": "markdown",
   "metadata": {},
   "source": [
    "## 3) Data extraction"
   ]
  },
  {
   "cell_type": "markdown",
   "metadata": {},
   "source": [
    "To extract how much of elements and isotopes are ejected you can extract tables.  \n",
    "In the following example the elements H, He and C are extracted and are saved\n",
    "in the evol_tables directory. \n",
    "(If you use this notebook in the WENDI web interface you cannot access the table directly.)"
   ]
  },
  {
   "cell_type": "code",
   "execution_count": null,
   "metadata": {
    "collapsed": false
   },
   "outputs": [],
   "source": [
    "s1.write_evol_table(elements=['H','He','C'])"
   ]
  },
  {
   "cell_type": "markdown",
   "metadata": {},
   "source": [
    "The amount of H, He and C is normalized to the total amount of the gas mass specified initially ($10^{11}M_{\\odot}$ in our case.)"
   ]
  },
  {
   "cell_type": "markdown",
   "metadata": {},
   "source": [
    "## 4) Demonstration of basic capabilities"
   ]
  },
  {
   "cell_type": "markdown",
   "metadata": {},
   "source": [
    "In the following we show basic capabilities of SYGMA which include changing the IMF, adaptiong the IMF range and changing the delay-time distribution of SNIa."
   ]
  },
  {
   "cell_type": "code",
   "execution_count": null,
   "metadata": {
    "collapsed": false
   },
   "outputs": [],
   "source": [
    "#default type 'salpeter', change to chabrier IMF\n",
    "s2=s.sygma(iniZ=0.0001,tend=1.0e10,mgal=1.3e10,imf_type='chabrier') "
   ]
  },
  {
   "cell_type": "code",
   "execution_count": null,
   "metadata": {
    "collapsed": false
   },
   "outputs": [],
   "source": [
    "#default from 1 to 30Msun, changed to 2 to 15Msun\n",
    "s3=s.sygma(iniZ=0.0001,tend=1.0e10,mgal=1.3e10,imf_bdys=[2,15]) "
   ]
  },
  {
   "cell_type": "code",
   "execution_count": null,
   "metadata": {
    "collapsed": false
   },
   "outputs": [],
   "source": [
    "#turning SNIa  off\n",
    "s4=s.sygma(iniZ=0.0001,tend=1.0e10,mgal=1.3e10,sn1a_on=False) "
   ]
  },
  {
   "cell_type": "markdown",
   "metadata": {},
   "source": [
    "For each run you could add here plots introduced in 2) by using the instances s2, s3 and s4."
   ]
  },
  {
   "cell_type": "markdown",
   "metadata": {},
   "source": [
    "## 5) Modifying the yield input"
   ]
  },
  {
   "cell_type": "markdown",
   "metadata": {
    "collapsed": true
   },
   "source": [
    "All yield input is provided as tables which can be easily modified. Or you can provide your own yield tables."
   ]
  },
  {
   "cell_type": "markdown",
   "metadata": {},
   "source": [
    "As default SYGMA uses NuGrid's yield tables for AGB and massive stars (<a href=\"http://adsabs.harvard.edu/abs/2016ApJS..225...24P\">Pignatari et al. 2016</a>). Other defaults include the\n",
    "choice of SNIa yields from <a href=\"http://adsabs.harvard.edu/abs/1986A%26A...158...17T\">Thielemann 1986</a>\n",
    "and PopIII stars from <a href=\"http://adsabs.harvard.edu/abs/2010ApJ...724..341H\">Heger 2010</a>.\n",
    "Using your own yield is not possible within the WENDI web interface."
   ]
  },
  {
   "cell_type": "markdown",
   "metadata": {},
   "source": [
    "To use own yields for AGB stars and massive stars it is necessary to specify the input variable table = 'yourtablename'. The table needs to have the NuGrid yield table format which is found as the default yield table file (specified with $table='yield\\_tables/isotope\\_yield\\_table.txt'$). All NuPyCEE yield table files are available in the $yield\\_tables$ directory. \n",
    "\n",
    "Note that yield tables and initial abundance files must include the same isotopes. Hence it is necessary to specify a initial abundance file via the input variable $iniabu\\_table$ which must be placed in the $iniabu$ directory\n",
    "within $yield\\_tables$. "
   ]
  },
  {
   "cell_type": "markdown",
   "metadata": {},
   "source": [
    "In the following we show a example with artificial yields with only the species H-1."
   ]
  },
  {
   "cell_type": "code",
   "execution_count": null,
   "metadata": {
    "collapsed": false
   },
   "outputs": [],
   "source": [
    "s_other_yields=s.sygma(iniZ=0.0001,tend=1.0e10,mgal=1.3e10,\n",
    "             table='yield_tables/agb_and_massive_stars_h1.txt',\n",
    "             iniabu_table='yield_tables/iniabu/iniab_h1.ppn')"
   ]
  },
  {
   "cell_type": "code",
   "execution_count": null,
   "metadata": {
    "collapsed": false
   },
   "outputs": [],
   "source": [
    "s_other_yields.plot_totmasses(fig=6,source='all')"
   ]
  },
  {
   "cell_type": "code",
   "execution_count": null,
   "metadata": {
    "collapsed": true
   },
   "outputs": [],
   "source": []
  }
 ],
 "metadata": {
  "kernelspec": {
   "display_name": "Python 2",
   "language": "python",
   "name": "python2"
  },
  "language_info": {
   "codemirror_mode": {
    "name": "ipython",
    "version": 2
   },
   "file_extension": ".py",
   "mimetype": "text/x-python",
   "name": "python",
   "nbconvert_exporter": "python",
   "pygments_lexer": "ipython2",
   "version": "2.7.11"
  }
 },
 "nbformat": 4,
 "nbformat_minor": 0
}
