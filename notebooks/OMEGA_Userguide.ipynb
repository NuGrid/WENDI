{
 "cells": [
  {
   "cell_type": "markdown",
   "metadata": {},
   "source": [
    "# OMEGA Userguide"
   ]
  },
  {
   "cell_type": "markdown",
   "metadata": {},
   "source": [
    "* Execute cell by typing Shift+Enter.\n",
    "\n",
    "* The circle at the top-right corner is filled when the code is running.\n",
    "\n",
    "* If the notebook is stuck, restart the kernel (Kernel > Restart in the menu bar) or close and re-open the notebook."
   ]
  },
  {
   "cell_type": "markdown",
   "metadata": {},
   "source": [
    "##Introduction"
   ]
  },
  {
   "cell_type": "markdown",
   "metadata": {},
   "source": [
    "OMEGA (One-zone Model for the Evolution of Galaxies) is a classical galactic chemical evolution model with an input star formation history where stars form and inject new elements within the same gas reservoir, using SYGMA (Stellar Yields for Galactic Modeling Applications) to create a simple stellar population at each timestep.  We highly recommend to consult the SYGMA userguide notebook before using OMEGA.  All the input parameters used by SYGMA to describe simple stellar populations can also be used by OMEGA.\n",
    "\n",
    "This notebook presents a few exemples of how OMEGA can be used.  We refer to the Sphinx documentation for detailed information (<a href=\"http://nupycee.bitbucket.org/SPHINX/build/html/sygma.html\">SYGMA</a>, <a href=\"http://nupycee.bitbucket.org/SPHINX/build/html/omega.html\">OMEGA</a>).  The code offers both the closed box and the open box scenarios.  As shown below, three implementation options are available for the treatment of gas inflows and outflows.  Throughout this notebook, abundances ratios are presented in the following notation :\n",
    "\n",
    "$$[A/B]=\\log(n_A/n_B)-\\log(n_A/n_B)_\\odot.$$\n",
    "\n",
    "**Import the OMEGA module**"
   ]
  },
  {
   "cell_type": "code",
   "execution_count": null,
   "metadata": {
    "collapsed": true
   },
   "outputs": [],
   "source": [
    "import matplotlib\n",
    "import matplotlib.pyplot as plt\n",
    "%matplotlib nbagg"
   ]
  },
  {
   "cell_type": "code",
   "execution_count": null,
   "metadata": {
    "collapsed": false
   },
   "outputs": [],
   "source": [
    "import omega\n",
    "reload(omega)"
   ]
  },
  {
   "cell_type": "markdown",
   "metadata": {},
   "source": [
    "##1. Closed Box Model (default mode)"
   ]
  },
  {
   "cell_type": "markdown",
   "metadata": {},
   "source": [
    "A single-zone closed-box model solves the following equation at each timestep:\n",
    "\n",
    "$$M_{\\rm gas}(t+\\Delta t)=M_{\\rm gas}(t) + \\Big[\\dot{M}_{\\rm ej}(t) - \\dot{M}_\\star(t)\\Big]\\Delta t,\\qquad\\qquad(1)$$\n",
    "\n",
    "where $\\Delta t$ is the duration of the timestep and $M_{\\rm gas}(t)$, $\\dot{M}_{\\rm ej}(t)$, $\\dot{M}_\\star(t)$ are respectively the mass of the gas reservoir, the stellar mass loss rate, and the star formation rate (SFR) at time $t$.  Because the star formation history (SFH) is an input parameter and the mass ejected by stars is calculated with SYGMA from a set of stellar yields, the only unkown in that last equation is the mass of gas.\n",
    "\n",
    "Let's simulate two galaxies with a constant SFR using the **cte_sfr** parameter in units of M$_\\odot$ yr$^{-1}$.  The mass of the gas reservoir can be set by the **mgal** parameter in units of M$_\\odot$.  Numerical predictions can afterward be visualized with the *plot_spectro* function.  Most of the plotting functions called by SYGMA can also be called by OMEGA."
   ]
  },
  {
   "cell_type": "code",
   "execution_count": null,
   "metadata": {
    "collapsed": false
   },
   "outputs": [],
   "source": [
    "# Modifying the mass of gas changes the metal concentration\n",
    "o  = omega.omega(cte_sfr=1.0, mgal=1.5e10)\n",
    "oo = omega.omega(cte_sfr=1.0, mgal=3.0e10)"
   ]
  },
  {
   "cell_type": "code",
   "execution_count": null,
   "metadata": {
    "collapsed": false
   },
   "outputs": [],
   "source": [
    "# Chose your X and Y axis\n",
    "x = '[Mg/H]'\n",
    "y = '[C/O]'\n",
    "o.plot_spectro( fig=1, xaxis=x, yaxis=y, label='Closed Box, mgal=1.5e10', color='b')\n",
    "oo.plot_spectro(fig=1, xaxis=x, yaxis=y, label='Closed Box, mgal=3.0e10', color='g')"
   ]
  },
  {
   "cell_type": "markdown",
   "metadata": {},
   "source": [
    "##2. Open Box Models"
   ]
  },
  {
   "cell_type": "markdown",
   "metadata": {},
   "source": [
    "An single-zone open-box model solves the following equation at each timestep:\n",
    "\n",
    "$$M_{\\rm gas}(t+\\Delta t)=M_{\\rm gas}(t) + \\Big[\\dot{M}_{\\rm in}(t) +\\dot{M}_{\\rm ej}(t) - \\dot{M}_\\star(t) - \\dot{M}_{\\rm out}(t)\\Big]\\Delta t,\\qquad\\qquad(2)$$\n",
    "\n",
    "where $\\dot{M}_{\\rm in}(t)$ and $\\dot{M}_{\\rm out}(t)$ are the inflow and outflow rates at time $t$.  In the following sections, we present three different implementations that can be used to treat inflows and outflows."
   ]
  },
  {
   "cell_type": "markdown",
   "metadata": {},
   "source": [
    "###2.1. The IO Model"
   ]
  },
  {
   "cell_type": "markdown",
   "metadata": {},
   "source": [
    "The IO model stands for inflow and outflow control.  It represents the most basis implementation for an open-box model, which makes it the easiest model to work with.  As for the closed-box model, the **mgal** parameter is used to set the initial mass of the gas reservoir.\n",
    "\n",
    "####2.1.1. Constant Inflows and Outflows\n",
    "\n",
    "Inflow and outflow rates can be set manually to a constant value in units of M$_\\odot$ yr$^{-1}$ with the parameters **inflow_rate** and **outflow_rate**.  Let's look at how inflows and outflows modify the the gas content of a galaxy."
   ]
  },
  {
   "cell_type": "code",
   "execution_count": null,
   "metadata": {
    "collapsed": false
   },
   "outputs": [],
   "source": [
    "# Closed box\n",
    "o_cl_box = omega.omega(mgal=1e10, cte_sfr=1.0)\n",
    "\n",
    "# Semi-open box with inflows only\n",
    "o_no_out = omega.omega(in_out_control=True, mgal=1e10, cte_sfr=1.0, inflow_rate=2.0, outflow_rate=0.0)\n",
    "\n",
    "# Open box with inflows and outflows\n",
    "o_in_out = omega.omega(in_out_control=True, mgal=1e10, cte_sfr=1.0, inflow_rate=2.0, outflow_rate=1.0)"
   ]
  },
  {
   "cell_type": "code",
   "execution_count": null,
   "metadata": {
    "collapsed": false,
    "scrolled": false
   },
   "outputs": [],
   "source": [
    "# Plot the mass of the gas reservoir as a function of time\n",
    "o_no_out.plot_totmasses(fig=2, color='r', label='Inflows only')\n",
    "o_in_out.plot_totmasses(fig=2, color='b', label='Inflows and outflows')\n",
    "o_cl_box.plot_totmasses(fig=2, color='k', label='Closed box')\n",
    "\n",
    "# Set Y axis ranges\n",
    "plt.xlim(1e8,13e9)\n",
    "plt.ylim(1e9,5e10)"
   ]
  },
  {
   "cell_type": "markdown",
   "metadata": {},
   "source": [
    "####2.1.2. Mass Loading Factor"
   ]
  },
  {
   "cell_type": "markdown",
   "metadata": {},
   "source": [
    "When the SFH is not constant with time, it is preferable to use the relationship between the outflow rate and the SFR (e.g., <a href=\"http://adsabs.harvard.edu/abs/1999ApJ...513..156M\">Martin 1999</a>; <a href=\"http://adsabs.harvard.edu/abs/2005ARA%26A..43..769V\">Veilleux et al. 2005</a>),\n",
    "\n",
    "$$\\dot{M}_{\\rm out}\\equiv\\eta\\dot{M}_\\star,\\qquad\\qquad(3)$$\n",
    "\n",
    "where $\\eta$ is the mass-loading factor, which can be set with the **mass_loading** parameter.  If this last parameter is used, the inflow rate can also be linked to the SFR by defining the ratio between inflows and outflows with the **in_out_ratio** parameter.  Here is an exemple with a SFH similar to the Sculptor dwarf spheroidal galaxy."
   ]
  },
  {
   "cell_type": "code",
   "execution_count": null,
   "metadata": {
    "collapsed": false
   },
   "outputs": [],
   "source": [
    "# Define the SFH input file\n",
    "sfh = 'sculptor_data/sfh_deBoer12.txt'\n",
    "# Any other SFH can be used as long as the 1st and 2nd \n",
    "# columns of the file are respectively the galactic age\n",
    "# in yr and the SFR in Mo/yr.\n",
    "\n",
    "# Define the final stellar mass\n",
    "# The input SFH will be re-normalized\n",
    "ms = 5.0e9\n",
    "\n",
    "# Define the current stellar mass\n",
    "o1 = omega.omega(in_out_control=True,stellar_mass_0=ms,sfh_file=sfh,mgal=1.0e10,in_out_ratio=1.0,mass_loading=1.0)\n",
    "o2 = omega.omega(in_out_control=True,stellar_mass_0=ms,sfh_file=sfh,mgal=1.0e10,in_out_ratio=1.0,mass_loading=25.0)\n",
    "o3 = omega.omega(in_out_control=True,stellar_mass_0=ms,sfh_file=sfh,mgal=1.0e10,in_out_ratio=2.0,mass_loading=25.0)"
   ]
  },
  {
   "cell_type": "code",
   "execution_count": null,
   "metadata": {
    "collapsed": false
   },
   "outputs": [],
   "source": [
    "# Chose your X and Y axis\n",
    "x = '[Fe/H]'\n",
    "y = '[Mg/Fe]'\n",
    "\n",
    "# Plot predictions\n",
    "o1.plot_spectro(fig=3, xaxis=x, yaxis=y, color='k', label='$mgal=1*10^{10} M_\\odot$,  $\\eta=1$,   $I/O=1$')\n",
    "o2.plot_spectro(fig=3, xaxis=x, yaxis=y, color='g', label='$mgal=1*10^{10} M_\\odot$,  $\\eta=25$,  $I/O=1$')\n",
    "o3.plot_spectro(fig=3, xaxis=x, yaxis=y, color='b', label='$mgal=1*10^{10} M_\\odot$,  $\\eta=25$,  $I/O=2$')\n",
    "\n",
    "# Set the X and Y axis ranges\n",
    "plt.ylim(-1.0,1.0)\n",
    "plt.xlim(-4.5,0.5)\n",
    "\n",
    "# Plot the outflow rates\n",
    "o2.plot_outflow_rate(fig=4, color='g', label='$mgal=1*10^{10} M_\\odot$,  $\\eta=25$,  $I/O=1$')"
   ]
  },
  {
   "cell_type": "markdown",
   "metadata": {},
   "source": [
    "###2.2. The SF Model"
   ]
  },
  {
   "cell_type": "markdown",
   "metadata": {},
   "source": [
    "The SF model stands for star formation law.  Instead of defining the initial mass of gas, the following equation is used to calculate the mass of gas at each time $t$ (e.g., <a href=\"http://adsabs.harvard.edu/abs/2006RPPh...69.3101B\">Baugh 2006</a>; <a href=\"http://adsabs.harvard.edu/abs/2015ARA%26A..53...51S\">Somerville & Davé 2015</a>),\n",
    "\n",
    "$$\\dot{M}_\\star(t)=f_\\star\\frac{M_{gas}(t)}{\\tau_\\star},\\qquad\\qquad(4)$$\n",
    "\n",
    "where $f_\\star$ and $\\tau_\\star$ are the star formation efficiency and timescale.  These quantify are respectively set by the **sfe** and the **t_star** parameters.  With the SF model, the outflow rate is still defined by the **mass_loading** parameter.  The inflow rate, the only unknown quantity in equation (2), is calculated at each timestep."
   ]
  },
  {
   "cell_type": "code",
   "execution_count": null,
   "metadata": {
    "collapsed": false
   },
   "outputs": [],
   "source": [
    "# Instance of a SF model\n",
    "# The star formation timescale t_star is in units of yr\n",
    "o_sf = omega.omega(SF_law=True, cte_sfr=1.0, mass_loading=1.0, sfe=0.01, t_star=1.0e8)"
   ]
  },
  {
   "cell_type": "code",
   "execution_count": null,
   "metadata": {
    "collapsed": false
   },
   "outputs": [],
   "source": [
    "# Plot the mass of gas as a function of time\n",
    "o_no_out.plot_totmasses(fig=5, color='r', label='IO model - no outflow')\n",
    "o_in_out.plot_totmasses(fig=5, color='b', label='IO model')\n",
    "o_sf.plot_totmasses(    fig=5, color='g', label='SF model')\n",
    "o_cl_box.plot_totmasses(fig=5, color='k', label='Closed box')\n",
    "\n",
    "# Set Y axis ranges\n",
    "plt.xlim(1e8,13e9)\n",
    "plt.ylim(1e9,5e10)"
   ]
  },
  {
   "cell_type": "markdown",
   "metadata": {},
   "source": [
    "###2.3. The MA Model"
   ]
  },
  {
   "cell_type": "markdown",
   "metadata": {},
   "source": [
    "The MA model stands for mass assembly, since the total mass of the galaxy is assumed to be increasing with time.  It still uses the star formation law presented in equation (4).  The total mass of a galaxy at time $t$, or the virial mass, is defined by\n",
    "\n",
    "$$M_{\\rm vir}(t)=M_{\\rm gas}(t)+M_{\\rm DM}(t)\\approx M_{\\rm DM}(t),\\qquad\\qquad(5)$$\n",
    "\n",
    "where $M_{\\rm DM}$ is the dark matter halo mass.  The MA model uses the relation derived by <a href=\"http://adsabs.harvard.edu/abs/2010MNRAS.406.2267F\">Fakhouri et al. (2010)</a>, from the Millenium II cosmological N-body simulation (<a href=\"http://adsabs.harvard.edu/abs/2009MNRAS.398.1150B\">Boylan-Kolchin et al. 2009</a>), to calculate the average mass inflow rate $\\dot{M}_{DM}$ of dark matter as a function of $M_{\\rm DM}$ and redshift ($z$),\n",
    "\n",
    "$$\\dot{M}_{DM}=46.1\\left(\\frac{M_{DM}}{10^{12}\\mbox{M}_\\odot}\\right)^{1.1}(1+1.11z)\\sqrt{\\Omega_0(1+z)^3+\\lambda_0}\\quad\\mbox{[M}_\\odot\\,\\mbox{yr}^{-1}\\mbox{]}.\\qquad\\qquad(6)$$\n",
    "\n",
    "Here $\\Omega_0$ adn $\\lambda_0$ are the mass density and dark energy density parameters in the $\\Lambda$CDM model (<a href=\"http://adsabs.harvard.edu/abs/2009ApJS..180..306D\">Dunkley et al. 2009</a>).  Equation (6) is normalized by setting the final dark matter halo mass at the end of the simulation ($z=0$) with the **m_DM_0** parameter."
   ]
  },
  {
   "cell_type": "code",
   "execution_count": null,
   "metadata": {
    "collapsed": false
   },
   "outputs": [],
   "source": [
    "# Instance of a MA model\n",
    "# The final dark matter halo mass is in units of solar mass\n",
    "o_ma = omega.omega(DM_evolution=True, m_DM_0=1e11, mass_loading=25, sfe=0.01)"
   ]
  },
  {
   "cell_type": "code",
   "execution_count": null,
   "metadata": {
    "collapsed": false
   },
   "outputs": [],
   "source": [
    "# Plot the mass of the dark matter halo as a function of time\n",
    "o_ma.plot_dark_matter(fig=6)"
   ]
  },
  {
   "cell_type": "markdown",
   "metadata": {},
   "source": [
    "####2.3.1 Evolving Mass Loading Factor"
   ]
  },
  {
   "cell_type": "markdown",
   "metadata": {},
   "source": [
    "The mass-loading factor can be defined by (<a href=\"http://adsabs.harvard.edu/abs/2005ApJ...618..569M\">Murray et al. 2005</a>)\n",
    "\n",
    "$$\\eta\\propto v_{\\rm out}^{-\\gamma},\\qquad\\qquad(7)$$\n",
    "\n",
    "where $v_{\\rm out}$ is the velocity of the outflowing material and $\\gamma$ a constant which can be set by the **exp_ml** parameter.  Observations suggest that $v_\\mathrm{out}$ is proportional to the rotation speed of galaxies (<a href=\"http://adsabs.harvard.edu/abs/2005ApJ...621..227M\">Martin 2005</a>), which is also proportional to the virial velocity $V_\\mathrm{vir}$ of the host dark matter halo.  Considering the virial theorem and the assumption that halos form when their average density is 200 times larger than the average density of the Universe at the time of formation,\n",
    "\n",
    "$$V_\\mathrm{vir}(t)^2=\\frac{GM_\\mathrm{vir}(t)}{R_\\mathrm{vir}(t)},\\qquad\\qquad(8)$$\n",
    "\n",
    "$$R_\\mathrm{vir}(t)\\approx\\left[\\frac{3M_\\mathrm{vir}(t)}{800\\pi\\bar{\\rho}_0}\\right]^{1/3}(1+z)^{-1},\\qquad\\qquad(9)$$\n",
    "\n",
    "where $R_\\mathrm{vir}$ is the virial radius of the dark matter halo.  By combining these three last equations, the mass loading factor becomes defined by\n",
    "\n",
    "$$\\eta(t)=C_\\eta M_\\mathrm{vir}(t)^{-\\gamma /3}(1+z)^{-\\gamma/2}.\\qquad\\qquad(10)$$\n",
    "\n",
    "The code has a subroutine to convert the redshift into galactic age.  When using the MA model, the **mass_loading** parameter is still used, but it then refers to the final value at the end of the simulation.  From that information, the $C_\\eta$ normalization constant is calculated.  We refer to <a href=\"http://adsabs.harvard.edu/abs/2012MNRAS.421.3522H\">Hopkins et al. (2012)</a> and <a href=\"http://adsabs.harvard.edu/abs/2015arXiv150103155M\">Muratov et al. (2015)</a> for alternative functions for the mass-loading factor."
   ]
  },
  {
   "cell_type": "code",
   "execution_count": null,
   "metadata": {
    "collapsed": false
   },
   "outputs": [],
   "source": [
    "# Plot the mass loading factor as a function of time\n",
    "o_ma.plot_mass_loading(fig=7)\n",
    "\n",
    "# Plot the evolution of redshift as a function of time\n",
    "o_ma.plot_redshift(fig=8)"
   ]
  },
  {
   "cell_type": "markdown",
   "metadata": {},
   "source": [
    "####2.3.2. Evolving Star Formation Timescale"
   ]
  },
  {
   "cell_type": "markdown",
   "metadata": {},
   "source": [
    "With the MA model, the star formation timescale $\\tau_\\star$ is assumed to be proportional to the dynamical timescale $\\tau_\\mathrm{dyn}$ of the virialized system (e.g., <a href=\"http://adsabs.harvard.edu/abs/1999MNRAS.303..188K\">Kauffmann et al. 1999</a>; <a href=\"http://adsabs.harvard.edu/abs/2000MNRAS.319..168C\">Cole et al. 2000</a>; <a href=\"http://adsabs.harvard.edu/abs/2001MNRAS.328..726S\">Springel et al. 2001</a>).  With $\\tau_\\mathrm{dyn}\\approx~R_\\mathrm{vir}/V_\\mathrm{vir}$ and the relation for $R_\\mathrm{vir}$ defined in <a href=\"http://adsabs.harvard.edu/abs/1991ApJ...379...52W\">White & Frenk (1991)</a>,\n",
    "\n",
    "$$R_\\mathrm{vir}=0.1H_0^{-1}(1+z)^{-3/2}V_\\mathrm{vir},\\qquad\\qquad(11)$$\n",
    "\n",
    "where $H_0$ is the current Hubble constant, the star formation timescale is given by\n",
    "\n",
    "$$\\tau_\\star=f_\\mathrm{dyn}\\tau_\\mathrm{dyn}\\approx0.1f_\\mathrm{dyn}H_0^{-1}(1+z)^{-3/2}.\\qquad\\qquad(12)$$\n",
    "\n",
    "The $f_{\\rm dyn}$ constant can be set with the **f_dyn** parameter.  The star formation efficiency used in equation (4) can still be set by the **sfe** parameter."
   ]
  },
  {
   "cell_type": "code",
   "execution_count": null,
   "metadata": {
    "collapsed": false
   },
   "outputs": [],
   "source": [
    "# Because the star formation timescale is evolving, the\n",
    "# mass of gas is also evolving (see equation 4), which is\n",
    "# not the case in the SF model.  \n",
    "o_no_out.plot_totmasses(fig=9, color='r', label='IO model - no outflow')\n",
    "o_in_out.plot_totmasses(fig=9, color='b', label='IO model')\n",
    "o_sf.plot_totmasses(    fig=9, color='g', label='SF model')\n",
    "o_ma.plot_totmasses(    fig=9, color='c', label='MA model')\n",
    "o_cl_box.plot_totmasses(fig=9, color='k', label='Closed box')\n",
    "plt.xlim(1e8,13e9)\n",
    "plt.ylim(5e8,5e10)"
   ]
  },
  {
   "cell_type": "markdown",
   "metadata": {},
   "source": [
    "##3. Simulating Local Galaxies"
   ]
  },
  {
   "cell_type": "markdown",
   "metadata": {},
   "source": [
    "OMEGA can use the observed characteristics of known galaxies in order to reproduce their chemical evolution.  When selecting a known galaxy with the **galaxy** parameter, the code automatically loads the corresponding SFH, **stellar_mass_0**, and **m_DM_0**.  Here is a list of the current considered galaxies (see the Stellab module for observational stellar abundances data):\n",
    "\n",
    "\n",
    "**Milky Way** (galaxy='milky_way')\n",
    "\n",
    "* SFH : model of <a href=\"http://adsabs.harvard.edu/abs/2001ApJ...554.1044C\">Chiappini et al. (2001)</a>\n",
    "* Current stellar mass : 5 x 10$^{10}$ M$_\\odot$ (<a href=\"http://adsabs.harvard.edu/abs/2006MNRAS.372.1149F\">Flynn et al. 2006</a>; <a href=\"http://adsabs.harvard.edu/abs/2007ApJ...662..322H\">Hammer et al. 2007</a>; <a href=\"http://adsabs.harvard.edu/abs/2011MNRAS.414.2446M\">McMillan 2011</a>)\n",
    "* Current dark matter mass : 1 x 10$^{12}$ M$_\\odot$ (<a href=\"http://adsabs.harvard.edu/abs/2008ApJ...684.1143X\">Xue et al. 2008</a>; <a href=\"http://adsabs.harvard.edu/abs/2011MNRAS.414.2446M\">McMillan 2011</a>; <a href=\"http://adsabs.harvard.edu/abs/2015MNRAS.453..377W\">Wang et al. 2015</a>)\n",
    "\n",
    "**Sculptor** (galaxy='sculptor')\n",
    "\n",
    "* SFH : <a href=\"http://adsabs.harvard.edu/abs/2012A%26A...539A.103D\">de Boer et al. (2012a)</a>\n",
    "* Current stellar mass : 7.8 x 10$^{6}$ M$_\\odot$ (<a href=\"http://adsabs.harvard.edu/abs/2012A%26A...539A.103D\">de Boer et al. 2012a</a>)\n",
    "* Current dark matter mass : 1.5 x 10$^{9}$ M$_\\odot$ (<a href=\"http://adsabs.harvard.edu/abs/2010MNRAS.408.2364S\">Strigari et al. 2010</a>)\n",
    "\n",
    "\n",
    "**Fornax** (galaxy='fornax')\n",
    "\n",
    "* SFH : <a href=\"http://adsabs.harvard.edu/abs/2012A%26A...544A..73D\">de Boer et al. (2012b)</a>\n",
    "* Current stellar mass : 4.3 x 10$^{7}$ M$_\\odot$ (<a href=\"http://adsabs.harvard.edu/abs/2012A%26A...544A..73D\">de Boer et al. 2012b</a>)\n",
    "* Current dark matter mass : 7.1 x 10$^{8}$ M$_\\odot$ (<a href=\"http://adsabs.harvard.edu/abs/2010MNRAS.408.2364S\">Strigari et al. 2010</a>)\n",
    "\n",
    "\n",
    "**Carina** (galaxy='carina')\n",
    "\n",
    "* SFH : <a href=\"http://adsabs.harvard.edu/abs/2014A%26A...572A..10D\">de Boer et al. (2014)</a>\n",
    "* Current stellar mass : 1.1 x 10$^{6}$ M$_\\odot$ (<a href=\"http://adsabs.harvard.edu/abs/2014A%26A...572A..10D\">de Boer et al. 2014</a>)\n",
    "* Current dark matter mass : 3.4 x 10$^{6}$ M$_\\odot$ (<a href=\"http://adsabs.harvard.edu/abs/2014A%26A...572A..10D\">de Boer et al. 2014</a>; <a href=\"http://adsabs.harvard.edu/abs/2015NatCo...6E7599U\">Ural et al. 2015</a>)"
   ]
  },
  {
   "cell_type": "markdown",
   "metadata": {},
   "source": [
    "###3.1. Example with Fornax"
   ]
  },
  {
   "cell_type": "code",
   "execution_count": null,
   "metadata": {
    "collapsed": false
   },
   "outputs": [],
   "source": [
    "# Closed box\n",
    "fo_cl = omega.omega(galaxy='fornax', mgal=5e7)\n",
    "# IO model\n",
    "fo_io = omega.omega(galaxy='fornax', in_out_control=True, mgal=5e6, mass_loading=3, in_out_ratio=1.5)\n",
    "# SF model\n",
    "fo_sf = omega.omega(galaxy='fornax', SF_law=True, mass_loading=5, sfe=0.05, t_star=1e8)\n",
    "# MA model\n",
    "fo_ma = omega.omega(galaxy='fornax', DM_evolution=True, mass_loading=1, exp_ml=2, sfe=0.01, f_dyn=0.1)"
   ]
  },
  {
   "cell_type": "code",
   "execution_count": null,
   "metadata": {
    "collapsed": false
   },
   "outputs": [],
   "source": [
    "x = '[Fe/H]'\n",
    "y = '[Si/Fe]'\n",
    "fo_cl.plot_spectro(fig=10, xaxis=x, yaxis=y, color='b', label='Closed box')\n",
    "fo_io.plot_spectro(fig=10, xaxis=x, yaxis=y, color='r', label='IO model')\n",
    "fo_sf.plot_spectro(fig=10, xaxis=x, yaxis=y, color='g', label='SF model')\n",
    "fo_ma.plot_spectro(fig=10, xaxis=x, yaxis=y, color='k', label='MA model')"
   ]
  },
  {
   "cell_type": "markdown",
   "metadata": {},
   "source": [
    "##4. Summary"
   ]
  },
  {
   "cell_type": "markdown",
   "metadata": {},
   "source": [
    "Here is a summary of all the different options and their associated parameters.  The **cte_sfr**, **sfh_file**, and **stellar_mass_0** parameters can always be used when **galaxy** is not specified."
   ]
  },
  {
   "cell_type": "markdown",
   "metadata": {},
   "source": [
    "###Closed Box (default mode)"
   ]
  },
  {
   "cell_type": "markdown",
   "metadata": {},
   "source": [
    "* **mgal** : initial mass of gas [M$_\\odot$]"
   ]
  },
  {
   "cell_type": "markdown",
   "metadata": {},
   "source": [
    "###IO Model (in_out_control=True)"
   ]
  },
  {
   "cell_type": "markdown",
   "metadata": {},
   "source": [
    "  * **mgal** : initial mass of gas [M$_\\odot$]\n",
    "  * **inflow_rate** : constant mass inflow rate [M$_\\odot$ yr$^{-1}$]\n",
    "  * **outflow_rate** : constant mass outflow rate [M$_\\odot$ yr$^{-1}$]\n",
    "  * **mass_loading** : mass loading factor\n",
    "  * **in_out_ratio** : ratio between the inflow and outflow rates"
   ]
  },
  {
   "cell_type": "markdown",
   "metadata": {},
   "source": [
    "###SF Model (SF_law=True)"
   ]
  },
  {
   "cell_type": "markdown",
   "metadata": {},
   "source": [
    "* **sfe** : star formation efficiency\n",
    "* **t_star** : star formation timescale [yr]\n",
    "* **mass_loading** : mass loading factor"
   ]
  },
  {
   "cell_type": "markdown",
   "metadata": {},
   "source": [
    "###MA Model (DM_evolution=True)"
   ]
  },
  {
   "cell_type": "markdown",
   "metadata": {},
   "source": [
    "* **sfe** : star formation efficiency\n",
    "* **f_dyn** : fraction of the dynamical timescale representing the star formation timescale\n",
    "* **mass_loading** : final value of the mass loading factor (at the end of the simulation)\n",
    "* **exp_ml** : exponent value in the relation betwee $\\eta$ and $v_{\\rm out}$"
   ]
  },
  {
   "cell_type": "markdown",
   "metadata": {},
   "source": [
    "##5. Contact"
   ]
  },
  {
   "cell_type": "markdown",
   "metadata": {},
   "source": [
    "If you encounter any problem or if you have questions or comments, please contact Benoit Côté at bcote@uvic.ca"
   ]
  }
 ],
 "metadata": {
  "kernelspec": {
   "display_name": "Python 2",
   "language": "python",
   "name": "python2"
  },
  "language_info": {
   "codemirror_mode": {
    "name": "ipython",
    "version": 2
   },
   "file_extension": ".py",
   "mimetype": "text/x-python",
   "name": "python",
   "nbconvert_exporter": "python",
   "pygments_lexer": "ipython2",
   "version": "2.7.9"
  }
 },
 "nbformat": 4,
 "nbformat_minor": 0
}
