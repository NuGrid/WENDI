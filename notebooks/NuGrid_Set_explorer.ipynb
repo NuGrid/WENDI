{
 "cells": [
  {
   "cell_type": "markdown",
   "metadata": {},
   "source": [
    "#Widget exploration of NuGrid stellar evolution and post-processing data\n",
    "***Note for ANITA summer school lab students:*** for Z=0.01 and Z=0.02 massive star models stellar evolution tracks and nucleosynthesis post-processing datat are from two different sets. The former are from our MESA set of stellar evolution models, the latter are post-processing data based on the GENEC massive star stellar evolution data set. Don't ask why, and this will be fixed probably already tomorrow ;-) \n",
    "\n",
    "Usage: Just execute the first of these cells (klick and Shift-Return)"
   ]
  },
  {
   "cell_type": "code",
   "execution_count": null,
   "metadata": {
    "collapsed": false,
    "scrolled": false
   },
   "outputs": [],
   "source": [
    "start_explorer(globals())"
   ]
  },
  {
   "cell_type": "code",
   "execution_count": null,
   "metadata": {
    "collapsed": false
   },
   "outputs": [],
   "source": [
    "start_explorer(globals(), True)                    # select custum data sources"
   ]
  },
  {
   "cell_type": "code",
   "execution_count": null,
   "metadata": {
    "collapsed": true
   },
   "outputs": [],
   "source": [
    "start_explorer(globals(), manual_data_select=True) # select custum data sources"
   ]
  }
 ],
 "metadata": {
  "kernelspec": {
   "display_name": "Python 2",
   "language": "python",
   "name": "python2"
  },
  "language_info": {
   "codemirror_mode": {
    "name": "ipython",
    "version": 2
   },
   "file_extension": ".py",
   "mimetype": "text/x-python",
   "name": "python",
   "nbconvert_exporter": "python",
   "pygments_lexer": "ipython2",
   "version": "2.7.9"
  }
 },
 "nbformat": 4,
 "nbformat_minor": 0
}
