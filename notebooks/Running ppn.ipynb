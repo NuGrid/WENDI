{
 "metadata": {
  "name": "",
  "signature": "sha256:f71cfd4306108ddaf6115ab66626b82eeae2335bb9e0221d37e5ac47050c6945"
 },
 "nbformat": 3,
 "nbformat_minor": 0,
 "worksheets": [
  {
   "cells": [
    {
     "cell_type": "heading",
     "level": 3,
     "metadata": {},
     "source": [
      "A Basic PPN run."
     ]
    },
    {
     "cell_type": "markdown",
     "metadata": {},
     "source": [
      "pyppn.PPNSet this function tackes 3 parametes with another 5 optional parameters. The parameters are dir, ppn_dir, threads, include_files, parameter, ppn_frame, ppn_physics and ppn_solver. dir is the path to the desired run directory, ppn_dir is the path to the svn tree, threads is the maximum number of cpu threads to use at once, include_files is an optional list of files that should be included in every PPN run directory. Finaly parameter, ppn_frame, ppn_physics and ppn_solver are strings that point to the default files for ppn that sould be used if the standard default is not desired, the standard defaults are found in their respective RUN_TEMPLATE directories."
     ]
    },
    {
     "cell_type": "code",
     "collapsed": false,
     "input": [
      "%cd /mnt/nugrid/forum.astro.keele.ac.uk/frames/ppn/RUN1\n",
      "import pyppn\n",
      "ppn_dir = \"/mnt/nugrid/forum.astro.keele.ac.uk\"\n",
      "run = pyppn.PPNSet(\"./RUNS\", ppn_dir, 2)\n",
      "T9 = [\"0.055\", \"0.090\"]\n",
      "run_names = [\"run_T9\" + temp for temp in T9]"
     ],
     "language": "python",
     "metadata": {},
     "outputs": []
    },
    {
     "cell_type": "markdown",
     "metadata": {},
     "source": [
      "Define the input file parameters that will be constant for all of PPN runs.\n",
      "\n",
      "The functions set_ppn_frame, set_ppn_physics, set_ppn_solver, set_parameter\n",
      "can set the values in all of the PPN .inc and .input files. To add a parameter\n",
      "to one of these files you can either set it using a named argument, or by passing\n",
      "dictonary with all of the parameters.\n",
      "\n",
      "The function get_VITAL_info strips the information about the VITAL network from the\n",
      "end of a ppn_physics file and adds it to the ppn_physics file for all of the runs.\n",
      "If a file name is passed to the function it will strip the information from that file,\n",
      "if not it will getit from \"physics/phys08/RUN_TEMPLATE\"."
     ]
    },
    {
     "cell_type": "code",
     "collapsed": false,
     "input": [
      "run.set_ppn_frame(T_MAX = \"1.5E+04\", DT_MAX = \"5.0D+3\", IOLEVEL = \"1\")\n",
      "run.set_ppn_physics(I_NSE = '0', NVCP='57', NRCP= '110', NNN = '147', \\\n",
      "                    INDEX_REACLIB = \"2\")\n",
      "run.set_ppn_solver(mat_solv_option = \"1\")\n",
      "run.get_VITAL_info()\n"
     ],
     "language": "python",
     "metadata": {},
     "outputs": []
    },
    {
     "cell_type": "markdown",
     "metadata": {},
     "source": [
      "Define the parameters that vary over the runs and start the PPN run.\n",
      "\n",
      "The function run_set tackes one required argument and 7 optional arguments, the arguments are dir_list, ppn_frame, ppn_physics, ppn_solver, variable_include, custom_init, init_args and init_kwargs.\n",
      "\n",
      "dir_list is a list with a name for each of the PPN runs. ppn_frame, ppn_physics and ppn_solver tack a dictonary where each key is a parameter to set and the value is a list contaning the values for each PPN run. variable_include is a list containing a list of files for each PPN run, these are the extra files that should be included but change for each run. custom_init is a call back to a custome initalization that is called at the start of each run routine that tackes the parameters init_args and init_kwargs. init_args and init_kwargs are list of the parameters that are tobe passed to the initalization routine for each run, init_args is a list of lists and init_kwargs is a list of dictonarys."
     ]
    },
    {
     "cell_type": "code",
     "collapsed": false,
     "input": [
      "run.run_set(run_names, ppn_frame={\"T9\":T9})"
     ],
     "language": "python",
     "metadata": {},
     "outputs": []
    },
    {
     "cell_type": "code",
     "collapsed": false,
     "input": [
      "import ppn\n",
      "p1=ppn.xtime('RUNS/run_T90.055')\n",
      "p2=ppn.xtime('RUNS/run_T90.090')\n",
      "p1.plot('time','C  13',shape='-',logy=True,logx=True,legend='T9=0.055')\n",
      "p2.plot('time','C  13',shape='-',logy=True,logx=True,legend='T9=0.090')"
     ],
     "language": "python",
     "metadata": {},
     "outputs": []
    },
    {
     "cell_type": "heading",
     "level": 3,
     "metadata": {},
     "source": [
      "Running PPN using extra data files"
     ]
    },
    {
     "cell_type": "code",
     "collapsed": false,
     "input": [
      "%cd /mnt/nugrid/forum.astro.keele.ac.uk/frames/ppn/RUN1\n",
      "ppn_dir = \"/mnt/nugrid/forum.astro.keele.ac.uk\"\n",
      "run = pyppn.PPNSet(\"./RUNS\", ppn_dir, 2)\n",
      "run_names = [\"run_trajectory_1\", \"run_trajectory_2\"]"
     ],
     "language": "python",
     "metadata": {},
     "outputs": []
    },
    {
     "cell_type": "markdown",
     "metadata": {},
     "source": [
      "Setup PPN to use trajectory.input files.\n",
      "\n",
      "The functon get_file_set tackes 2 required arugumenst and one optional one, the arguments are pattern, target and the optional one is include. patter is the fill patter to match, all matching files are added to the list of included files, target is the name that the file should have inside of the run directory. include is an existing list of include files, if this is not [] then one of each of the files found will be added to the existing file lists passed in include, sothat each run will have one of each type of file. "
     ]
    },
    {
     "cell_type": "code",
     "collapsed": false,
     "input": [
      "run.set_ppn_frame(T9 = \"0.0D0\", NSOURCE = \"1\", IOLEVEL = \"1\", IABUINI = \"1\")\n",
      "run.set_ppn_physics(I_NSE = '0', NVCP='57', NRCP= '110', NNN = '147', \\\n",
      "                    INDEX_REACLIB = \"2\")\n",
      "run.get_VITAL_info()\n",
      "run.set_ppn_solver(ITTD = \"6\", DGRD = \"1.0d-3\", GRDTHRESHOLD = \"1.0D-15\", IRDN = \"2\", CYMINFORMAL = \"1.0D-30\", mat_solv_option = \"1\")\n",
      "pattern = \"/home/nugrid/NuGrid_notebooks/Dev_notebooks/pyppn_examples_data/zone*\"\n",
      "include_list = run.get_file_set(pattern=pattern, target=\"./trajectory.input\")\n"
     ],
     "language": "python",
     "metadata": {},
     "outputs": []
    },
    {
     "cell_type": "markdown",
     "metadata": {},
     "source": [
      "Start the PPN with the list of lists of files to include for each run."
     ]
    },
    {
     "cell_type": "code",
     "collapsed": false,
     "input": [
      "run.run_set(run_names, variable_include=include_list)"
     ],
     "language": "python",
     "metadata": {},
     "outputs": []
    },
    {
     "cell_type": "code",
     "collapsed": false,
     "input": [
      "import ppn\n",
      "p1=ppn.xtime('RUNS/run_trajectory_1')\n",
      "p2=ppn.xtime('RUNS/run_trajectory_2')\n",
      "p1.plot('time','C  13',shape='-',logy=True,logx=True,legend='trajectory 1')\n",
      "p2.plot('time','C  13',shape='-',logy=True,logx=True,legend='trajectory 2')"
     ],
     "language": "python",
     "metadata": {},
     "outputs": []
    },
    {
     "cell_type": "heading",
     "level": 3,
     "metadata": {},
     "source": [
      "Edditing Files in the individual runs"
     ]
    },
    {
     "cell_type": "markdown",
     "metadata": {},
     "source": [
      "Start a set of PPN runs this time include_files is set sothat both runs will have a copy of the existing networksetup.txt. The parameter include_files tackes a list of tuples, each tuple contains the path to the source file, and the target path."
     ]
    },
    {
     "cell_type": "code",
     "collapsed": false,
     "input": [
      "%cd /mnt/nugrid/forum.astro.keele.ac.uk/frames/ppn/RUN1\n",
      "ppn_dir = \"/mnt/nugrid/forum.astro.keele.ac.uk\"\n",
      "run = pyppn.PPNSet(\"./RUNS\", ppn_dir, 2, [(\"/home/nugrid/NuGrid_notebooks/Dev_notebooks/pyppn_examples_data/networksetup.txt\", \\\n",
      "                                          \"/networksetup.txt\")])\n",
      "run_names = [\"run1\", \"run2\"]\n"
     ],
     "language": "python",
     "metadata": {},
     "outputs": []
    },
    {
     "cell_type": "markdown",
     "metadata": {},
     "source": [
      "Setup the PPN files, this time a parameter.inc file is used that is differnt from the default. If the module detects a difference from the parameter settings and the last one used then the ppn.exe code is automaticly recompiled."
     ]
    },
    {
     "cell_type": "code",
     "collapsed": false,
     "input": [
      "run.set_parameter(NSP=\"6000\", NRE=\"75000\", MSL=\"1\", ndim_rl=\"74313\", nnpartdim=\"5456\")\n",
      "run.set_ppn_frame(T_MAX = \"1.5E+04\", DT_MAX = \"5.0D+3\", IOLEVEL = \"1\")\n",
      "run.set_ppn_physics(ININET=\"3\", I_NSE = '0', NVCP='57', NRCP= '110', NNN = '147', \\\n",
      "                    INDEX_REACLIB = \"2\")\n",
      "run.set_ppn_solver(mat_solv_option = \"1\")\n",
      "run.get_VITAL_info()\n"
     ],
     "language": "python",
     "metadata": {},
     "outputs": []
    },
    {
     "cell_type": "markdown",
     "metadata": {},
     "source": [
      "A custom initalization function is deffined, evey initalization function must take the current PPNRun object as the first parameter. This function uses the EditFile class to change the networksetup.txt file. The function replace takes 3 arguments, the new string that will replace the old one, number of the line where the replacment should occur, and eith an integer or a list if a list is given it indicated the section of the line to replace by the number of characters, if an integer is given it indicate the column to replace where columns are deliminated by white space.\n",
      "the function over writes the old file with the new version."
     ]
    },
    {
     "cell_type": "code",
     "collapsed": false,
     "input": [
      "def setup_files(self, disable_reaction, reaction_rate = \"1.000E+00\"):\n",
      "    network = pyppn.EditFile(self.dir + \"/networksetup.txt\")\n",
      "    if disable_reaction:\n",
      "        network.replace(\"F\", 168, [8, 9])\n",
      "        network.replace(\"F\", 169, [8, 9])\n",
      "    network.replace(reaction_rate, 170, 20)\n",
      "    network.save()\n",
      "    "
     ],
     "language": "python",
     "metadata": {},
     "outputs": []
    },
    {
     "cell_type": "markdown",
     "metadata": {},
     "source": [
      "run_set is called with a custom initalization routine, custom_init is a callback for exicuting initalization functions, init_args should be a list of the list of arguments for the initalization function in each run. Also init_kwargs can be used to pass named arguments to the initalization routine."
     ]
    },
    {
     "cell_type": "code",
     "collapsed": false,
     "input": [
      "run.run_set(run_names, custom_init=setup_files, init_args=[[False], [True, \"4.000E+00\"]])\n"
     ],
     "language": "python",
     "metadata": {},
     "outputs": []
    },
    {
     "cell_type": "code",
     "collapsed": false,
     "input": [
      "import ppn\n",
      "p1=ppn.xtime('RUNS/run1')\n",
      "p2=ppn.xtime('RUNS/run2')\n",
      "p1.plot('time','HE  3',shape='-',logy=True,logx=True,legend='run 1')\n",
      "p2.plot('time','HE  3',shape='-',logy=True,logx=True,legend='run 2')"
     ],
     "language": "python",
     "metadata": {},
     "outputs": []
    },
    {
     "cell_type": "code",
     "collapsed": false,
     "input": [],
     "language": "python",
     "metadata": {},
     "outputs": []
    }
   ],
   "metadata": {}
  }
 ]
}